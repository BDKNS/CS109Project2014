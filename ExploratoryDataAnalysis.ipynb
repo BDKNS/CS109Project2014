{
 "metadata": {
  "name": "",
  "signature": "sha256:252e8b8707dd06f2aa4a42365340846048b718839e90ea29e287f3025b029ed5"
 },
 "nbformat": 3,
 "nbformat_minor": 0,
 "worksheets": [
  {
   "cells": [
    {
     "cell_type": "code",
     "collapsed": false,
     "input": [
      "import requests\n",
      "import json\n",
      "import time\n",
      "import re\n",
      "import os\n",
      "import sys\n",
      "from csv import writer\n",
      "import pandas as pd\n",
      "import numpy as np\n",
      "\n",
      "#given a url as a string, it will try to get it\n",
      "def get_url(url):\n",
      "    headers = {\"User-Agent\": user_agent}\n",
      "\n",
      "    try:\n",
      "        response = requests.get(url,headers=headers)\n",
      "        #response.raise_for_status()\n",
      "    except requests.exceptions.RequestException as e:\n",
      "        print e\n",
      "    return response\n",
      "\n",
      "'''\n",
      "#\n",
      "user_agent = 'CS109 Data wrangling by BDKNS'\n",
      "#Delay is set to 2 as we are using the unauthenticated reddit API\n",
      "#and we can only make a call every 2 seconds\n",
      "delay = 2.0\n",
      "#total number of iterations to run\n",
      "#each iteration grabs 100 posts, and takes at least\n",
      "#2 seconds to run\n",
      "total = 10\n",
      "\n",
      "#post_id, post_title, subreddit_title, subreddit_id\n",
      "#self_post, num_comments, score, textual content\n",
      "#gilded, publication date, edited, mature, moderated\n",
      "out_file = open('lotsofposts.csv', 'w')\n",
      "csv = writer(out_file)\n",
      "csv.writerow(['id','title','subreddit_title','subreddit_id','self_post',\n",
      "       'num_comments','score','text_content','gilded','published_date', 'mature','user_id','url','permalink'])\n",
      "\n",
      "#This is used to strip out none alpha-numeric characters\n",
      "pattern = re.compile('[^0-9a-zA-Z\\.]+', re.UNICODE)\n",
      "\n",
      "#last_id.txt should have the last ID we grabed from reddit\n",
      "#if there is a value, we grab values after it, if there is\n",
      "#nothing we assume we need to start from the beggining\n",
      "\n",
      "#this creates the file if it is missing\n",
      "if not os.path.exists('last_id.txt'):\n",
      "    file('last_id.txt', 'w').close()\n",
      "f = open('last_id.txt', 'r')\n",
      "after = f.readline().rstrip('\\n')\n",
      "f.close()\n",
      "\n",
      "#If there is an error getting content from reddit, we just wait 5 seconds\n",
      "#and try again\n",
      "keep_trying = True\n",
      "error_count = 0\n",
      "\n",
      "#A count of how many iterations we have been through\n",
      "i = 0\n",
      "done = False\n",
      "\n",
      "start_time = time.time()\n",
      "\n",
      "while not done:\n",
      "    query_time = time.time()\n",
      "\n",
      "    while keep_trying == True:\n",
      "        try:\n",
      "            if after == None:\n",
      "                url = \"http://reddit.com/r/all/.json?limit=100\"\n",
      "                response = get_url(url)\n",
      "                response = json.loads(response.content)\n",
      "                after = response['data']['after']\n",
      "                keep_trying = False\n",
      "\n",
      "            else:\n",
      "                url = \"http://reddit.com/r/all/.json?limit=100&after=\"+after\n",
      "                response = get_url(url)\n",
      "                response = json.loads(response.content)\n",
      "                after = response['data']['after']\n",
      "                keep_trying = False\n",
      "\n",
      "        except Exception as e:\n",
      "            print e\n",
      "            if (error_count < 10):\n",
      "                error_count = error_count + 1\n",
      "                print \"error occured, sleeping for 5 seconds\"\n",
      "                time.sleep(5)\n",
      "                #authenticate again\n",
      "                pass\n",
      "            else:\n",
      "                keep_trying = False\n",
      "\n",
      "    keep_trying = True\n",
      "    f = open('last_id.txt', 'w')\n",
      "    f.write(after)\n",
      "    f.close()\n",
      "\n",
      "    for post in response['data']['children']:\n",
      "        #post = dict(post)\n",
      "\n",
      "        values = [post['data']['name'], post['data']['title'],post['data']['subreddit'],\n",
      "            post['data']['subreddit_id'], post['data']['is_self'], post['data']['num_comments'],\n",
      "            post['data']['score'], post['data']['selftext'].replace(\",\",\" \"), post['data']['gilded'],\n",
      "            post['data']['created_utc'], post['data']['over_18'], post['data']['author'], post['data']['url'],\n",
      "            post['data']['permalink']]\n",
      "        #make sure the encoding of all text is utf8\n",
      "        values = [(value.encode('utf8') if hasattr(value, 'encode') else value)\n",
      "                  for value in values]\n",
      "        #strip out any non alpha numeric chars\n",
      "        #to avoid problems later when we try to read in the CSV\n",
      "        values = [(pattern.sub(' ', s) if type(s) == type(str) else s)\n",
      "                  for s in values]\n",
      "        csv.writerow(values)\n",
      "\n",
      "    i = i + 1\n",
      "\n",
      "    if i >= total:\n",
      "        done = True\n",
      "\n",
      "    #we need to wait 2 seconds between API calls\n",
      "    run_time = delay - (time.time() - query_time)\n",
      "    if delay - run_time >= 0:\n",
      "        time.sleep((delay - run_time))\n",
      "    #time.sleep(delay - 0.5)\n",
      "    if ((i * 100) % 500) == 0:\n",
      "        print \"Total posts: \", i * 100\n",
      "        print \"Average time between API calls: \",(time.time() - start_time)/i\n",
      "\n",
      "out_file.close()\n",
      "'''"
     ],
     "language": "python",
     "metadata": {},
     "outputs": [
      {
       "metadata": {},
       "output_type": "pyout",
       "prompt_number": 13,
       "text": [
        "'\\n#\\nuser_agent = \\'CS109 Data wrangling by BDKNS\\'\\n#Delay is set to 2 as we are using the unauthenticated reddit API\\n#and we can only make a call every 2 seconds\\ndelay = 2.0\\n#total number of iterations to run\\n#each iteration grabs 100 posts, and takes at least\\n#2 seconds to run\\ntotal = 10\\n\\n#post_id, post_title, subreddit_title, subreddit_id\\n#self_post, num_comments, score, textual content\\n#gilded, publication date, edited, mature, moderated\\nout_file = open(\\'lotsofposts.csv\\', \\'w\\')\\ncsv = writer(out_file)\\ncsv.writerow([\\'id\\',\\'title\\',\\'subreddit_title\\',\\'subreddit_id\\',\\'self_post\\',\\n       \\'num_comments\\',\\'score\\',\\'text_content\\',\\'gilded\\',\\'published_date\\', \\'mature\\',\\'user_id\\',\\'url\\',\\'permalink\\'])\\n\\n#This is used to strip out none alpha-numeric characters\\npattern = re.compile(\\'[^0-9a-zA-Z\\\\.]+\\', re.UNICODE)\\n\\n#last_id.txt should have the last ID we grabed from reddit\\n#if there is a value, we grab values after it, if there is\\n#nothing we assume we need to start from the beggining\\n\\n#this creates the file if it is missing\\nif not os.path.exists(\\'last_id.txt\\'):\\n    file(\\'last_id.txt\\', \\'w\\').close()\\nf = open(\\'last_id.txt\\', \\'r\\')\\nafter = f.readline().rstrip(\\'\\n\\')\\nf.close()\\n\\n#If there is an error getting content from reddit, we just wait 5 seconds\\n#and try again\\nkeep_trying = True\\nerror_count = 0\\n\\n#A count of how many iterations we have been through\\ni = 0\\ndone = False\\n\\nstart_time = time.time()\\n\\nwhile not done:\\n    query_time = time.time()\\n\\n    while keep_trying == True:\\n        try:\\n            if after == None:\\n                url = \"http://reddit.com/r/all/.json?limit=100\"\\n                response = get_url(url)\\n                response = json.loads(response.content)\\n                after = response[\\'data\\'][\\'after\\']\\n                keep_trying = False\\n\\n            else:\\n                url = \"http://reddit.com/r/all/.json?limit=100&after=\"+after\\n                response = get_url(url)\\n                response = json.loads(response.content)\\n                after = response[\\'data\\'][\\'after\\']\\n                keep_trying = False\\n\\n        except Exception as e:\\n            print e\\n            if (error_count < 10):\\n                error_count = error_count + 1\\n                print \"error occured, sleeping for 5 seconds\"\\n                time.sleep(5)\\n                #authenticate again\\n                pass\\n            else:\\n                keep_trying = False\\n\\n    keep_trying = True\\n    f = open(\\'last_id.txt\\', \\'w\\')\\n    f.write(after)\\n    f.close()\\n\\n    for post in response[\\'data\\'][\\'children\\']:\\n        #post = dict(post)\\n\\n        values = [post[\\'data\\'][\\'name\\'], post[\\'data\\'][\\'title\\'],post[\\'data\\'][\\'subreddit\\'],\\n            post[\\'data\\'][\\'subreddit_id\\'], post[\\'data\\'][\\'is_self\\'], post[\\'data\\'][\\'num_comments\\'],\\n            post[\\'data\\'][\\'score\\'], post[\\'data\\'][\\'selftext\\'].replace(\",\",\" \"), post[\\'data\\'][\\'gilded\\'],\\n            post[\\'data\\'][\\'created_utc\\'], post[\\'data\\'][\\'over_18\\'], post[\\'data\\'][\\'author\\'], post[\\'data\\'][\\'url\\'],\\n            post[\\'data\\'][\\'permalink\\']]\\n        #make sure the encoding of all text is utf8\\n        values = [(value.encode(\\'utf8\\') if hasattr(value, \\'encode\\') else value)\\n                  for value in values]\\n        #strip out any non alpha numeric chars\\n        #to avoid problems later when we try to read in the CSV\\n        values = [(pattern.sub(\\' \\', s) if type(s) == type(str) else s)\\n                  for s in values]\\n        csv.writerow(values)\\n\\n    i = i + 1\\n\\n    if i >= total:\\n        done = True\\n\\n    #we need to wait 2 seconds between API calls\\n    run_time = delay - (time.time() - query_time)\\n    if delay - run_time >= 0:\\n        time.sleep((delay - run_time))\\n    #time.sleep(delay - 0.5)\\n    if ((i * 100) % 500) == 0:\\n        print \"Total posts: \", i * 100\\n        print \"Average time between API calls: \",(time.time() - start_time)/i\\n\\nout_file.close()\\n'"
       ]
      }
     ],
     "prompt_number": 13
    },
    {
     "cell_type": "code",
     "collapsed": false,
     "input": [
      "for i in range(10):\n",
      "    res = get_url('https://www.reddit.com//user/OB1FBM/liked.json')\n",
      "    response = json.loads(res.content)\n",
      "    #rint response"
     ],
     "language": "python",
     "metadata": {},
     "outputs": [],
     "prompt_number": 6
    },
    {
     "cell_type": "code",
     "collapsed": false,
     "input": [
      "post_df = pd.read_csv('100PostPerSubreddit2.csv')\n",
      "ids = post_df['user_id']\n",
      "post_df.head()"
     ],
     "language": "python",
     "metadata": {},
     "outputs": [
      {
       "html": [
        "<div style=\"max-height:1000px;max-width:1500px;overflow:auto;\">\n",
        "<table border=\"1\" class=\"dataframe\">\n",
        "  <thead>\n",
        "    <tr style=\"text-align: right;\">\n",
        "      <th></th>\n",
        "      <th>id</th>\n",
        "      <th>title</th>\n",
        "      <th>subreddit_title</th>\n",
        "      <th>subreddit_id</th>\n",
        "      <th>self_post</th>\n",
        "      <th>num_comments</th>\n",
        "      <th>score</th>\n",
        "      <th>text_content</th>\n",
        "      <th>gilded</th>\n",
        "      <th>published_date</th>\n",
        "      <th>mature</th>\n",
        "      <th>user_id</th>\n",
        "      <th>url</th>\n",
        "      <th>permalink</th>\n",
        "    </tr>\n",
        "  </thead>\n",
        "  <tbody>\n",
        "    <tr>\n",
        "      <th>0</th>\n",
        "      <td>       NaN</td>\n",
        "      <td>                                               NaN</td>\n",
        "      <td>   NaN</td>\n",
        "      <td>      NaN</td>\n",
        "      <td>   NaN</td>\n",
        "      <td>  NaN</td>\n",
        "      <td>   NaN</td>\n",
        "      <td> NaN</td>\n",
        "      <td>NaN</td>\n",
        "      <td>        NaN</td>\n",
        "      <td>   NaN</td>\n",
        "      <td>       NaN</td>\n",
        "      <td>                      NaN</td>\n",
        "      <td>                                               NaN</td>\n",
        "    </tr>\n",
        "    <tr>\n",
        "      <th>1</th>\n",
        "      <td> t3_202wd3</td>\n",
        "      <td> I participated in one of the biggest Magic: th...</td>\n",
        "      <td> funny</td>\n",
        "      <td> t5_2qh33</td>\n",
        "      <td> False</td>\n",
        "      <td> 6702</td>\n",
        "      <td> 38150</td>\n",
        "      <td> NaN</td>\n",
        "      <td>  9</td>\n",
        "      <td> 1394486034</td>\n",
        "      <td>  True</td>\n",
        "      <td>    OB1FBM</td>\n",
        "      <td> http://imgur.com/a/SjcgE</td>\n",
        "      <td> /r/funny/comments/202wd3/i_participated_in_one...</td>\n",
        "    </tr>\n",
        "    <tr>\n",
        "      <th>2</th>\n",
        "      <td>       NaN</td>\n",
        "      <td>                                               NaN</td>\n",
        "      <td>   NaN</td>\n",
        "      <td>      NaN</td>\n",
        "      <td>   NaN</td>\n",
        "      <td>  NaN</td>\n",
        "      <td>   NaN</td>\n",
        "      <td> NaN</td>\n",
        "      <td>NaN</td>\n",
        "      <td>        NaN</td>\n",
        "      <td>   NaN</td>\n",
        "      <td>       NaN</td>\n",
        "      <td>                      NaN</td>\n",
        "      <td>                                               NaN</td>\n",
        "    </tr>\n",
        "    <tr>\n",
        "      <th>3</th>\n",
        "      <td> t3_25blmh</td>\n",
        "      <td> This is Carter. He knocked on my door to ask i...</td>\n",
        "      <td> funny</td>\n",
        "      <td> t5_2qh33</td>\n",
        "      <td> False</td>\n",
        "      <td> 3033</td>\n",
        "      <td> 29468</td>\n",
        "      <td> NaN</td>\n",
        "      <td>  0</td>\n",
        "      <td> 1399856404</td>\n",
        "      <td> False</td>\n",
        "      <td> Theone211</td>\n",
        "      <td> http://imgur.com/lsoomRq</td>\n",
        "      <td> /r/funny/comments/25blmh/this_is_carter_he_kno...</td>\n",
        "    </tr>\n",
        "    <tr>\n",
        "      <th>4</th>\n",
        "      <td>       NaN</td>\n",
        "      <td>                                               NaN</td>\n",
        "      <td>   NaN</td>\n",
        "      <td>      NaN</td>\n",
        "      <td>   NaN</td>\n",
        "      <td>  NaN</td>\n",
        "      <td>   NaN</td>\n",
        "      <td> NaN</td>\n",
        "      <td>NaN</td>\n",
        "      <td>        NaN</td>\n",
        "      <td>   NaN</td>\n",
        "      <td>       NaN</td>\n",
        "      <td>                      NaN</td>\n",
        "      <td>                                               NaN</td>\n",
        "    </tr>\n",
        "  </tbody>\n",
        "</table>\n",
        "</div>"
       ],
       "metadata": {},
       "output_type": "pyout",
       "prompt_number": 30,
       "text": [
        "          id                                              title  \\\n",
        "0        NaN                                                NaN   \n",
        "1  t3_202wd3  I participated in one of the biggest Magic: th...   \n",
        "2        NaN                                                NaN   \n",
        "3  t3_25blmh  This is Carter. He knocked on my door to ask i...   \n",
        "4        NaN                                                NaN   \n",
        "\n",
        "  subreddit_title subreddit_id self_post  num_comments  score text_content  \\\n",
        "0             NaN          NaN       NaN           NaN    NaN          NaN   \n",
        "1           funny     t5_2qh33     False          6702  38150          NaN   \n",
        "2             NaN          NaN       NaN           NaN    NaN          NaN   \n",
        "3           funny     t5_2qh33     False          3033  29468          NaN   \n",
        "4             NaN          NaN       NaN           NaN    NaN          NaN   \n",
        "\n",
        "   gilded  published_date mature    user_id                       url  \\\n",
        "0     NaN             NaN    NaN        NaN                       NaN   \n",
        "1       9      1394486034   True     OB1FBM  http://imgur.com/a/SjcgE   \n",
        "2     NaN             NaN    NaN        NaN                       NaN   \n",
        "3       0      1399856404  False  Theone211  http://imgur.com/lsoomRq   \n",
        "4     NaN             NaN    NaN        NaN                       NaN   \n",
        "\n",
        "                                           permalink  \n",
        "0                                                NaN  \n",
        "1  /r/funny/comments/202wd3/i_participated_in_one...  \n",
        "2                                                NaN  \n",
        "3  /r/funny/comments/25blmh/this_is_carter_he_kno...  \n",
        "4                                                NaN  "
       ]
      }
     ],
     "prompt_number": 30
    },
    {
     "cell_type": "code",
     "collapsed": false,
     "input": [
      "counter = 0\n",
      "success = 0\n",
      "failure = 0\n",
      "responses = []\n",
      "for id in ids:\n",
      "    res = get_url('https://www.reddit.com//user/' + str(id) + '/liked.json');\n",
      "    if res.status_code == 200:\n",
      "        success += 1\n",
      "        response = json.loads(res.content)\n",
      "        responses.append((id,response))\n",
      "    else:\n",
      "        failure += 1\n",
      "    counter += 1\n",
      "    if counter % 1000 == 0:\n",
      "        time.sleep(20)\n",
      "        print counter\n",
      "\n"
     ],
     "language": "python",
     "metadata": {},
     "outputs": [
      {
       "output_type": "stream",
       "stream": "stdout",
       "text": [
        "1000\n",
        "2000"
       ]
      },
      {
       "output_type": "stream",
       "stream": "stdout",
       "text": [
        "\n",
        "3000"
       ]
      },
      {
       "output_type": "stream",
       "stream": "stdout",
       "text": [
        "\n",
        "4000"
       ]
      },
      {
       "output_type": "stream",
       "stream": "stdout",
       "text": [
        "\n",
        "5000"
       ]
      },
      {
       "output_type": "stream",
       "stream": "stdout",
       "text": [
        "\n",
        "6000"
       ]
      },
      {
       "output_type": "stream",
       "stream": "stdout",
       "text": [
        "\n",
        "7000"
       ]
      },
      {
       "output_type": "stream",
       "stream": "stdout",
       "text": [
        "\n",
        "8000"
       ]
      },
      {
       "output_type": "stream",
       "stream": "stdout",
       "text": [
        "\n",
        "9000"
       ]
      },
      {
       "output_type": "stream",
       "stream": "stdout",
       "text": [
        "\n",
        "10000"
       ]
      },
      {
       "output_type": "stream",
       "stream": "stdout",
       "text": [
        "\n",
        "11000"
       ]
      },
      {
       "output_type": "stream",
       "stream": "stdout",
       "text": [
        "\n",
        "12000"
       ]
      },
      {
       "output_type": "stream",
       "stream": "stdout",
       "text": [
        "\n",
        "13000"
       ]
      },
      {
       "output_type": "stream",
       "stream": "stdout",
       "text": [
        "\n",
        "14000"
       ]
      },
      {
       "output_type": "stream",
       "stream": "stdout",
       "text": [
        "\n",
        "15000"
       ]
      },
      {
       "output_type": "stream",
       "stream": "stdout",
       "text": [
        "\n",
        "16000"
       ]
      },
      {
       "output_type": "stream",
       "stream": "stdout",
       "text": [
        "\n",
        "17000"
       ]
      },
      {
       "output_type": "stream",
       "stream": "stdout",
       "text": [
        "\n",
        "18000"
       ]
      },
      {
       "output_type": "stream",
       "stream": "stdout",
       "text": [
        "\n",
        "19000"
       ]
      },
      {
       "output_type": "stream",
       "stream": "stdout",
       "text": [
        "\n",
        "20000"
       ]
      },
      {
       "output_type": "stream",
       "stream": "stdout",
       "text": [
        "\n",
        "21000"
       ]
      },
      {
       "output_type": "stream",
       "stream": "stdout",
       "text": [
        "\n",
        "22000"
       ]
      },
      {
       "output_type": "stream",
       "stream": "stdout",
       "text": [
        "\n",
        "23000"
       ]
      },
      {
       "output_type": "stream",
       "stream": "stdout",
       "text": [
        "\n",
        "24000"
       ]
      },
      {
       "output_type": "stream",
       "stream": "stdout",
       "text": [
        "\n",
        "25000"
       ]
      },
      {
       "output_type": "stream",
       "stream": "stdout",
       "text": [
        "\n",
        "26000"
       ]
      },
      {
       "output_type": "stream",
       "stream": "stdout",
       "text": [
        "\n",
        "27000"
       ]
      },
      {
       "output_type": "stream",
       "stream": "stdout",
       "text": [
        "\n",
        "28000"
       ]
      },
      {
       "output_type": "stream",
       "stream": "stdout",
       "text": [
        "\n",
        "29000"
       ]
      },
      {
       "output_type": "stream",
       "stream": "stdout",
       "text": [
        "\n",
        "30000"
       ]
      },
      {
       "output_type": "stream",
       "stream": "stdout",
       "text": [
        "\n",
        "31000"
       ]
      },
      {
       "output_type": "stream",
       "stream": "stdout",
       "text": [
        "\n",
        "32000"
       ]
      },
      {
       "output_type": "stream",
       "stream": "stdout",
       "text": [
        "\n",
        "33000"
       ]
      },
      {
       "output_type": "stream",
       "stream": "stdout",
       "text": [
        "\n",
        "34000"
       ]
      },
      {
       "output_type": "stream",
       "stream": "stdout",
       "text": [
        "\n",
        "35000"
       ]
      },
      {
       "output_type": "stream",
       "stream": "stdout",
       "text": [
        "\n",
        "36000"
       ]
      },
      {
       "output_type": "stream",
       "stream": "stdout",
       "text": [
        "\n",
        "37000"
       ]
      },
      {
       "output_type": "stream",
       "stream": "stdout",
       "text": [
        "\n",
        "38000"
       ]
      },
      {
       "output_type": "stream",
       "stream": "stdout",
       "text": [
        "\n",
        "39000"
       ]
      },
      {
       "output_type": "stream",
       "stream": "stdout",
       "text": [
        "\n",
        "40000"
       ]
      },
      {
       "output_type": "stream",
       "stream": "stdout",
       "text": [
        "\n",
        "41000"
       ]
      },
      {
       "output_type": "stream",
       "stream": "stdout",
       "text": [
        "\n",
        "42000"
       ]
      },
      {
       "output_type": "stream",
       "stream": "stdout",
       "text": [
        "\n",
        "43000"
       ]
      },
      {
       "output_type": "stream",
       "stream": "stdout",
       "text": [
        "\n",
        "44000"
       ]
      },
      {
       "output_type": "stream",
       "stream": "stdout",
       "text": [
        "\n",
        "45000"
       ]
      },
      {
       "output_type": "stream",
       "stream": "stdout",
       "text": [
        "\n",
        "46000"
       ]
      },
      {
       "output_type": "stream",
       "stream": "stdout",
       "text": [
        "\n",
        "47000"
       ]
      },
      {
       "output_type": "stream",
       "stream": "stdout",
       "text": [
        "\n",
        "48000"
       ]
      },
      {
       "output_type": "stream",
       "stream": "stdout",
       "text": [
        "\n",
        "49000"
       ]
      },
      {
       "output_type": "stream",
       "stream": "stdout",
       "text": [
        "\n",
        "50000"
       ]
      },
      {
       "output_type": "stream",
       "stream": "stdout",
       "text": [
        "\n",
        "51000"
       ]
      },
      {
       "output_type": "stream",
       "stream": "stdout",
       "text": [
        "\n",
        "52000"
       ]
      },
      {
       "output_type": "stream",
       "stream": "stdout",
       "text": [
        "\n",
        "53000"
       ]
      },
      {
       "output_type": "stream",
       "stream": "stdout",
       "text": [
        "\n",
        "54000"
       ]
      },
      {
       "output_type": "stream",
       "stream": "stdout",
       "text": [
        "\n",
        "55000"
       ]
      },
      {
       "output_type": "stream",
       "stream": "stdout",
       "text": [
        "\n",
        "56000"
       ]
      },
      {
       "output_type": "stream",
       "stream": "stdout",
       "text": [
        "\n",
        "57000"
       ]
      },
      {
       "output_type": "stream",
       "stream": "stdout",
       "text": [
        "\n",
        "58000"
       ]
      },
      {
       "output_type": "stream",
       "stream": "stdout",
       "text": [
        "\n",
        "59000"
       ]
      },
      {
       "output_type": "stream",
       "stream": "stdout",
       "text": [
        "\n",
        "60000"
       ]
      },
      {
       "output_type": "stream",
       "stream": "stdout",
       "text": [
        "\n",
        "61000"
       ]
      },
      {
       "output_type": "stream",
       "stream": "stdout",
       "text": [
        "\n",
        "62000"
       ]
      },
      {
       "output_type": "stream",
       "stream": "stdout",
       "text": [
        "\n",
        "63000"
       ]
      },
      {
       "output_type": "stream",
       "stream": "stdout",
       "text": [
        "\n",
        "64000"
       ]
      },
      {
       "output_type": "stream",
       "stream": "stdout",
       "text": [
        "\n",
        "65000"
       ]
      },
      {
       "output_type": "stream",
       "stream": "stdout",
       "text": [
        "\n",
        "66000"
       ]
      },
      {
       "output_type": "stream",
       "stream": "stdout",
       "text": [
        "\n",
        "67000"
       ]
      },
      {
       "output_type": "stream",
       "stream": "stdout",
       "text": [
        "\n",
        "68000"
       ]
      },
      {
       "output_type": "stream",
       "stream": "stdout",
       "text": [
        "\n",
        "69000"
       ]
      },
      {
       "output_type": "stream",
       "stream": "stdout",
       "text": [
        "\n",
        "70000"
       ]
      },
      {
       "output_type": "stream",
       "stream": "stdout",
       "text": [
        "\n",
        "71000"
       ]
      },
      {
       "output_type": "stream",
       "stream": "stdout",
       "text": [
        "\n",
        "72000"
       ]
      },
      {
       "output_type": "stream",
       "stream": "stdout",
       "text": [
        "\n",
        "73000"
       ]
      },
      {
       "output_type": "stream",
       "stream": "stdout",
       "text": [
        "\n",
        "74000"
       ]
      },
      {
       "output_type": "stream",
       "stream": "stdout",
       "text": [
        "\n",
        "75000"
       ]
      },
      {
       "output_type": "stream",
       "stream": "stdout",
       "text": [
        "\n",
        "76000"
       ]
      },
      {
       "output_type": "stream",
       "stream": "stdout",
       "text": [
        "\n",
        "77000"
       ]
      },
      {
       "output_type": "stream",
       "stream": "stdout",
       "text": [
        "\n",
        "78000"
       ]
      },
      {
       "output_type": "stream",
       "stream": "stdout",
       "text": [
        "\n",
        "79000"
       ]
      },
      {
       "output_type": "stream",
       "stream": "stdout",
       "text": [
        "\n"
       ]
      }
     ],
     "prompt_number": 32
    },
    {
     "cell_type": "code",
     "collapsed": false,
     "input": [
      "print failure, success"
     ],
     "language": "python",
     "metadata": {},
     "outputs": [
      {
       "output_type": "stream",
       "stream": "stdout",
       "text": [
        "78534 1379\n"
       ]
      }
     ],
     "prompt_number": 33
    },
    {
     "cell_type": "code",
     "collapsed": false,
     "input": [
      "len(responses)\n",
      "for res in responses:\n",
      "    print res['data']['children']"
     ],
     "language": "python",
     "metadata": {},
     "outputs": [
      {
       "output_type": "stream",
       "stream": "stdout",
       "text": [
        "{u'domain': u'self.pokemon', u'banned_by': None, u'media_embed': {}, u'subreddit': u'pokemon', u'selftext_html': u'&lt;!-- SC_OFF --&gt;&lt;div class=\"md\"&gt;&lt;p&gt;&lt;a href=\"http://m.imgur.com/L8Dhiss\"&gt;http://m.imgur.com/L8Dhiss&lt;/a&gt;&lt;/p&gt;\\n&lt;/div&gt;&lt;!-- SC_ON --&gt;', u'selftext': u'http://m.imgur.com/L8Dhiss', u'likes': None, u'user_reports': [], u'secure_media': None, u'link_flair_text': u'ORAS', u'id': u'2ngenf', u'gilded': 0, u'secure_media_embed': {}, u'clicked': False, u'report_reasons': None, u'author': u'xandizzle', u'media': None, u'score': 1126, u'approved_by': None, u'over_18': False, u'hidden': False, u'num_comments': 105, u'thumbnail': u'self', u'subreddit_id': u't5_2qmeb', u'edited': False, u'link_flair_css_class': u'spoiler', u'author_flair_css_class': u'57', u'downs': 0, u'saved': False, u'stickied': False, u'is_self': True, u'permalink': u'/r/pokemon/comments/2ngenf/eexcuse_me/', u'name': u't3_2ngenf', u'created': 1417011906.0, u'url': u'http://www.reddit.com/r/pokemon/comments/2ngenf/eexcuse_me/', u'author_flair_text': u\"WHERE'S MY MEGA\", u'title': u'...e-excuse me?', u'created_utc': 1416983106.0, u'distinguished': None, u'mod_reports': [], u'visited': False, u'num_reports': None, u'ups': 1126}\n",
        "{u'domain': u'youtube.com', u'banned_by': None, u'media_embed': {u'content': u'&lt;iframe class=\"embedly-embed\" src=\"//cdn.embedly.com/widgets/media.html?src=http%3A%2F%2Fwww.youtube.com%2Fembed%2FHkqIVdMt_bs%3Ffeature%3Doembed&amp;url=http%3A%2F%2Fwww.youtube.com%2Fwatch%3Fv%3DHkqIVdMt_bs&amp;image=http%3A%2F%2Fi.ytimg.com%2Fvi%2FHkqIVdMt_bs%2Fhqdefault.jpg&amp;key=2aa3c4d5f3de4f5b9120b660ad850dc9&amp;type=text%2Fhtml&amp;schema=youtube\" width=\"600\" height=\"338\" scrolling=\"no\" frameborder=\"0\" allowfullscreen&gt;&lt;/iframe&gt;', u'width': 600, u'scrolling': False, u'height': 338}, u'subreddit': u'Filmmakers', u'selftext_html': None, u'selftext': u'', u'likes': None, u'user_reports': [], u'secure_media': {u'oembed': {u'provider_url': u'http://www.youtube.com/', u'description': u'More at FILMSshort.com - Jason Schwartzman (Funny People) is the lovesick patron of the hotel when he is visited by the woman (Natalie Portman) who pushed him into his Parisian hideaway.', u'title': u'Hotel Chevalier by Wes Anderson', u'url': u'http://www.youtube.com/watch?v=HkqIVdMt_bs', u'type': u'video', u'author_name': u'MrFilmsShort', u'height': 338, u'width': 600, u'html': u'&lt;iframe class=\"embedly-embed\" src=\"https://cdn.embedly.com/widgets/media.html?src=https%3A%2F%2Fwww.youtube.com%2Fembed%2FHkqIVdMt_bs%3Ffeature%3Doembed&amp;url=http%3A%2F%2Fwww.youtube.com%2Fwatch%3Fv%3DHkqIVdMt_bs&amp;image=http%3A%2F%2Fi.ytimg.com%2Fvi%2FHkqIVdMt_bs%2Fhqdefault.jpg&amp;key=2aa3c4d5f3de4f5b9120b660ad850dc9&amp;type=text%2Fhtml&amp;schema=youtube\" width=\"600\" height=\"338\" scrolling=\"no\" frameborder=\"0\" allowfullscreen&gt;&lt;/iframe&gt;', u'thumbnail_width': 480, u'version': u'1.0', u'provider_name': u'YouTube', u'thumbnail_url': u'https://i.embed.ly/1/image?url=http%3A%2F%2Fi.ytimg.com%2Fvi%2FHkqIVdMt_bs%2Fhqdefault.jpg&amp;key=b1e305db91cf4aa5a86b732cc9fffceb', u'thumbnail_height': 360, u'author_url': u'http://www.youtube.com/user/MrFilmsShort'}, u'type': u'youtube.com'}, u'link_flair_text': u'Video', u'id': u'2n9odp', u'gilded': 0, u'secure_media_embed': {u'content': u'&lt;iframe class=\"embedly-embed\" src=\"https://cdn.embedly.com/widgets/media.html?src=https%3A%2F%2Fwww.youtube.com%2Fembed%2FHkqIVdMt_bs%3Ffeature%3Doembed&amp;url=http%3A%2F%2Fwww.youtube.com%2Fwatch%3Fv%3DHkqIVdMt_bs&amp;image=http%3A%2F%2Fi.ytimg.com%2Fvi%2FHkqIVdMt_bs%2Fhqdefault.jpg&amp;key=2aa3c4d5f3de4f5b9120b660ad850dc9&amp;type=text%2Fhtml&amp;schema=youtube\" width=\"600\" height=\"338\" scrolling=\"no\" frameborder=\"0\" allowfullscreen&gt;&lt;/iframe&gt;', u'width': 600, u'scrolling': False, u'height': 338}, u'clicked': False, u'report_reasons': None, u'author': u'prehack', u'media': {u'oembed': {u'provider_url': u'http://www.youtube.com/', u'description': u'More at FILMSshort.com - Jason Schwartzman (Funny People) is the lovesick patron of the hotel when he is visited by the woman (Natalie Portman) who pushed him into his Parisian hideaway.', u'title': u'Hotel Chevalier by Wes Anderson', u'url': u'http://www.youtube.com/watch?v=HkqIVdMt_bs', u'type': u'video', u'author_name': u'MrFilmsShort', u'height': 338, u'width': 600, u'html': u'&lt;iframe class=\"embedly-embed\" src=\"//cdn.embedly.com/widgets/media.html?src=http%3A%2F%2Fwww.youtube.com%2Fembed%2FHkqIVdMt_bs%3Ffeature%3Doembed&amp;url=http%3A%2F%2Fwww.youtube.com%2Fwatch%3Fv%3DHkqIVdMt_bs&amp;image=http%3A%2F%2Fi.ytimg.com%2Fvi%2FHkqIVdMt_bs%2Fhqdefault.jpg&amp;key=2aa3c4d5f3de4f5b9120b660ad850dc9&amp;type=text%2Fhtml&amp;schema=youtube\" width=\"600\" height=\"338\" scrolling=\"no\" frameborder=\"0\" allowfullscreen&gt;&lt;/iframe&gt;', u'thumbnail_width': 480, u'version': u'1.0', u'provider_name': u'YouTube', u'thumbnail_url': u'http://i.ytimg.com/vi/HkqIVdMt_bs/hqdefault.jpg', u'thumbnail_height': 360, u'author_url': u'http://www.youtube.com/user/MrFilmsShort'}, u'type': u'youtube.com'}, u'score': 182, u'approved_by': None, u'over_18': False, u'hidden': False, u'num_comments': 23, u'thumbnail': u'http://b.thumbs.redditmedia.com/zt7wHyZKQNzseSs2yN4VrPPvJpTcjFPcIRH0jpQN5yc.jpg', u'subreddit_id': u't5_2r1ip', u'edited': False, u'link_flair_css_class': u'video', u'author_flair_css_class': None, u'downs': 0, u'saved': False, u'stickied': False, u'is_self': False, u'permalink': u'/r/Filmmakers/comments/2n9odp/wes_andersons_hotel_chevalier_is_still_my/', u'name': u't3_2n9odp', u'created': 1416871055.0, u'url': u'https://www.youtube.com/watch?v=HkqIVdMt_bs', u'author_flair_text': None, u'title': u\"Wes Anderson's Hotel Chevalier is still my favorite short film. It stands on its own wonderfully without being viewed as just a prequel to The Darjeeling Limited.\", u'created_utc': 1416842255.0, u'distinguished': None, u'mod_reports': [], u'visited': False, u'num_reports': None, u'ups': 182}\n",
        "{u'domain': u'youtube.com', u'banned_by': None, u'media_embed': {u'content': u'&lt;iframe class=\"embedly-embed\" src=\"//cdn.embedly.com/widgets/media.html?src=http%3A%2F%2Fwww.youtube.com%2Fembed%2F3tpaR-KtgLM%3Ffeature%3Doembed&amp;url=http%3A%2F%2Fwww.youtube.com%2Fwatch%3Fv%3D3tpaR-KtgLM&amp;image=http%3A%2F%2Fi.ytimg.com%2Fvi%2F3tpaR-KtgLM%2Fhqdefault.jpg&amp;key=2aa3c4d5f3de4f5b9120b660ad850dc9&amp;type=text%2Fhtml&amp;schema=youtube\" width=\"600\" height=\"338\" scrolling=\"no\" frameborder=\"0\" allowfullscreen&gt;&lt;/iframe&gt;', u'width': 600, u'scrolling': False, u'height': 338}, u'subreddit': u'animation', u'selftext_html': None, u'selftext': u'', u'likes': None, u'user_reports': [], u'secure_media': {u'oembed': {u'provider_url': u'http://www.youtube.com/', u'description': u'This is one of my favorite conventions to attend because I get to meet some of my favorite artists responsible for the industries top movies, tv, comics and games. This video is just what you can expect from walking around the Exhibit Floor. Each year CTNx gets more and more crowded.', u'title': u'CTN Animation Expo 2014', u'url': u'http://www.youtube.com/watch?v=3tpaR-KtgLM', u'type': u'video', u'author_name': u'Anthony Vu', u'height': 338, u'width': 600, u'html': u'&lt;iframe class=\"embedly-embed\" src=\"https://cdn.embedly.com/widgets/media.html?src=https%3A%2F%2Fwww.youtube.com%2Fembed%2F3tpaR-KtgLM%3Ffeature%3Doembed&amp;url=http%3A%2F%2Fwww.youtube.com%2Fwatch%3Fv%3D3tpaR-KtgLM&amp;image=http%3A%2F%2Fi.ytimg.com%2Fvi%2F3tpaR-KtgLM%2Fhqdefault.jpg&amp;key=2aa3c4d5f3de4f5b9120b660ad850dc9&amp;type=text%2Fhtml&amp;schema=youtube\" width=\"600\" height=\"338\" scrolling=\"no\" frameborder=\"0\" allowfullscreen&gt;&lt;/iframe&gt;', u'thumbnail_width': 480, u'version': u'1.0', u'provider_name': u'YouTube', u'thumbnail_url': u'https://i.embed.ly/1/image?url=http%3A%2F%2Fi.ytimg.com%2Fvi%2F3tpaR-KtgLM%2Fhqdefault.jpg&amp;key=b1e305db91cf4aa5a86b732cc9fffceb', u'thumbnail_height': 360, u'author_url': u'http://www.youtube.com/channel/UCtYbsrGo6lz-Ov899rYc6Zw'}, u'type': u'youtube.com'}, u'link_flair_text': u'Fluff', u'id': u'2njf9g', u'gilded': 0, u'secure_media_embed': {u'content': u'&lt;iframe class=\"embedly-embed\" src=\"https://cdn.embedly.com/widgets/media.html?src=https%3A%2F%2Fwww.youtube.com%2Fembed%2F3tpaR-KtgLM%3Ffeature%3Doembed&amp;url=http%3A%2F%2Fwww.youtube.com%2Fwatch%3Fv%3D3tpaR-KtgLM&amp;image=http%3A%2F%2Fi.ytimg.com%2Fvi%2F3tpaR-KtgLM%2Fhqdefault.jpg&amp;key=2aa3c4d5f3de4f5b9120b660ad850dc9&amp;type=text%2Fhtml&amp;schema=youtube\" width=\"600\" height=\"338\" scrolling=\"no\" frameborder=\"0\" allowfullscreen&gt;&lt;/iframe&gt;', u'width': 600, u'scrolling': False, u'height': 338}, u'clicked': False, u'report_reasons': None, u'author': u'fluffkomix', u'media': {u'oembed': {u'provider_url': u'http://www.youtube.com/', u'description': u'This is one of my favorite conventions to attend because I get to meet some of my favorite artists responsible for the industries top movies, tv, comics and games. This video is just what you can expect from walking around the Exhibit Floor. Each year CTNx gets more and more crowded.', u'title': u'CTN Animation Expo 2014', u'url': u'http://www.youtube.com/watch?v=3tpaR-KtgLM', u'type': u'video', u'author_name': u'Anthony Vu', u'height': 338, u'width': 600, u'html': u'&lt;iframe class=\"embedly-embed\" src=\"//cdn.embedly.com/widgets/media.html?src=http%3A%2F%2Fwww.youtube.com%2Fembed%2F3tpaR-KtgLM%3Ffeature%3Doembed&amp;url=http%3A%2F%2Fwww.youtube.com%2Fwatch%3Fv%3D3tpaR-KtgLM&amp;image=http%3A%2F%2Fi.ytimg.com%2Fvi%2F3tpaR-KtgLM%2Fhqdefault.jpg&amp;key=2aa3c4d5f3de4f5b9120b660ad850dc9&amp;type=text%2Fhtml&amp;schema=youtube\" width=\"600\" height=\"338\" scrolling=\"no\" frameborder=\"0\" allowfullscreen&gt;&lt;/iframe&gt;', u'thumbnail_width': 480, u'version': u'1.0', u'provider_name': u'YouTube', u'thumbnail_url': u'http://i.ytimg.com/vi/3tpaR-KtgLM/hqdefault.jpg', u'thumbnail_height': 360, u'author_url': u'http://www.youtube.com/channel/UCtYbsrGo6lz-Ov899rYc6Zw'}, u'type': u'youtube.com'}, u'score': 4, u'approved_by': None, u'over_18': False, u'hidden': False, u'num_comments': 1, u'thumbnail': u'http://b.thumbs.redditmedia.com/vSld60TVCsIUFI_-6uerbXwMk5nayXPLsW4mkVpn8Ww.jpg', u'subreddit_id': u't5_2qlmp', u'edited': False, u'link_flair_css_class': u'flu', u'author_flair_css_class': None, u'downs': 0, u'saved': False, u'stickied': False, u'is_self': False, u'permalink': u'/r/animation/comments/2njf9g/ctn_animation_expo_2014_definitely_something_you/', u'name': u't3_2njf9g', u'created': 1417083545.0, u'url': u'https://www.youtube.com/watch?v=3tpaR-KtgLM', u'author_flair_text': None, u'title': u\"CTN Animation Expo 2014 - Definitely something you all shouldn't miss out on for 2015!\", u'created_utc': 1417054745.0, u'distinguished': None, u'mod_reports': [], u'visited': False, u'num_reports': None, u'ups': 4}\n",
        "{u'domain': u'i.imgur.com', u'banned_by': None, u'media_embed': {}, u'subreddit': u'jakeandamir', u'selftext_html': None, u'selftext': u'', u'likes': None, u'user_reports': [], u'secure_media': None, u'link_flair_text': None, u'id': u'2n66v0', u'gilded': 0, u'secure_media_embed': {}, u'clicked': False, u'report_reasons': None, u'author': u'syrioforelsSod', u'media': None, u'score': 96, u'approved_by': None, u'over_18': False, u'hidden': False, u'num_comments': 24, u'thumbnail': u'http://b.thumbs.redditmedia.com/z2rzeRyql6Bxio6PbG14P7zSb6GMjnEl_mJtpaltrUo.jpg', u'subreddit_id': u't5_2sgss', u'edited': False, u'link_flair_css_class': None, u'author_flair_css_class': None, u'downs': 0, u'saved': False, u'stickied': False, u'is_self': False, u'permalink': u'/r/jakeandamir/comments/2n66v0/tinder_finally_delivers_a_coy_little_diva_of_my/', u'name': u't3_2n66v0', u'created': 1416785932.0, u'url': u'http://i.imgur.com/7swVCbt.jpg', u'author_flair_text': None, u'title': u'Tinder finally delivers a coy little diva of my own', u'created_utc': 1416757132.0, u'distinguished': None, u'mod_reports': [], u'visited': False, u'num_reports': None, u'ups': 96}\n",
        "{u'domain': u'self.pokemon', u'banned_by': None, u'media_embed': {}, u'subreddit': u'pokemon', u'selftext_html': u'&lt;!-- SC_OFF --&gt;&lt;div class=\"md\"&gt;&lt;p&gt;Hey &lt;a href=\"/r/pokemon\"&gt;/r/pokemon&lt;/a&gt;!&lt;/p&gt;\\n\\n&lt;p&gt;About a week ago, I was listening to the song &amp;quot;Electricity&amp;quot; by Spiritualized, and an idea popped into my head - to create a themed playlist for each Pokemon type. The idea was that I would find songs that fit in line with each type - mostly based on each type&amp;#39;s moves and abilities. The style of music or mood didn&amp;#39;t matter - it was all about finding song titles that fit the theme. So I spent a couple days putting it together, and wanted to share them with you all!&lt;/p&gt;\\n\\n&lt;p&gt;I decided to make each playlist 12 songs - not too long, not too short. I could have made some of these even longer, and for others it was a struggle to get to 12 - I had to combine Rock &amp;amp; Ground and Dragon &amp;amp; Fairy to make it work, but all the others are all by themselves. As for the song selection, I generally went with my own personal tastes when applicable, and had to reach for whatever I could find in others. So if you have a song in mind that you thought would have worked for any given type, I either missed it entirely, or am not a huge fan of that particular song/artist. &lt;/p&gt;\\n\\n&lt;p&gt;Below are the links to all 16 playlists. I decided to share them today so that hopefully this can give you something new to listen to as you&amp;#39;re traveling for Thanksgiving (for those of us in the US at least). Either way, I hope you like them and maybe even find a new song you love. Happy listening!&lt;/p&gt;\\n\\n&lt;p&gt;&lt;strong&gt;Electric&lt;/strong&gt; (44mins): &lt;a href=\"https://play.spotify.com/user/oshoney/playlist/7Cjl0Z5LMkwE5XvkOyaEit\"&gt;https://play.spotify.com/user/oshoney/playlist/7Cjl0Z5LMkwE5XvkOyaEit&lt;/a&gt;\\nContains: &amp;quot;Electricity&amp;quot; (Spiritualized), &amp;quot;Thunderbolt&amp;quot; (Bjork), &amp;quot;Electricity&amp;quot; (The Avalanches), &amp;quot;Lightning Song&amp;quot; (Queens of the Stone Age), &amp;quot;Electrical Storm&amp;quot; (U2), &amp;quot;Sparks&amp;quot; (Royksopp), &amp;quot;Electricity&amp;quot; (OMD), &amp;quot;Zap&amp;quot; (Black Milk), &amp;quot;Electrify&amp;quot; (Beastie Boys), &amp;quot;Shock Wave&amp;quot; (Black Sabbath), &amp;quot;Electricity&amp;quot; (Captain Beefheart), &amp;quot;Ride the Lightning&amp;quot; (Metallica).&lt;/p&gt;\\n\\n&lt;p&gt;&lt;strong&gt;Water&lt;/strong&gt; (42mins):\\n&lt;a href=\"https://play.spotify.com/user/oshoney/playlist/0H3Bk3zo1Kqp9Qoe5nVsXl\"&gt;https://play.spotify.com/user/oshoney/playlist/0H3Bk3zo1Kqp9Qoe5nVsXl&lt;/a&gt;\\nContains: &amp;quot;The Water&amp;quot; (Feist), &amp;quot;Aquarium&amp;quot; (Nosaj Thing), &amp;quot;Rain&amp;quot; (Explosions in the Sky), &amp;quot;Dive&amp;quot; (Caribou), &amp;quot;Surf Wax America&amp;quot; (Weezer), &amp;quot;Cold Water&amp;quot; (Tom Waits), &amp;quot;Muddy Water&amp;quot; (Nick Cave &amp;amp; the Bad Seeds), &amp;quot;Water Curses (Animal Collective), &amp;quot;Waterfall&amp;quot; (Ex-Hex), &amp;quot;Super Soaker&amp;quot; (Wavves), &amp;quot;Deep Water&amp;quot; (Portishead), &amp;quot;Water&amp;quot; (The Roots)&lt;/p&gt;\\n\\n&lt;p&gt;&lt;strong&gt;Fire&lt;/strong&gt; (52mins):\\n&lt;a href=\"https://play.spotify.com/user/oshoney/playlist/2BsP23JtTPWXLe2YRFkHAV\"&gt;https://play.spotify.com/user/oshoney/playlist/2BsP23JtTPWXLe2YRFkHAV&lt;/a&gt;\\nContains: &amp;quot;Fire&amp;quot; (Jimi Hendrix), &amp;quot;Burn&amp;quot; (Nine Inch Nails), &amp;quot;Ember City&amp;quot; (Mastodon), &amp;quot;Burn the Witch&amp;quot; (Queens of the Stone Age), &amp;quot;Fire It Up&amp;quot; (Modest Mouse), &amp;quot;Fire, Fire&amp;quot; (MIA), &amp;quot;The Fire&amp;quot; (The Roots), &amp;quot;Heatwave&amp;quot; (SBTRKT), &amp;quot;Burn&amp;quot; (the Cure), &amp;quot;The Flame&amp;quot; (the Black Keys), &amp;quot;Inferno&amp;quot; (Beck), &amp;quot;Ring of Fire&amp;quot; (Johnny Cash)&lt;/p&gt;\\n\\n&lt;p&gt;&lt;strong&gt;Grass&lt;/strong&gt; (37mins):\\n&lt;a href=\"https://play.spotify.com/user/oshoney/playlist/3C6SUlWnQV99yxQi9zOIsQ\"&gt;https://play.spotify.com/user/oshoney/playlist/3C6SUlWnQV99yxQi9zOIsQ&lt;/a&gt;\\nContains: &amp;quot;Grass&amp;quot; (Animal Collective), &amp;quot;Teeth in the Grass&amp;quot; (Iron &amp;amp; Wine), &amp;quot;Leaves That Are Green&amp;quot; (Simon &amp;amp; Garfunkel), &amp;quot;Spores&amp;quot; (Jon Hopkins), &amp;quot;Back in the Tall Grass&amp;quot; (Future Islands), &amp;quot;Leech&amp;quot; (Incubus), &amp;quot;Last Leaf&amp;quot; (Tom Waits), &amp;quot;Seeds&amp;quot; (TV on the Radio), &amp;quot;Leech&amp;quot; (Trash Talk), &amp;quot;Through the Grass&amp;quot; (Wild Nothing), &amp;quot;Leech&amp;quot; (Melvins), &amp;quot;Leaf House&amp;quot; (Animal Collective)&lt;/p&gt;\\n\\n&lt;p&gt;&lt;strong&gt;Bug&lt;/strong&gt; (53mins): \\n&lt;a href=\"https://play.spotify.com/user/oshoney/playlist/2QVOMWAW1UaeX9tCnDdAZn\"&gt;https://play.spotify.com/user/oshoney/playlist/2QVOMWAW1UaeX9tCnDdAZn&lt;/a&gt;\\nContains: &amp;quot;Bug&amp;quot; (Wavves), &amp;quot;Spiderwebs&amp;quot; (No Doubt), &amp;quot;Buggin&amp;#39; Out&amp;quot; (A Tribe Called Quest), &amp;quot;Powder&amp;quot; (MF Doom), &amp;quot;Strings&amp;quot; (Asobi Seksu), &amp;quot;Bugs Don&amp;#39;t Buzz (Majical Cloudz), &amp;quot;Bugs&amp;quot; (O&amp;#39;Death), &amp;quot;Horn&amp;quot; (Nick Drake), &amp;quot;Swarm&amp;quot; (Ben Frost), &amp;quot;Spiderwebbed&amp;quot; (Tortoise), &amp;quot;Strings&amp;quot; (A.C. Newman), &amp;quot;Spiders (Kidsmoke)&amp;quot; (Wilco)&lt;/p&gt;\\n\\n&lt;p&gt;&lt;strong&gt;Ice&lt;/strong&gt; (46mins):\\n&lt;a href=\"https://play.spotify.com/user/oshoney/playlist/6LhctpOzssAivaxZffwOUz\"&gt;https://play.spotify.com/user/oshoney/playlist/6LhctpOzssAivaxZffwOUz&lt;/a&gt;\\nContains: &amp;quot;Avalanche&amp;quot; (Leonard Cohen), &amp;quot;Aurora&amp;quot; (Bjork), &amp;quot;In This Home On Ice&amp;quot; (Clap Your Hands Say Yeah), &amp;quot;The Avalanche&amp;quot; (Sufjan Stevens), &amp;quot;Ice Princess (Azealia Banks), &amp;quot;Cold&amp;quot; (Kanye West), &amp;quot;Glaciers of Ice&amp;quot; (Raekwon), &amp;quot;Avalanche Rock&amp;quot; (The Avalanches), &amp;quot;Freeze&amp;quot; (LFO), &amp;quot;Snow&amp;quot; (The Chemical Brothers), &amp;quot;Avalanche&amp;quot; (Zola Jesus), &amp;quot;The Blizzard&amp;quot; (Camera Obscura)&lt;/p&gt;\\n\\n&lt;p&gt;&lt;strong&gt;Poison&lt;/strong&gt; (48mins):\\n&lt;a href=\"https://play.spotify.com/user/oshoney/playlist/2JTiOK1RTk3OSskh4Lvn84\"&gt;https://play.spotify.com/user/oshoney/playlist/2JTiOK1RTk3OSskh4Lvn84&lt;/a&gt;\\nContains: &amp;quot;Poison&amp;quot; (Alice Cooper), &amp;quot;Post Acid&amp;quot; (Wavves), &amp;quot;Little Drop of Poison&amp;quot; (Tom Waits), &amp;quot;Battery Acid&amp;quot; (Queens of the Stone Age), &amp;quot;SludgeFeast&amp;quot; (Dinosaur Jr), &amp;quot;Toxicity&amp;quot; (System of a Down), &amp;quot;Spitting Venom&amp;quot; (Modest Mouse), &amp;quot;Poison Oak&amp;quot; (Bright Eyes), &amp;quot;Acid Tongue&amp;quot; (Jenny Lewis), &amp;quot;Poison&amp;quot; (Bright Eyes &amp;amp; Neva Dinova), &amp;quot;Smog in Cities&amp;quot; (Black Moth Super Rainbow), &amp;quot;Poisonous Darts&amp;quot; (Ghostface Killah)&lt;/p&gt;\\n\\n&lt;p&gt;&lt;strong&gt;Psychic&lt;/strong&gt; (61mins):\\n&lt;a href=\"https://play.spotify.com/user/oshoney/playlist/1kfU7tlwNTMlcq1r8dB0BX\"&gt;https://play.spotify.com/user/oshoney/playlist/1kfU7tlwNTMlcq1r8dB0BX&lt;/a&gt;\\nContains: &amp;quot;Psychic Chasms&amp;quot; (Neon Indian), &amp;quot;Confusion&amp;quot; (New Order), &amp;quot;Psycho Killer&amp;quot; (Talking Heads), &amp;quot;Psychic City&amp;quot; (YACHT), &amp;quot;Reflektor&amp;quot; (Arcade Fire), &amp;quot;Hypnotize&amp;quot; (Notorious B.I.G.), &amp;quot;Synchronize&amp;quot; (Discodeine &amp;amp; Jarvis Cocker), &amp;quot;Tricky Tricky&amp;quot; (Royksopp), &amp;quot;Psychic Trauma&amp;quot; (Cloud Nothings), &amp;quot;Confusion&amp;quot; (ELO), &amp;quot;Dazed &amp;amp; Confused&amp;quot; (Led Zeppelin), &amp;quot;Rest&amp;quot; (Michael Kiwanuka)&lt;/p&gt;\\n\\n&lt;p&gt;&lt;strong&gt;Normal&lt;/strong&gt; (53mins):\\n&lt;a href=\"https://play.spotify.com/user/oshoney/playlist/0nZIJx9C914sFuHzh5WaHz\"&gt;https://play.spotify.com/user/oshoney/playlist/0nZIJx9C914sFuHzh5WaHz&lt;/a&gt;\\nContains: &amp;quot;Normal Person&amp;quot; (Arcade Fire), &amp;quot;Sing&amp;quot; (Slowdive), &amp;quot;Normal Song&amp;quot; (Perfume Genius), &amp;quot;Smokescreen&amp;quot; (Amusement Parks on Fire), &amp;quot;Normal&amp;quot; (Conor Oberst), &amp;quot;Cut&amp;quot; (the Cure), &amp;quot;Flash&amp;quot; (Queen), &amp;quot;Normal&amp;quot; (Screaming Females), &amp;quot;Body Slam&amp;quot; (Bootsy Collins), &amp;quot;Rage!&amp;quot; (Chromeo), &amp;quot;Smokescreen&amp;quot; (Religious Knives), &amp;quot;Mr. Self Destruct&amp;quot; (Nine Inch Nails)&lt;/p&gt;\\n\\n&lt;p&gt;&lt;strong&gt;Fighting&lt;/strong&gt; (47mins):\\n&lt;a href=\"https://play.spotify.com/user/oshoney/playlist/2tUYTbRfCLRnxi6HsEfiB8\"&gt;https://play.spotify.com/user/oshoney/playlist/2tUYTbRfCLRnxi6HsEfiB8&lt;/a&gt;\\nContains: &amp;quot;Fighting&amp;quot; (Goodie Mob), &amp;quot;The Uppercut&amp;quot; (2Pac), &amp;quot;Fight the Power&amp;quot; (Public Enemy), &amp;quot;Karate Chop&amp;quot; (Lil Wayne), &amp;quot;Fight for Your Right&amp;quot; (Beastie Boys), &amp;quot;Fight Test&amp;quot; (Flaming Lips), &amp;quot;Toss&amp;quot; (Whirr), &amp;quot;Submission&amp;quot; (Galaxie 500), &amp;quot;Superpowers&amp;quot; (Dismemberment Plan), &amp;quot;Kick&amp;quot; (Conor Oberst), &amp;quot;Revenge&amp;quot; (Black Flag), &amp;quot;Combat&amp;quot; (Deftones)&lt;/p&gt;\\n\\n&lt;p&gt;&lt;strong&gt;Flying&lt;/strong&gt; (53mins):\\n&lt;a href=\"https://play.spotify.com/user/oshoney/playlist/4S2Av9koyYQOpyifjFgtiu\"&gt;https://play.spotify.com/user/oshoney/playlist/4S2Av9koyYQOpyifjFgtiu&lt;/a&gt;\\nContains: &amp;quot;Flying&amp;quot; (Secret Machines), &amp;quot;Bird&amp;quot; (The Knife), &amp;quot;Aerial&amp;quot; (Four Tet), &amp;quot;Air&amp;quot; (MellowHigh), &amp;quot;Gust of Wind&amp;quot; (Pharrell), &amp;quot;I Believe I Can Fly&amp;quot; (R. Kelly), &amp;quot;Fly&amp;quot; (Nick Drake), &amp;quot;Sky&amp;quot; (Joshua Radin), &amp;quot;Hurricane&amp;quot; (Bob Dylan), &amp;quot;Learn to Fly&amp;quot; (Foo Fighters), &amp;quot;Ascent&amp;quot; (Max Richter), &amp;quot;An Ending (Ascent)&amp;quot; (Brian Eno)&lt;/p&gt;\\n\\n&lt;p&gt;&lt;strong&gt;Ground/Rock&lt;/strong&gt; (48mins):\\n&lt;a href=\"https://play.spotify.com/user/oshoney/playlist/1c57dazGacT7WCWm0gifD2\"&gt;https://play.spotify.com/user/oshoney/playlist/1c57dazGacT7WCWm0gifD2&lt;/a&gt;\\nContains: &amp;quot;GROUND&amp;quot; (Christopher Willits), &amp;quot;Earthquake&amp;quot; (Deerhunter), &amp;quot;Dirt on the Ground&amp;quot; (Tom Waits), &amp;quot;Dig, Lazarus, Dig!&amp;quot; (Nick Cave), &amp;quot;Bones&amp;quot; (Radiohead), &amp;quot;Bulldozer&amp;quot; (Cold War Kids), &amp;quot;Dig&amp;quot; (Nothing), &amp;quot;Drilling&amp;quot; (Minus the Bear), &amp;quot;Stone&amp;quot; (Coasts), &amp;quot;I Am A Rock&amp;quot; (Simon &amp;amp; Garfunkel), &amp;quot;Mud&amp;quot; (Peaches)&lt;/p&gt;\\n\\n&lt;p&gt;&lt;strong&gt;Dragon/Fairy&lt;/strong&gt; (69mins):\\n&lt;a href=\"https://play.spotify.com/user/oshoney/playlist/2059Jc127mJRIO22NGaL2G\"&gt;https://play.spotify.com/user/oshoney/playlist/2059Jc127mJRIO22NGaL2G&lt;/a&gt;\\nContains: &amp;quot;Year of the Dragon&amp;quot; (Sufjan Stevens), &amp;quot;Twin Dragons&amp;quot; (Anamanaguchi), &amp;quot;Year of the Dragon&amp;quot; (The Entrance Band), &amp;quot;Dragon Queen&amp;quot; (the Yeah Yeah Yeahs), &amp;quot;Year of the Dragon&amp;quot; (Fucked Up), &amp;quot;Fairies Wear Boots&amp;quot; (Black Sabbath), &amp;quot;The Charm&amp;quot; (Maps &amp;amp; Atlases), &amp;quot;The Gleam pt. 2&amp;quot; (The Microphones), &amp;quot;Aura&amp;quot; (the Church), &amp;quot;Charm&amp;quot; (Body Language), &amp;quot;Draining&amp;quot; (Silversun Pickups), &amp;quot;Moonlight&amp;quot; (Bob Dylan)&lt;/p&gt;\\n\\n&lt;p&gt;&lt;strong&gt;Ghost&lt;/strong&gt; (49mins):\\n&lt;a href=\"https://play.spotify.com/user/oshoney/playlist/6Rcw4gvZgyqTB7WMuwltPx\"&gt;https://play.spotify.com/user/oshoney/playlist/6Rcw4gvZgyqTB7WMuwltPx&lt;/a&gt;\\nContains: &amp;quot;Ghost&amp;quot; (Neutral Milk Hotel), &amp;quot;The Curse&amp;quot; (Josh Ritter), &amp;quot;Ghosts&amp;quot; (Laura Marling), &amp;quot;Is There a Ghost&amp;quot; (Band of Horses), &amp;quot;Nightmare&amp;quot; (Tyler, the Creator), &amp;quot;Ghost&amp;quot; (Sky Ferreira), &amp;quot;Shadow&amp;quot; (Wild Nothing), &amp;quot;Little Ghost&amp;quot; (The White Stripes), &amp;quot;Ghosts&amp;quot; (The Head and the Heart), &amp;quot;Give Up the Ghost&amp;quot; (Radiohead), &amp;quot;Ghosts&amp;quot; (The Presets), &amp;quot;Convinced of the Hex&amp;quot; (the Flaming Lips)&lt;/p&gt;\\n\\n&lt;p&gt;&lt;strong&gt;Dark&lt;/strong&gt; (45mins):\\n&lt;a href=\"https://play.spotify.com/user/oshoney/playlist/7Gmkh5iCmhQWJ7YKy7sgVK\"&gt;https://play.spotify.com/user/oshoney/playlist/7Gmkh5iCmhQWJ7YKy7sgVK&lt;/a&gt;\\nContains: &amp;quot;Dark&amp;quot; (Prince), &amp;quot;Dark Fantasy&amp;quot; (Kanye West), &amp;quot;Severe Punishment&amp;quot; (Wu-Tang Clan), &amp;quot;Crunch Punch&amp;quot; (Julian Casablancas + the Voids), &amp;quot;Night&amp;quot; (Zola Jesus), &amp;quot;Dark Pulse&amp;quot; (Max Richter), &amp;quot;Sucker Punch&amp;quot; (Fujiya &amp;amp; Miyagi), &amp;quot;The Thiff&amp;quot; (Minus the Bear), &amp;quot;Fling&amp;quot; (Built to Spill), &amp;quot;Foul Play&amp;quot; (Ariel Pink), &amp;quot;Parting Shot&amp;quot; (Gwar), &amp;quot;Payback&amp;quot; (Slayer)&lt;/p&gt;\\n\\n&lt;p&gt;&lt;strong&gt;Steel&lt;/strong&gt; (49mins):\\n&lt;a href=\"https://play.spotify.com/user/oshoney/playlist/7A26etUlahlnqgxlwrn5Wr\"&gt;https://play.spotify.com/user/oshoney/playlist/7A26etUlahlnqgxlwrn5Wr&lt;/a&gt;\\nContains: &amp;quot;Metal&amp;quot; (Gary Numan), &amp;quot;Heart of Steel&amp;quot; (Lykke Li), &amp;quot;Steel &amp;amp; Glass&amp;quot; (John Lennon), &amp;quot;Heavy Metal&amp;quot; (Clap Your Hands Say Yeah), &amp;quot;Magnetic&amp;quot; (Trent Reznor &amp;amp; Atticus Ross), &amp;quot;Steel and Blood&amp;quot; (Minus the Bear), &amp;quot;Heavy Metal&amp;quot; (White Rabbit), &amp;quot;Meteor&amp;quot; (the bird and the bee), &amp;quot;Iron Maiden&amp;quot; (Ghostface Killah), &amp;quot;The Metal&amp;quot; (Tenacious D), &amp;quot;Heavy Metal&amp;quot; (Judas Priest), &amp;quot;Iron Man&amp;quot; (Black Sabbath)&lt;/p&gt;\\n\\n&lt;p&gt;Tell me your thoughts below! Thanks for reading/listening. Hope you all enjoy. &lt;/p&gt;\\n&lt;/div&gt;&lt;!-- SC_ON --&gt;', u'selftext': u'Hey /r/pokemon!\\n\\nAbout a week ago, I was listening to the song \"Electricity\" by Spiritualized, and an idea popped into my head - to create a themed playlist for each Pokemon type. The idea was that I would find songs that fit in line with each type - mostly based on each type\\'s moves and abilities. The style of music or mood didn\\'t matter - it was all about finding song titles that fit the theme. So I spent a couple days putting it together, and wanted to share them with you all!\\n\\nI decided to make each playlist 12 songs - not too long, not too short. I could have made some of these even longer, and for others it was a struggle to get to 12 - I had to combine Rock &amp; Ground and Dragon &amp; Fairy to make it work, but all the others are all by themselves. As for the song selection, I generally went with my own personal tastes when applicable, and had to reach for whatever I could find in others. So if you have a song in mind that you thought would have worked for any given type, I either missed it entirely, or am not a huge fan of that particular song/artist. \\n\\nBelow are the links to all 16 playlists. I decided to share them today so that hopefully this can give you something new to listen to as you\\'re traveling for Thanksgiving (for those of us in the US at least). Either way, I hope you like them and maybe even find a new song you love. Happy listening!\\n\\n**Electric** (44mins): https://play.spotify.com/user/oshoney/playlist/7Cjl0Z5LMkwE5XvkOyaEit\\nContains: \"Electricity\" (Spiritualized), \"Thunderbolt\" (Bjork), \"Electricity\" (The Avalanches), \"Lightning Song\" (Queens of the Stone Age), \"Electrical Storm\" (U2), \"Sparks\" (Royksopp), \"Electricity\" (OMD), \"Zap\" (Black Milk), \"Electrify\" (Beastie Boys), \"Shock Wave\" (Black Sabbath), \"Electricity\" (Captain Beefheart), \"Ride the Lightning\" (Metallica).\\n\\n**Water** (42mins):\\nhttps://play.spotify.com/user/oshoney/playlist/0H3Bk3zo1Kqp9Qoe5nVsXl\\nContains: \"The Water\" (Feist), \"Aquarium\" (Nosaj Thing), \"Rain\" (Explosions in the Sky), \"Dive\" (Caribou), \"Surf Wax America\" (Weezer), \"Cold Water\" (Tom Waits), \"Muddy Water\" (Nick Cave &amp; the Bad Seeds), \"Water Curses (Animal Collective), \"Waterfall\" (Ex-Hex), \"Super Soaker\" (Wavves), \"Deep Water\" (Portishead), \"Water\" (The Roots)\\n\\n**Fire** (52mins):\\nhttps://play.spotify.com/user/oshoney/playlist/2BsP23JtTPWXLe2YRFkHAV\\nContains: \"Fire\" (Jimi Hendrix), \"Burn\" (Nine Inch Nails), \"Ember City\" (Mastodon), \"Burn the Witch\" (Queens of the Stone Age), \"Fire It Up\" (Modest Mouse), \"Fire, Fire\" (MIA), \"The Fire\" (The Roots), \"Heatwave\" (SBTRKT), \"Burn\" (the Cure), \"The Flame\" (the Black Keys), \"Inferno\" (Beck), \"Ring of Fire\" (Johnny Cash)\\n\\n**Grass** (37mins):\\nhttps://play.spotify.com/user/oshoney/playlist/3C6SUlWnQV99yxQi9zOIsQ\\nContains: \"Grass\" (Animal Collective), \"Teeth in the Grass\" (Iron &amp; Wine), \"Leaves That Are Green\" (Simon &amp; Garfunkel), \"Spores\" (Jon Hopkins), \"Back in the Tall Grass\" (Future Islands), \"Leech\" (Incubus), \"Last Leaf\" (Tom Waits), \"Seeds\" (TV on the Radio), \"Leech\" (Trash Talk), \"Through the Grass\" (Wild Nothing), \"Leech\" (Melvins), \"Leaf House\" (Animal Collective)\\n\\n**Bug** (53mins): \\nhttps://play.spotify.com/user/oshoney/playlist/2QVOMWAW1UaeX9tCnDdAZn\\nContains: \"Bug\" (Wavves), \"Spiderwebs\" (No Doubt), \"Buggin\\' Out\" (A Tribe Called Quest), \"Powder\" (MF Doom), \"Strings\" (Asobi Seksu), \"Bugs Don\\'t Buzz (Majical Cloudz), \"Bugs\" (O\\'Death), \"Horn\" (Nick Drake), \"Swarm\" (Ben Frost), \"Spiderwebbed\" (Tortoise), \"Strings\" (A.C. Newman), \"Spiders (Kidsmoke)\" (Wilco)\\n\\n**Ice** (46mins):\\nhttps://play.spotify.com/user/oshoney/playlist/6LhctpOzssAivaxZffwOUz\\nContains: \"Avalanche\" (Leonard Cohen), \"Aurora\" (Bjork), \"In This Home On Ice\" (Clap Your Hands Say Yeah), \"The Avalanche\" (Sufjan Stevens), \"Ice Princess (Azealia Banks), \"Cold\" (Kanye West), \"Glaciers of Ice\" (Raekwon), \"Avalanche Rock\" (The Avalanches), \"Freeze\" (LFO), \"Snow\" (The Chemical Brothers), \"Avalanche\" (Zola Jesus), \"The Blizzard\" (Camera Obscura)\\n\\n**Poison** (48mins):\\nhttps://play.spotify.com/user/oshoney/playlist/2JTiOK1RTk3OSskh4Lvn84\\nContains: \"Poison\" (Alice Cooper), \"Post Acid\" (Wavves), \"Little Drop of Poison\" (Tom Waits), \"Battery Acid\" (Queens of the Stone Age), \"SludgeFeast\" (Dinosaur Jr), \"Toxicity\" (System of a Down), \"Spitting Venom\" (Modest Mouse), \"Poison Oak\" (Bright Eyes), \"Acid Tongue\" (Jenny Lewis), \"Poison\" (Bright Eyes &amp; Neva Dinova), \"Smog in Cities\" (Black Moth Super Rainbow), \"Poisonous Darts\" (Ghostface Killah)\\n\\n**Psychic** (61mins):\\nhttps://play.spotify.com/user/oshoney/playlist/1kfU7tlwNTMlcq1r8dB0BX\\nContains: \"Psychic Chasms\" (Neon Indian), \"Confusion\" (New Order), \"Psycho Killer\" (Talking Heads), \"Psychic City\" (YACHT), \"Reflektor\" (Arcade Fire), \"Hypnotize\" (Notorious B.I.G.), \"Synchronize\" (Discodeine &amp; Jarvis Cocker), \"Tricky Tricky\" (Royksopp), \"Psychic Trauma\" (Cloud Nothings), \"Confusion\" (ELO), \"Dazed &amp; Confused\" (Led Zeppelin), \"Rest\" (Michael Kiwanuka)\\n\\n**Normal** (53mins):\\nhttps://play.spotify.com/user/oshoney/playlist/0nZIJx9C914sFuHzh5WaHz\\nContains: \"Normal Person\" (Arcade Fire), \"Sing\" (Slowdive), \"Normal Song\" (Perfume Genius), \"Smokescreen\" (Amusement Parks on Fire), \"Normal\" (Conor Oberst), \"Cut\" (the Cure), \"Flash\" (Queen), \"Normal\" (Screaming Females), \"Body Slam\" (Bootsy Collins), \"Rage!\" (Chromeo), \"Smokescreen\" (Religious Knives), \"Mr. Self Destruct\" (Nine Inch Nails)\\n\\n**Fighting** (47mins):\\nhttps://play.spotify.com/user/oshoney/playlist/2tUYTbRfCLRnxi6HsEfiB8\\nContains: \"Fighting\" (Goodie Mob), \"The Uppercut\" (2Pac), \"Fight the Power\" (Public Enemy), \"Karate Chop\" (Lil Wayne), \"Fight for Your Right\" (Beastie Boys), \"Fight Test\" (Flaming Lips), \"Toss\" (Whirr), \"Submission\" (Galaxie 500), \"Superpowers\" (Dismemberment Plan), \"Kick\" (Conor Oberst), \"Revenge\" (Black Flag), \"Combat\" (Deftones)\\n\\n**Flying** (53mins):\\nhttps://play.spotify.com/user/oshoney/playlist/4S2Av9koyYQOpyifjFgtiu\\nContains: \"Flying\" (Secret Machines), \"Bird\" (The Knife), \"Aerial\" (Four Tet), \"Air\" (MellowHigh), \"Gust of Wind\" (Pharrell), \"I Believe I Can Fly\" (R. Kelly), \"Fly\" (Nick Drake), \"Sky\" (Joshua Radin), \"Hurricane\" (Bob Dylan), \"Learn to Fly\" (Foo Fighters), \"Ascent\" (Max Richter), \"An Ending (Ascent)\" (Brian Eno)\\n\\n**Ground/Rock** (48mins):\\nhttps://play.spotify.com/user/oshoney/playlist/1c57dazGacT7WCWm0gifD2\\nContains: \"GROUND\" (Christopher Willits), \"Earthquake\" (Deerhunter), \"Dirt on the Ground\" (Tom Waits), \"Dig, Lazarus, Dig!\" (Nick Cave), \"Bones\" (Radiohead), \"Bulldozer\" (Cold War Kids), \"Dig\" (Nothing), \"Drilling\" (Minus the Bear), \"Stone\" (Coasts), \"I Am A Rock\" (Simon &amp; Garfunkel), \"Mud\" (Peaches)\\n\\n**Dragon/Fairy** (69mins):\\nhttps://play.spotify.com/user/oshoney/playlist/2059Jc127mJRIO22NGaL2G\\nContains: \"Year of the Dragon\" (Sufjan Stevens), \"Twin Dragons\" (Anamanaguchi), \"Year of the Dragon\" (The Entrance Band), \"Dragon Queen\" (the Yeah Yeah Yeahs), \"Year of the Dragon\" (Fucked Up), \"Fairies Wear Boots\" (Black Sabbath), \"The Charm\" (Maps &amp; Atlases), \"The Gleam pt. 2\" (The Microphones), \"Aura\" (the Church), \"Charm\" (Body Language), \"Draining\" (Silversun Pickups), \"Moonlight\" (Bob Dylan)\\n\\n**Ghost** (49mins):\\nhttps://play.spotify.com/user/oshoney/playlist/6Rcw4gvZgyqTB7WMuwltPx\\nContains: \"Ghost\" (Neutral Milk Hotel), \"The Curse\" (Josh Ritter), \"Ghosts\" (Laura Marling), \"Is There a Ghost\" (Band of Horses), \"Nightmare\" (Tyler, the Creator), \"Ghost\" (Sky Ferreira), \"Shadow\" (Wild Nothing), \"Little Ghost\" (The White Stripes), \"Ghosts\" (The Head and the Heart), \"Give Up the Ghost\" (Radiohead), \"Ghosts\" (The Presets), \"Convinced of the Hex\" (the Flaming Lips)\\n\\n**Dark** (45mins):\\nhttps://play.spotify.com/user/oshoney/playlist/7Gmkh5iCmhQWJ7YKy7sgVK\\nContains: \"Dark\" (Prince), \"Dark Fantasy\" (Kanye West), \"Severe Punishment\" (Wu-Tang Clan), \"Crunch Punch\" (Julian Casablancas + the Voids), \"Night\" (Zola Jesus), \"Dark Pulse\" (Max Richter), \"Sucker Punch\" (Fujiya &amp; Miyagi), \"The Thiff\" (Minus the Bear), \"Fling\" (Built to Spill), \"Foul Play\" (Ariel Pink), \"Parting Shot\" (Gwar), \"Payback\" (Slayer)\\n\\n**Steel** (49mins):\\nhttps://play.spotify.com/user/oshoney/playlist/7A26etUlahlnqgxlwrn5Wr\\nContains: \"Metal\" (Gary Numan), \"Heart of Steel\" (Lykke Li), \"Steel &amp; Glass\" (John Lennon), \"Heavy Metal\" (Clap Your Hands Say Yeah), \"Magnetic\" (Trent Reznor &amp; Atticus Ross), \"Steel and Blood\" (Minus the Bear), \"Heavy Metal\" (White Rabbit), \"Meteor\" (the bird and the bee), \"Iron Maiden\" (Ghostface Killah), \"The Metal\" (Tenacious D), \"Heavy Metal\" (Judas Priest), \"Iron Man\" (Black Sabbath)\\n\\n\\n\\nTell me your thoughts below! Thanks for reading/listening. Hope you all enjoy. ', u'likes': None, u'user_reports': [], u'secure_media': None, u'link_flair_text': None, u'id': u'2ni6vy', u'gilded': 0, u'secure_media_embed': {}, u'clicked': False, u'report_reasons': None, u'author': u'oshoney', u'media': None, u'score': 12, u'approved_by': None, u'over_18': False, u'hidden': False, u'num_comments': 11, u'thumbnail': u'self', u'subreddit_id': u't5_2qmeb', u'edited': False, u'link_flair_css_class': None, u'author_flair_css_class': None, u'downs': 0, u'saved': False, u'stickied': False, u'is_self': True, u'permalink': u'/r/pokemon/comments/2ni6vy/i_created_themed_spotify_playlists_for_each/', u'name': u't3_2ni6vy', u'created': 1417058679.0, u'url': u'http://www.reddit.com/r/pokemon/comments/2ni6vy/i_created_themed_spotify_playlists_for_each/', u'author_flair_text': None, u'title': u'I created themed Spotify playlists for each Pokemon type (OC)', u'created_utc': 1417029879.0, u'distinguished': None, u'mod_reports': [], u'visited': False, u'num_reports': None, u'ups': 12}\n",
        "{u'domain': u'imgur.com', u'banned_by': None, u'media_embed': {}, u'subreddit': u'WTF', u'selftext_html': None, u'selftext': u'', u'likes': None, u'user_reports': [], u'secure_media': None, u'link_flair_text': None, u'id': u'2ni212', u'gilded': 0, u'secure_media_embed': {}, u'clicked': False, u'report_reasons': None, u'author': u'feedmeyourspaghetti', u'media': None, u'score': 3795, u'approved_by': None, u'over_18': False, u'hidden': False, u'num_comments': 1006, u'thumbnail': u'', u'subreddit_id': u't5_2qh61', u'edited': False, u'link_flair_css_class': None, u'author_flair_css_class': None, u'downs': 0, u'saved': False, u'stickied': False, u'is_self': False, u'permalink': u'/r/WTF/comments/2ni212/got_this_letter_anonymously_in_the_mail/', u'name': u't3_2ni212', u'created': 1417027510.0, u'url': u'http://imgur.com/5iPYbCv', u'author_flair_text': None, u'title': u'Got this letter anonymously in the mail', u'created_utc': 1417027510.0, u'distinguished': None, u'mod_reports': [], u'visited': False, u'num_reports': None, u'ups': 3795}\n",
        "{u'domain': u'i.imgur.com', u'banned_by': None, u'media_embed': {}, u'subreddit': u'AdviceAnimals', u'selftext_html': None, u'selftext': u'', u'likes': None, u'user_reports': [], u'secure_media': None, u'link_flair_text': None, u'id': u'2ngp9y', u'gilded': 0, u'secure_media_embed': {}, u'clicked': False, u'report_reasons': None, u'author': u'stokednbt', u'media': None, u'score': 3, u'approved_by': None, u'over_18': False, u'hidden': False, u'num_comments': 3, u'thumbnail': u'http://b.thumbs.redditmedia.com/XeAK0SezoE00TWaZKVWmJipK2oNMXStH05GCcLecOOY.jpg', u'subreddit_id': u't5_2s7tt', u'edited': False, u'link_flair_css_class': None, u'author_flair_css_class': u'skid', u'downs': 0, u'saved': False, u'stickied': False, u'is_self': False, u'permalink': u'/r/AdviceAnimals/comments/2ngp9y/my_thoughts_with_3_weeks_left_in_the_semester/', u'name': u't3_2ngp9y', u'created': 1417021392.0, u'url': u'http://i.imgur.com/dX9QFlw.jpg', u'author_flair_text': u'', u'title': u'My thoughts with 3 weeks left in the semester', u'created_utc': 1416992592.0, u'distinguished': None, u'mod_reports': [], u'visited': False, u'num_reports': None, u'ups': 3}\n",
        "{u'domain': u'i.imgur.com', u'banned_by': None, u'media_embed': {}, u'subreddit': u'AdviceAnimals', u'selftext_html': None, u'selftext': u'', u'likes': None, u'user_reports': [], u'secure_media': None, u'link_flair_text': None, u'id': u'2mlnzg', u'gilded': 0, u'secure_media_embed': {}, u'clicked': False, u'report_reasons': None, u'author': u'sage199', u'media': None, u'score': 5, u'approved_by': None, u'over_18': False, u'hidden': False, u'num_comments': 2, u'thumbnail': u'http://b.thumbs.redditmedia.com/HH76oM6ARdNFQmhs2QD8a5WSSPBd4s8L-YTS7o0kYQI.jpg', u'subreddit_id': u't5_2s7tt', u'edited': False, u'link_flair_css_class': None, u'author_flair_css_class': None, u'downs': 0, u'saved': False, u'stickied': False, u'is_self': False, u'permalink': u'/r/AdviceAnimals/comments/2mlnzg/its_only_november_and_we_already_have_an_inch_of/', u'name': u't3_2mlnzg', u'created': 1416290582.0, u'url': u'http://i.imgur.com/5QZYim7.jpg', u'author_flair_text': None, u'title': u\"It's only November and we already have an inch of snow\", u'created_utc': 1416261782.0, u'distinguished': None, u'mod_reports': [], u'visited': False, u'num_reports': None, u'ups': 5}\n",
        "{u'domain': u'blog.grabcad.com', u'banned_by': None, u'media_embed': {}, u'subreddit': u'3Dprinting', u'selftext_html': None, u'selftext': u'', u'likes': None, u'user_reports': [], u'secure_media': None, u'link_flair_text': None, u'id': u'2nhxqv', u'gilded': 0, u'secure_media_embed': {}, u'clicked': False, u'report_reasons': None, u'author': u'UndeadCaesar', u'media': None, u'score': 16, u'approved_by': None, u'over_18': False, u'hidden': False, u'num_comments': 2, u'thumbnail': u'http://b.thumbs.redditmedia.com/IUiqCz0FdFvLCq7sj9D-jwMNJITpAV-GYAmB-LZAaSk.jpg', u'subreddit_id': u't5_2rk5q', u'edited': False, u'link_flair_css_class': None, u'author_flair_css_class': None, u'downs': 0, u'saved': False, u'stickied': False, u'is_self': False, u'permalink': u'/r/3Dprinting/comments/2nhxqv/the_biggest_cocreated_3dprinted_object_on_earth/', u'name': u't3_2nhxqv', u'created': 1417054267.0, u'url': u'http://blog.grabcad.com/blog/2014/11/21/project-spotlight-project-egg/?utm_source=GrabCAD+Community+Members&amp;utm_campaign=2b178721ab-weekly_update_48&amp;utm_medium=email&amp;utm_term=0_7504037835-2b178721ab-257759129', u'author_flair_text': None, u'title': u'The Biggest Co-created 3D-Printed Object on Earth', u'created_utc': 1417025467.0, u'distinguished': None, u'mod_reports': [], u'visited': False, u'num_reports': None, u'ups': 16}\n",
        "{u'domain': u'self.serialpodcast', u'banned_by': None, u'media_embed': {}, u'subreddit': u'serialpodcast', u'selftext_html': u'&lt;!-- SC_OFF --&gt;&lt;div class=\"md\"&gt;&lt;p&gt;I really enjoy Serial, but I have to say in an attempt to get &amp;quot;all the facts&amp;quot;  about the case, they really avoid the basics of the case. It&amp;#39;s a fascinating story, but the case is really, really simple. &lt;/p&gt;\\n\\n&lt;p&gt;1) Jay was involved (so it wasn&amp;#39;t a random serial killer)&lt;/p&gt;\\n\\n&lt;p&gt;2) Adnan was with Jay that night - and his cell pings in the park (after he got it back)&lt;/p&gt;\\n\\n&lt;p&gt;3) Either Jay did it or Adnan did it&lt;/p&gt;\\n\\n&lt;p&gt;--a) Jay - no motive and went to the cops (guilty of accessory). Has NO reason to give them the case on a silver platter if he did it. If Adnan has any kind of alibi he is toast. &lt;/p&gt;\\n\\n&lt;p&gt;--b) Adnan - Can&amp;#39;t refute anything in Jay&amp;#39;s story. No explanations for why he was in the park. Doesn&amp;#39;t accuse Jay of killing Hae.&lt;/p&gt;\\n\\n&lt;p&gt;Yes, there are a million details that the state probably gets wrong.  But the above 3 points are pretty much the entire case.  The show is really chasing its tail at this point on minor details and hearsay. &lt;/p&gt;\\n\\n&lt;p&gt;That said, the show is very entertaining. Just don&amp;#39;t get your hopes up that this thing is going to blow open on the payphones not being at bestbuy. &lt;/p&gt;\\n&lt;/div&gt;&lt;!-- SC_ON --&gt;', u'selftext': u'I really enjoy Serial, but I have to say in an attempt to get \"all the facts\"  about the case, they really avoid the basics of the case. It\\'s a fascinating story, but the case is really, really simple. \\n\\n1) Jay was involved (so it wasn\\'t a random serial killer)\\n\\n2) Adnan was with Jay that night - and his cell pings in the park (after he got it back)\\n\\n3) Either Jay did it or Adnan did it\\n\\n--a) Jay - no motive and went to the cops (guilty of accessory). Has NO reason to give them the case on a silver platter if he did it. If Adnan has any kind of alibi he is toast. \\n\\n--b) Adnan - Can\\'t refute anything in Jay\\'s story. No explanations for why he was in the park. Doesn\\'t accuse Jay of killing Hae.\\n\\n\\nYes, there are a million details that the state probably gets wrong.  But the above 3 points are pretty much the entire case.  The show is really chasing its tail at this point on minor details and hearsay. \\n\\nThat said, the show is very entertaining. Just don\\'t get your hopes up that this thing is going to blow open on the payphones not being at bestbuy. ', u'likes': None, u'user_reports': [], u'secure_media': None, u'link_flair_text': u'Debate&amp;Discussion', u'id': u'2ni09j', u'gilded': 0, u'secure_media_embed': {}, u'clicked': False, u'report_reasons': None, u'author': u'rocklanders', u'media': None, u'score': 20, u'approved_by': None, u'over_18': False, u'hidden': False, u'num_comments': 98, u'thumbnail': u'self', u'subreddit_id': u't5_33vph', u'edited': 1417026882.0, u'link_flair_css_class': u'debate', u'author_flair_css_class': u'', u'downs': 0, u'saved': False, u'stickied': False, u'is_self': True, u'permalink': u'/r/serialpodcast/comments/2ni09j/adnan_is_guilty_the_show_is_strung_on_irrelevant/', u'name': u't3_2ni09j', u'created': 1417055476.0, u'url': u'http://www.reddit.com/r/serialpodcast/comments/2ni09j/adnan_is_guilty_the_show_is_strung_on_irrelevant/', u'author_flair_text': u'Crab Crib Fan', u'title': u'Adnan is guilty, the show is strung on irrelevant details', u'created_utc': 1417026676.0, u'distinguished': None, u'mod_reports': [], u'visited': False, u'num_reports': None, u'ups': 20}\n",
        "{u'domain': u'i.imgur.com', u'banned_by': None, u'media_embed': {}, u'subreddit': u'tf2', u'selftext_html': None, u'selftext': u'', u'likes': None, u'user_reports': [], u'secure_media': None, u'link_flair_text': u'Fluff', u'id': u'2nimjx', u'gilded': 0, u'secure_media_embed': {}, u'clicked': False, u'report_reasons': None, u'author': u'plsdropthesoap', u'media': None, u'score': 95, u'approved_by': None, u'over_18': False, u'hidden': False, u'num_comments': 25, u'thumbnail': u'http://a.thumbs.redditmedia.com/AEbkj-CegFjGR-Wta3RrHX3NYghIXp1WdAaA4X1XyV4.jpg', u'subreddit_id': u't5_2qka0', u'edited': False, u'link_flair_css_class': u'fluff', u'author_flair_css_class': u'soldierred-forcenormal', u'downs': 0, u'saved': False, u'stickied': False, u'is_self': False, u'permalink': u'/r/tf2/comments/2nimjx/doing_my_part_to_end_the_metal_inflation/', u'name': u't3_2nimjx', u'created': 1417066880.0, u'url': u'http://i.imgur.com/DfI9ZHN.jpg', u'author_flair_text': u'', u'title': u'doing my part to end the metal inflation', u'created_utc': 1417038080.0, u'distinguished': None, u'mod_reports': [], u'visited': False, u'num_reports': None, u'ups': 95}\n",
        "{u'domain': u'youtube.com', u'banned_by': None, u'media_embed': {u'content': u'&lt;iframe class=\"embedly-embed\" src=\"//cdn.embedly.com/widgets/media.html?src=http%3A%2F%2Fwww.youtube.com%2Fembed%2FsXd1jQVlAUo%3Ffeature%3Doembed&amp;url=http%3A%2F%2Fwww.youtube.com%2Fwatch%3Fv%3DsXd1jQVlAUo&amp;image=http%3A%2F%2Fi.ytimg.com%2Fvi%2FsXd1jQVlAUo%2Fhqdefault.jpg&amp;key=2aa3c4d5f3de4f5b9120b660ad850dc9&amp;type=text%2Fhtml&amp;schema=youtube\" width=\"600\" height=\"338\" scrolling=\"no\" frameborder=\"0\" allowfullscreen&gt;&lt;/iframe&gt;', u'width': 600, u'scrolling': False, u'height': 338}, u'subreddit': u'smashbros', u'selftext_html': None, u'selftext': u'', u'likes': None, u'user_reports': [], u'secure_media': {u'type': u'youtube.com', u'oembed': {u'provider_url': u'http://www.youtube.com/', u'description': u'Enjoy!', u'title': u'\"Force Majeure\" - Mr-R\\'s Final SSBB Combo Video', u'url': u'http://www.youtube.com/watch?v=sXd1jQVlAUo', u'author_name': u'fpsFALSE', u'height': 338, u'width': 600, u'html': u'&lt;iframe class=\"embedly-embed\" src=\"https://cdn.embedly.com/widgets/media.html?src=https%3A%2F%2Fwww.youtube.com%2Fembed%2FsXd1jQVlAUo%3Ffeature%3Doembed&amp;url=http%3A%2F%2Fwww.youtube.com%2Fwatch%3Fv%3DsXd1jQVlAUo&amp;image=http%3A%2F%2Fi.ytimg.com%2Fvi%2FsXd1jQVlAUo%2Fhqdefault.jpg&amp;key=2aa3c4d5f3de4f5b9120b660ad850dc9&amp;type=text%2Fhtml&amp;schema=youtube\" width=\"600\" height=\"338\" scrolling=\"no\" frameborder=\"0\" allowfullscreen&gt;&lt;/iframe&gt;', u'thumbnail_width': 480, u'version': u'1.0', u'provider_name': u'YouTube', u'thumbnail_url': u'https://i.embed.ly/1/image?url=http%3A%2F%2Fi.ytimg.com%2Fvi%2FsXd1jQVlAUo%2Fhqdefault.jpg&amp;key=b1e305db91cf4aa5a86b732cc9fffceb', u'type': u'video', u'thumbnail_height': 360, u'author_url': u'http://www.youtube.com/user/fpsFALSE'}}, u'link_flair_text': u'Brawl', u'id': u'2ni1e5', u'gilded': 0, u'secure_media_embed': {u'content': u'&lt;iframe class=\"embedly-embed\" src=\"https://cdn.embedly.com/widgets/media.html?src=https%3A%2F%2Fwww.youtube.com%2Fembed%2FsXd1jQVlAUo%3Ffeature%3Doembed&amp;url=http%3A%2F%2Fwww.youtube.com%2Fwatch%3Fv%3DsXd1jQVlAUo&amp;image=http%3A%2F%2Fi.ytimg.com%2Fvi%2FsXd1jQVlAUo%2Fhqdefault.jpg&amp;key=2aa3c4d5f3de4f5b9120b660ad850dc9&amp;type=text%2Fhtml&amp;schema=youtube\" width=\"600\" height=\"338\" scrolling=\"no\" frameborder=\"0\" allowfullscreen&gt;&lt;/iframe&gt;', u'width': 600, u'scrolling': False, u'height': 338}, u'clicked': False, u'report_reasons': None, u'author': u'NPPraxis', u'media': {u'type': u'youtube.com', u'oembed': {u'provider_url': u'http://www.youtube.com/', u'description': u'Enjoy!', u'title': u'\"Force Majeure\" - Mr-R\\'s Final SSBB Combo Video', u'url': u'http://www.youtube.com/watch?v=sXd1jQVlAUo', u'author_name': u'fpsFALSE', u'height': 338, u'width': 600, u'html': u'&lt;iframe class=\"embedly-embed\" src=\"//cdn.embedly.com/widgets/media.html?src=http%3A%2F%2Fwww.youtube.com%2Fembed%2FsXd1jQVlAUo%3Ffeature%3Doembed&amp;url=http%3A%2F%2Fwww.youtube.com%2Fwatch%3Fv%3DsXd1jQVlAUo&amp;image=http%3A%2F%2Fi.ytimg.com%2Fvi%2FsXd1jQVlAUo%2Fhqdefault.jpg&amp;key=2aa3c4d5f3de4f5b9120b660ad850dc9&amp;type=text%2Fhtml&amp;schema=youtube\" width=\"600\" height=\"338\" scrolling=\"no\" frameborder=\"0\" allowfullscreen&gt;&lt;/iframe&gt;', u'thumbnail_width': 480, u'version': u'1.0', u'provider_name': u'YouTube', u'thumbnail_url': u'http://i.ytimg.com/vi/sXd1jQVlAUo/hqdefault.jpg', u'type': u'video', u'thumbnail_height': 360, u'author_url': u'http://www.youtube.com/user/fpsFALSE'}}, u'score': 74, u'approved_by': None, u'over_18': False, u'hidden': False, u'num_comments': 21, u'thumbnail': u'http://b.thumbs.redditmedia.com/f4mfqXwXu76kSGMpV1bHFY_G_hUwcBDweNqfeF9rxMA.jpg', u'subreddit_id': u't5_2qiep', u'edited': False, u'link_flair_css_class': u'brawl', u'author_flair_css_class': u'peachbrawl', u'downs': 0, u'saved': False, u'stickied': False, u'is_self': False, u'permalink': u'/r/smashbros/comments/2ni1e5/since_were_doing_brawl_plays_today_if_you_havent/', u'name': u't3_2ni1e5', u'created': 1417056020.0, u'url': u'https://youtube.com/watch?v=sXd1jQVlAUo', u'author_flair_text': u'', u'title': u'Since we\\'re doing Brawl plays today, if you haven\\'t seen Mr. R\\'s \"Force Majuere\" you haven\\'t seen the best of Brawl.', u'created_utc': 1417027220.0, u'distinguished': None, u'mod_reports': [], u'visited': False, u'num_reports': None, u'ups': 74}\n",
        "{u'domain': u'youtu.be', u'banned_by': None, u'media_embed': {u'content': u'&lt;iframe class=\"embedly-embed\" src=\"//cdn.embedly.com/widgets/media.html?src=http%3A%2F%2Fwww.youtube.com%2Fembed%2FtSdZVUPlGs8%3Ffeature%3Doembed&amp;url=http%3A%2F%2Fwww.youtube.com%2Fwatch%3Fv%3DtSdZVUPlGs8&amp;image=http%3A%2F%2Fi.ytimg.com%2Fvi%2FtSdZVUPlGs8%2Fhqdefault.jpg&amp;key=2aa3c4d5f3de4f5b9120b660ad850dc9&amp;type=text%2Fhtml&amp;schema=youtube\" width=\"600\" height=\"338\" scrolling=\"no\" frameborder=\"0\" allowfullscreen&gt;&lt;/iframe&gt;', u'width': 600, u'scrolling': False, u'height': 338}, u'subreddit': u'torontoraptors', u'selftext_html': None, u'selftext': u'', u'likes': None, u'user_reports': [], u'secure_media': {u'type': u'youtu.be', u'oembed': {u'provider_url': u'http://www.youtube.com/', u'description': u'Check out Kyle Lowry talk about which type of music fits his style of play. About the NBA: The NBA is the premier professional basketball league in the United States and Canada.', u'title': u'Kyle Lowry Describes the Music that Fits His Style of Play', u'url': u'http://www.youtube.com/watch?v=tSdZVUPlGs8', u'author_name': u'NBA', u'height': 338, u'width': 600, u'html': u'&lt;iframe class=\"embedly-embed\" src=\"https://cdn.embedly.com/widgets/media.html?src=https%3A%2F%2Fwww.youtube.com%2Fembed%2FtSdZVUPlGs8%3Ffeature%3Doembed&amp;url=http%3A%2F%2Fwww.youtube.com%2Fwatch%3Fv%3DtSdZVUPlGs8&amp;image=http%3A%2F%2Fi.ytimg.com%2Fvi%2FtSdZVUPlGs8%2Fhqdefault.jpg&amp;key=2aa3c4d5f3de4f5b9120b660ad850dc9&amp;type=text%2Fhtml&amp;schema=youtube\" width=\"600\" height=\"338\" scrolling=\"no\" frameborder=\"0\" allowfullscreen&gt;&lt;/iframe&gt;', u'thumbnail_width': 480, u'version': u'1.0', u'provider_name': u'YouTube', u'thumbnail_url': u'https://i.embed.ly/1/image?url=http%3A%2F%2Fi.ytimg.com%2Fvi%2FtSdZVUPlGs8%2Fhqdefault.jpg&amp;key=b1e305db91cf4aa5a86b732cc9fffceb', u'type': u'video', u'thumbnail_height': 360, u'author_url': u'http://www.youtube.com/user/NBA'}}, u'link_flair_text': None, u'id': u'2njshh', u'gilded': 0, u'secure_media_embed': {u'content': u'&lt;iframe class=\"embedly-embed\" src=\"https://cdn.embedly.com/widgets/media.html?src=https%3A%2F%2Fwww.youtube.com%2Fembed%2FtSdZVUPlGs8%3Ffeature%3Doembed&amp;url=http%3A%2F%2Fwww.youtube.com%2Fwatch%3Fv%3DtSdZVUPlGs8&amp;image=http%3A%2F%2Fi.ytimg.com%2Fvi%2FtSdZVUPlGs8%2Fhqdefault.jpg&amp;key=2aa3c4d5f3de4f5b9120b660ad850dc9&amp;type=text%2Fhtml&amp;schema=youtube\" width=\"600\" height=\"338\" scrolling=\"no\" frameborder=\"0\" allowfullscreen&gt;&lt;/iframe&gt;', u'width': 600, u'scrolling': False, u'height': 338}, u'clicked': False, u'report_reasons': None, u'author': u'known_stranger647', u'media': {u'type': u'youtu.be', u'oembed': {u'provider_url': u'http://www.youtube.com/', u'description': u'Check out Kyle Lowry talk about which type of music fits his style of play. About the NBA: The NBA is the premier professional basketball league in the United States and Canada.', u'title': u'Kyle Lowry Describes the Music that Fits His Style of Play', u'url': u'http://www.youtube.com/watch?v=tSdZVUPlGs8', u'author_name': u'NBA', u'height': 338, u'width': 600, u'html': u'&lt;iframe class=\"embedly-embed\" src=\"//cdn.embedly.com/widgets/media.html?src=http%3A%2F%2Fwww.youtube.com%2Fembed%2FtSdZVUPlGs8%3Ffeature%3Doembed&amp;url=http%3A%2F%2Fwww.youtube.com%2Fwatch%3Fv%3DtSdZVUPlGs8&amp;image=http%3A%2F%2Fi.ytimg.com%2Fvi%2FtSdZVUPlGs8%2Fhqdefault.jpg&amp;key=2aa3c4d5f3de4f5b9120b660ad850dc9&amp;type=text%2Fhtml&amp;schema=youtube\" width=\"600\" height=\"338\" scrolling=\"no\" frameborder=\"0\" allowfullscreen&gt;&lt;/iframe&gt;', u'thumbnail_width': 480, u'version': u'1.0', u'provider_name': u'YouTube', u'thumbnail_url': u'http://i.ytimg.com/vi/tSdZVUPlGs8/hqdefault.jpg', u'type': u'video', u'thumbnail_height': 360, u'author_url': u'http://www.youtube.com/user/NBA'}}, u'score': 2, u'approved_by': None, u'over_18': False, u'hidden': False, u'num_comments': 0, u'thumbnail': u'http://a.thumbs.redditmedia.com/8nup0K3Kk0TXV-V0abFf2q7-fI_qlGmjNHwR-h6Q2p0.jpg', u'subreddit_id': u't5_2s5sb', u'edited': False, u'link_flair_css_class': None, u'author_flair_css_class': u'claw', u'downs': 0, u'saved': False, u'stickied': False, u'is_self': False, u'permalink': u'/r/torontoraptors/comments/2njshh/kyle_lowry_describes_the_music_that_fits_his/', u'name': u't3_2njshh', u'created': 1417092033.0, u'url': u'http://youtu.be/tSdZVUPlGs8', u'author_flair_text': u'', u'title': u'Kyle Lowry Describes the Music that Fits His Style of Play', u'created_utc': 1417063233.0, u'distinguished': None, u'mod_reports': [], u'visited': False, u'num_reports': None, u'ups': 2}\n",
        "{u'domain': u'svoemesto.de', u'banned_by': None, u'media_embed': {}, u'subreddit': u'electronic_cigarette', u'selftext_html': None, u'selftext': u'', u'likes': None, u'user_reports': [], u'secure_media': None, u'link_flair_text': None, u'id': u'2nhqxe', u'gilded': 0, u'secure_media_embed': {}, u'clicked': False, u'report_reasons': None, u'author': u'chrisbru', u'media': None, u'score': 32, u'approved_by': None, u'over_18': False, u'hidden': False, u'num_comments': 49, u'thumbnail': u'http://b.thumbs.redditmedia.com/sM6hfK2NCe4pSUhHJuTMW2yrF9ZWsmshw34lvsTQZKA.jpg', u'subreddit_id': u't5_2qmlu', u'edited': False, u'link_flair_css_class': None, u'author_flair_css_class': u'location', u'downs': 0, u'saved': False, u'stickied': False, u'is_self': False, u'permalink': u'/r/electronic_cigarette/comments/2nhqxe/kayfun_4_topfill_method/', u'name': u't3_2nhqxe', u'created': 1417050742.0, u'url': u'http://www.svoemesto.de/the-miracle-of-refilling/', u'author_flair_text': u'Des Moines, IA', u'title': u'Kayfun 4 top-fill method!', u'created_utc': 1417021942.0, u'distinguished': None, u'mod_reports': [], u'visited': False, u'num_reports': None, u'ups': 32}\n",
        "{u'domain': u'm.youtube.com', u'banned_by': None, u'media_embed': {u'content': u'&lt;iframe class=\"embedly-embed\" src=\"//cdn.embedly.com/widgets/media.html?src=http%3A%2F%2Fwww.youtube.com%2Fembed%2FjgoYErLLIbc%3Ffeature%3Doembed&amp;url=http%3A%2F%2Fwww.youtube.com%2Fwatch%3Fv%3DjgoYErLLIbc&amp;image=http%3A%2F%2Fi1.ytimg.com%2Fvi%2FjgoYErLLIbc%2Fhqdefault.jpg&amp;key=2aa3c4d5f3de4f5b9120b660ad850dc9&amp;type=text%2Fhtml&amp;schema=youtube\" width=\"600\" height=\"338\" scrolling=\"no\" frameborder=\"0\" allowfullscreen&gt;&lt;/iframe&gt;', u'width': 600, u'scrolling': False, u'height': 338}, u'subreddit': u'videos', u'selftext_html': None, u'selftext': u'', u'likes': None, u'user_reports': [], u'secure_media': {u'type': u'm.youtube.com', u'oembed': {u'provider_url': u'http://www.youtube.com/', u'description': u'These ladies were taking more than pictures on July 4th. New Smyrna Beach, FL', u'title': u'Busted! Two women caught stealing a canopy on the beach, then attack!', u'url': u'http://www.youtube.com/watch?v=jgoYErLLIbc', u'author_name': u'FlickyRich', u'height': 338, u'width': 600, u'html': u'&lt;iframe class=\"embedly-embed\" src=\"https://cdn.embedly.com/widgets/media.html?src=https%3A%2F%2Fwww.youtube.com%2Fembed%2FjgoYErLLIbc%3Ffeature%3Doembed&amp;url=http%3A%2F%2Fwww.youtube.com%2Fwatch%3Fv%3DjgoYErLLIbc&amp;image=http%3A%2F%2Fi1.ytimg.com%2Fvi%2FjgoYErLLIbc%2Fhqdefault.jpg&amp;key=2aa3c4d5f3de4f5b9120b660ad850dc9&amp;type=text%2Fhtml&amp;schema=youtube\" width=\"600\" height=\"338\" scrolling=\"no\" frameborder=\"0\" allowfullscreen&gt;&lt;/iframe&gt;', u'thumbnail_width': 480, u'version': u'1.0', u'provider_name': u'YouTube', u'thumbnail_url': u'https://i.embed.ly/1/image?url=http%3A%2F%2Fi1.ytimg.com%2Fvi%2FjgoYErLLIbc%2Fhqdefault.jpg&amp;key=b1e305db91cf4aa5a86b732cc9fffceb', u'type': u'video', u'thumbnail_height': 360, u'author_url': u'http://www.youtube.com/user/FlickyRich'}}, u'link_flair_text': None, u'id': u'29ww0a', u'gilded': 1, u'secure_media_embed': {u'content': u'&lt;iframe class=\"embedly-embed\" src=\"https://cdn.embedly.com/widgets/media.html?src=https%3A%2F%2Fwww.youtube.com%2Fembed%2FjgoYErLLIbc%3Ffeature%3Doembed&amp;url=http%3A%2F%2Fwww.youtube.com%2Fwatch%3Fv%3DjgoYErLLIbc&amp;image=http%3A%2F%2Fi1.ytimg.com%2Fvi%2FjgoYErLLIbc%2Fhqdefault.jpg&amp;key=2aa3c4d5f3de4f5b9120b660ad850dc9&amp;type=text%2Fhtml&amp;schema=youtube\" width=\"600\" height=\"338\" scrolling=\"no\" frameborder=\"0\" allowfullscreen&gt;&lt;/iframe&gt;', u'width': 600, u'scrolling': False, u'height': 338}, u'clicked': False, u'report_reasons': None, u'author': u'twiceread', u'media': {u'type': u'm.youtube.com', u'oembed': {u'provider_url': u'http://www.youtube.com/', u'description': u'These ladies were taking more than pictures on July 4th. New Smyrna Beach, FL', u'title': u'Busted! Two women caught stealing a canopy on the beach, then attack!', u'url': u'http://www.youtube.com/watch?v=jgoYErLLIbc', u'author_name': u'FlickyRich', u'height': 338, u'width': 600, u'html': u'&lt;iframe class=\"embedly-embed\" src=\"//cdn.embedly.com/widgets/media.html?src=http%3A%2F%2Fwww.youtube.com%2Fembed%2FjgoYErLLIbc%3Ffeature%3Doembed&amp;url=http%3A%2F%2Fwww.youtube.com%2Fwatch%3Fv%3DjgoYErLLIbc&amp;image=http%3A%2F%2Fi1.ytimg.com%2Fvi%2FjgoYErLLIbc%2Fhqdefault.jpg&amp;key=2aa3c4d5f3de4f5b9120b660ad850dc9&amp;type=text%2Fhtml&amp;schema=youtube\" width=\"600\" height=\"338\" scrolling=\"no\" frameborder=\"0\" allowfullscreen&gt;&lt;/iframe&gt;', u'thumbnail_width': 480, u'version': u'1.0', u'provider_name': u'YouTube', u'thumbnail_url': u'http://i1.ytimg.com/vi/jgoYErLLIbc/hqdefault.jpg', u'type': u'video', u'thumbnail_height': 360, u'author_url': u'http://www.youtube.com/user/FlickyRich'}}, u'score': 9023, u'approved_by': None, u'over_18': False, u'hidden': False, u'num_comments': 5499, u'thumbnail': u'http://a.thumbs.redditmedia.com/PZKnNIsWb3UD5IF2.jpg', u'subreddit_id': u't5_2qh1e', u'edited': False, u'link_flair_css_class': None, u'author_flair_css_class': None, u'downs': 0, u'saved': False, u'stickied': False, u'is_self': False, u'permalink': u'/r/videos/comments/29ww0a/so_i_finally_found_something_good_to_post_here_is/', u'name': u't3_29ww0a', u'created': 1404589083.0, u'url': u'http://m.youtube.com/watch?feature=youtu.be&amp;v=jgoYErLLIbc', u'author_flair_text': None, u'title': u\"So I finally found something good to post. Here is a video of two grandmothers trying to steal a dude's stuff at the beach.\", u'created_utc': 1404585483.0, u'distinguished': None, u'mod_reports': [], u'visited': False, u'num_reports': None, u'ups': 9023}\n",
        "{u'domain': u'i.imgur.com', u'banned_by': None, u'media_embed': {}, u'subreddit': u'norge', u'selftext_html': None, u'selftext': u'', u'likes': None, u'user_reports': [], u'secure_media': None, u'link_flair_text': None, u'id': u'2nibch', u'gilded': 0, u'secure_media_embed': {}, u'clicked': False, u'report_reasons': None, u'author': u'Ueland', u'media': None, u'score': 5, u'approved_by': None, u'over_18': False, u'hidden': False, u'num_comments': 0, u'thumbnail': u'http://a.thumbs.redditmedia.com/cYQjhTRHSW4oer23dTROOEswbr_HWvArbL-S41kBMr4.jpg', u'subreddit_id': u't5_2qh94', u'edited': False, u'link_flair_css_class': None, u'author_flair_css_class': None, u'downs': 0, u'saved': False, u'stickied': False, u'is_self': False, u'permalink': u'/r/norge/comments/2nibch/mj\\xf8nndalen_vs_brann_oppsummert_med_katter/', u'name': u't3_2nibch', u'created': 1417061129.0, u'url': u'http://i.imgur.com/YBwfhue.gif', u'author_flair_text': None, u'title': u'Mj\\xf8nndalen vs Brann - Oppsummert med katter', u'created_utc': 1417032329.0, u'distinguished': None, u'mod_reports': [], u'visited': False, u'num_reports': None, u'ups': 5}\n",
        "{u'domain': u'youtube.com', u'banned_by': None, u'media_embed': {u'content': u'&lt;iframe class=\"embedly-embed\" src=\"//cdn.embedly.com/widgets/media.html?src=http%3A%2F%2Fwww.youtube.com%2Fembed%2Fvideoseries%3Flist%3DPLAQri18RcEpTV1WBNaCIevt1Bb40GwN-w&amp;url=http%3A%2F%2Fwww.youtube.com%2Fwatch%3Fv%3DGXtEcQGLWW8%26list%3DPLAQri18RcEpTV1WBNaCIevt1Bb40GwN-w&amp;image=http%3A%2F%2Fi.ytimg.com%2Fvi%2FGXtEcQGLWW8%2Fhqdefault.jpg&amp;key=2aa3c4d5f3de4f5b9120b660ad850dc9&amp;type=text%2Fhtml&amp;schema=youtube\" width=\"600\" height=\"338\" scrolling=\"no\" frameborder=\"0\" allowfullscreen&gt;&lt;/iframe&gt;', u'width': 600, u'scrolling': False, u'height': 338}, u'subreddit': u'NoFap', u'selftext_html': None, u'selftext': u'', u'likes': None, u'user_reports': [], u'secure_media': {u'type': u'youtube.com', u'oembed': {u'provider_url': u'http://www.youtube.com/', u'description': u'I am Noah B.E. Church, author of \"Wack: Addicted to Internet Porn\". On October 11th, 2014, I told my story at Mississippi Studios as part of The Mystery Box Show, which features true, personal, sexually themed stories told by the people who lived them. I hope my story helps someone.', u'title': u'A story of porn addiction and recovery (Noah B.E. Church at The Mystery Box Show)', u'url': u'http://www.youtube.com/watch?v=GXtEcQGLWW8', u'author_name': u'Bvrning Qvestions', u'height': 338, u'width': 600, u'html': u'&lt;iframe class=\"embedly-embed\" src=\"https://cdn.embedly.com/widgets/media.html?src=https%3A%2F%2Fwww.youtube.com%2Fembed%2Fvideoseries%3Flist%3DPLAQri18RcEpTV1WBNaCIevt1Bb40GwN-w&amp;url=http%3A%2F%2Fwww.youtube.com%2Fwatch%3Fv%3DGXtEcQGLWW8%26list%3DPLAQri18RcEpTV1WBNaCIevt1Bb40GwN-w&amp;image=http%3A%2F%2Fi.ytimg.com%2Fvi%2FGXtEcQGLWW8%2Fhqdefault.jpg&amp;key=2aa3c4d5f3de4f5b9120b660ad850dc9&amp;type=text%2Fhtml&amp;schema=youtube\" width=\"600\" height=\"338\" scrolling=\"no\" frameborder=\"0\" allowfullscreen&gt;&lt;/iframe&gt;', u'thumbnail_width': 480, u'version': u'1.0', u'provider_name': u'YouTube', u'thumbnail_url': u'https://i.embed.ly/1/image?url=http%3A%2F%2Fi.ytimg.com%2Fvi%2FGXtEcQGLWW8%2Fhqdefault.jpg&amp;key=b1e305db91cf4aa5a86b732cc9fffceb', u'type': u'video', u'thumbnail_height': 360, u'author_url': u'http://www.youtube.com/user/bvrningqvestions'}}, u'link_flair_text': None, u'id': u'2mhlov', u'gilded': 4, u'secure_media_embed': {u'content': u'&lt;iframe class=\"embedly-embed\" src=\"https://cdn.embedly.com/widgets/media.html?src=https%3A%2F%2Fwww.youtube.com%2Fembed%2Fvideoseries%3Flist%3DPLAQri18RcEpTV1WBNaCIevt1Bb40GwN-w&amp;url=http%3A%2F%2Fwww.youtube.com%2Fwatch%3Fv%3DGXtEcQGLWW8%26list%3DPLAQri18RcEpTV1WBNaCIevt1Bb40GwN-w&amp;image=http%3A%2F%2Fi.ytimg.com%2Fvi%2FGXtEcQGLWW8%2Fhqdefault.jpg&amp;key=2aa3c4d5f3de4f5b9120b660ad850dc9&amp;type=text%2Fhtml&amp;schema=youtube\" width=\"600\" height=\"338\" scrolling=\"no\" frameborder=\"0\" allowfullscreen&gt;&lt;/iframe&gt;', u'width': 600, u'scrolling': False, u'height': 338}, u'clicked': False, u'report_reasons': None, u'author': u'SpanglerBQ', u'media': {u'type': u'youtube.com', u'oembed': {u'provider_url': u'http://www.youtube.com/', u'description': u'I am Noah B.E. Church, author of \"Wack: Addicted to Internet Porn\". On October 11th, 2014, I told my story at Mississippi Studios as part of The Mystery Box Show, which features true, personal, sexually themed stories told by the people who lived them. I hope my story helps someone.', u'title': u'A story of porn addiction and recovery (Noah B.E. Church at The Mystery Box Show)', u'url': u'http://www.youtube.com/watch?v=GXtEcQGLWW8', u'author_name': u'Bvrning Qvestions', u'height': 338, u'width': 600, u'html': u'&lt;iframe class=\"embedly-embed\" src=\"//cdn.embedly.com/widgets/media.html?src=http%3A%2F%2Fwww.youtube.com%2Fembed%2Fvideoseries%3Flist%3DPLAQri18RcEpTV1WBNaCIevt1Bb40GwN-w&amp;url=http%3A%2F%2Fwww.youtube.com%2Fwatch%3Fv%3DGXtEcQGLWW8%26list%3DPLAQri18RcEpTV1WBNaCIevt1Bb40GwN-w&amp;image=http%3A%2F%2Fi.ytimg.com%2Fvi%2FGXtEcQGLWW8%2Fhqdefault.jpg&amp;key=2aa3c4d5f3de4f5b9120b660ad850dc9&amp;type=text%2Fhtml&amp;schema=youtube\" width=\"600\" height=\"338\" scrolling=\"no\" frameborder=\"0\" allowfullscreen&gt;&lt;/iframe&gt;', u'thumbnail_width': 480, u'version': u'1.0', u'provider_name': u'YouTube', u'thumbnail_url': u'http://i.ytimg.com/vi/GXtEcQGLWW8/hqdefault.jpg', u'type': u'video', u'thumbnail_height': 360, u'author_url': u'http://www.youtube.com/user/bvrningqvestions'}}, u'score': 847, u'approved_by': None, u'over_18': False, u'hidden': False, u'num_comments': 188, u'thumbnail': u'', u'subreddit_id': u't5_2skrn', u'edited': False, u'link_flair_css_class': None, u'author_flair_css_class': u'month11', u'downs': 0, u'saved': False, u'stickied': False, u'is_self': False, u'permalink': u'/r/NoFap/comments/2mhlov/so_i_got_on_stage_and_told_nearly_300_people_my/', u'name': u't3_2mhlov', u'created': 1416195580.0, u'url': u'https://www.youtube.com/watch?v=GXtEcQGLWW8&amp;list=PLAQri18RcEpTV1WBNaCIevt1Bb40GwN-w', u'author_flair_text': u'330 days', u'title': u'So I got on stage and told nearly 300 people my story of being addicted to porn from age 9-24, PIED, NoFap, recovery, love, sex, life...', u'created_utc': 1416166780.0, u'distinguished': None, u'mod_reports': [], u'visited': False, u'num_reports': None, u'ups': 847}\n",
        "{u'domain': u'usatoday.com', u'banned_by': None, u'media_embed': {}, u'subreddit': u'news', u'selftext_html': None, u'selftext': u'', u'likes': None, u'user_reports': [], u'secure_media': None, u'link_flair_text': None, u'id': u'2nbslo', u'gilded': 0, u'secure_media_embed': {}, u'clicked': False, u'report_reasons': None, u'author': u'cantthinkof1ne', u'media': None, u'score': 4548, u'approved_by': None, u'over_18': False, u'hidden': False, u'num_comments': 28794, u'thumbnail': u'', u'subreddit_id': u't5_2qh3l', u'edited': False, u'link_flair_css_class': None, u'author_flair_css_class': None, u'downs': 0, u'saved': False, u'stickied': False, u'is_self': False, u'permalink': u'/r/news/comments/2nbslo/no_indictment_in_ferguson_case/', u'name': u't3_2nbslo', u'created': 1416909792.0, u'url': u'http://www.usatoday.com/story/news/nation/2014/11/24/ferguson-grand-jury-deliberations/19474907/.', u'author_flair_text': None, u'title': u'No indictment in Ferguson case', u'created_utc': 1416880992.0, u'distinguished': None, u'mod_reports': [], u'visited': False, u'num_reports': None, u'ups': 4548}\n",
        "{u'domain': u'redditblog.com', u'banned_by': None, u'media_embed': {}, u'subreddit': u'blog', u'selftext_html': None, u'selftext': u'', u'likes': None, u'user_reports': [], u'secure_media': None, u'link_flair_text': None, u'id': u'2ne91a', u'gilded': 0, u'secure_media_embed': {}, u'clicked': False, u'report_reasons': None, u'author': u'krispykrackers', u'media': None, u'score': 2288, u'approved_by': None, u'over_18': False, u'hidden': False, u'num_comments': 379, u'thumbnail': u'http://f.thumbs.redditmedia.com/GNUSEZ5xVi9uEHAq.jpg', u'subreddit_id': u't5_2qh49', u'edited': False, u'link_flair_css_class': None, u'author_flair_css_class': None, u'downs': 0, u'saved': False, u'stickied': False, u'is_self': False, u'permalink': u'/r/blog/comments/2ne91a/baby_its_cold_outside_subreddits_to_get_you/', u'name': u't3_2ne91a', u'created': 1416969583.0, u'url': u'http://www.redditblog.com/2014/11/baby-its-cold-outside-subreddits-to-get.html', u'author_flair_text': None, u'title': u\"Baby, it's cold outside*! Subreddits to get you through.\", u'created_utc': 1416940783.0, u'distinguished': u'admin', u'mod_reports': [], u'visited': False, u'num_reports': None, u'ups': 2288}\n",
        "{u'domain': u'itunes.apple.com', u'banned_by': None, u'media_embed': {}, u'subreddit': u'AppHookup', u'selftext_html': None, u'selftext': u'', u'likes': None, u'user_reports': [], u'secure_media': None, u'link_flair_text': u'iOS', u'id': u'2k69op', u'gilded': 0, u'secure_media_embed': {}, u'clicked': False, u'report_reasons': None, u'author': u'Mathieu', u'media': None, u'score': 50, u'approved_by': None, u'over_18': False, u'hidden': False, u'num_comments': 11, u'thumbnail': u'http://b.thumbs.redditmedia.com/Fg539nO3wACaKeO6mFUF3e4nZ7XzIIcx-J27khgwqOE.jpg', u'subreddit_id': u't5_2trzp', u'edited': False, u'link_flair_css_class': u'ios', u'author_flair_css_class': u'', u'downs': 0, u'saved': False, u'stickied': False, u'is_self': False, u'permalink': u'/r/AppHookup/comments/2k69op/ios_world_of_goo_hd_499_099/', u'name': u't3_2k69op', u'created': 1414159456.0, u'url': u'https://itunes.apple.com/app/id401301276', u'author_flair_text': u'Contributor', u'title': u'[iOS] World of Goo HD [$4.99 &gt; $0.99]', u'created_utc': 1414130656.0, u'distinguished': None, u'mod_reports': [], u'visited': False, u'num_reports': None, u'ups': 50}\n",
        "{u'domain': u'i.imgur.com', u'banned_by': None, u'media_embed': {}, u'subreddit': u'gifs', u'selftext_html': None, u'selftext': u'', u'likes': None, u'user_reports': [], u'secure_media': None, u'link_flair_text': None, u'id': u'2myise', u'gilded': 0, u'secure_media_embed': {}, u'clicked': False, u'report_reasons': None, u'author': u'NYR99', u'media': None, u'score': 3209, u'approved_by': None, u'over_18': True, u'hidden': False, u'num_comments': 583, u'thumbnail': u'nsfw', u'subreddit_id': u't5_2qt55', u'edited': False, u'link_flair_css_class': None, u'author_flair_css_class': None, u'downs': 0, u'saved': False, u'stickied': False, u'is_self': False, u'permalink': u'/r/gifs/comments/2myise/kim_kardashian_snowblower/', u'name': u't3_2myise', u'created': 1416576981.0, u'url': u'http://i.imgur.com/NYwgACi.gif', u'author_flair_text': None, u'title': u'Kim Kardashian Snowblower', u'created_utc': 1416548181.0, u'distinguished': None, u'mod_reports': [], u'visited': False, u'num_reports': None, u'ups': 3209}\n",
        "{u'domain': u'self.leagueoflegends', u'banned_by': None, u'media_embed': {}, u'subreddit': u'leagueoflegends', u'selftext_html': u'&lt;!-- SC_OFF --&gt;&lt;div class=\"md\"&gt;&lt;p&gt;&amp;nbsp;&lt;/p&gt;\\n\\n&lt;h3&gt;Fusion 2-0 NME&lt;/h3&gt;\\n\\n&lt;p&gt;&amp;nbsp;&lt;/p&gt;\\n\\n&lt;p&gt;&lt;strong&gt;NME&lt;/strong&gt; | &lt;a href=\"http://lol.esportspedia.com/wiki/Enemy_eSports\"&gt;eSportspedia&lt;/a&gt; | &lt;a href=\"http://www.enemyesports.com/\"&gt;Official Site&lt;/a&gt; | &lt;a href=\"http://twitter.com/#!/Enemy_eSports\"&gt;Twitter&lt;/a&gt; | &lt;a href=\"https://www.facebook.com/EnemyEsports\"&gt;Facebook&lt;/a&gt;&lt;br/&gt;\\n&lt;strong&gt;FSN&lt;/strong&gt; | &lt;a href=\"http://lol.esportspedia.com/wiki/Team_Fusion\"&gt;eSportspedia&lt;/a&gt; | &lt;a href=\"http://teamfusion.gg/\"&gt;Official Site&lt;/a&gt; | &lt;a href=\"https://twitter.com/TeamFusiongg\"&gt;Twitter&lt;/a&gt; | &lt;a href=\"https://www.facebook.com/TeamFusiongg\"&gt;Facebook&lt;/a&gt; | &lt;a href=\"https://www.youtube.com/channel/UCGN85zSODBgFihh2CmdEXBQ\"&gt;Youtube&lt;/a&gt;  &lt;/p&gt;\\n\\n&lt;p&gt;&amp;nbsp;  &lt;/p&gt;\\n\\n&lt;p&gt;&lt;strong&gt;&lt;a href=\"http://www.reddit.com/r/leagueoflegends/comments/2n70af/spoilers_league_of_legends_season_2015_spring/\"&gt;Link: Daily Live Update &amp;amp; Discussion Thread&lt;/a&gt;&lt;/strong&gt;&lt;br/&gt;\\n&lt;strong&gt;&lt;a href=\"http://www.reddit.com/r/LoLeventVoDs/\"&gt;Link: Event VODs Subreddit&lt;/a&gt;&lt;/strong&gt;  &lt;/p&gt;\\n\\n&lt;p&gt;&amp;nbsp;&lt;/p&gt;\\n\\n&lt;hr/&gt;\\n\\n&lt;p&gt;&amp;nbsp;&lt;/p&gt;\\n\\n&lt;h3&gt;MATCH 1/3: NME (Blue) vs FSN (Red)&lt;/h3&gt;\\n\\n&lt;p&gt;&lt;strong&gt;Winner:&lt;/strong&gt; FSN &lt;/p&gt;\\n\\n&lt;p&gt;&lt;strong&gt;Game Time:&lt;/strong&gt; 31:35&lt;/p&gt;\\n\\n&lt;p&gt;&amp;nbsp;  &lt;/p&gt;\\n\\n&lt;p&gt;&lt;strong&gt;BANS&lt;/strong&gt;  &lt;/p&gt;\\n\\n&lt;table&gt;&lt;thead&gt;\\n&lt;tr&gt;\\n&lt;th align=\"left\"&gt;NME&lt;/th&gt;\\n&lt;th align=\"left\"&gt;FSN&lt;/th&gt;\\n&lt;/tr&gt;\\n&lt;/thead&gt;&lt;tbody&gt;\\n&lt;tr&gt;\\n&lt;td align=\"left\"&gt;&lt;a href=\"/kassadin\"&gt;&lt;/a&gt; Kassadin&lt;/td&gt;\\n&lt;td align=\"left\"&gt;&lt;a href=\"/rengar\"&gt;&lt;/a&gt; Rengar&lt;/td&gt;\\n&lt;/tr&gt;\\n&lt;tr&gt;\\n&lt;td align=\"left\"&gt;&lt;a href=\"/rumble\"&gt;&lt;/a&gt; Rumble&lt;/td&gt;\\n&lt;td align=\"left\"&gt;&lt;a href=\"/gnar\"&gt;&lt;/a&gt; Gnar&lt;/td&gt;\\n&lt;/tr&gt;\\n&lt;tr&gt;\\n&lt;td align=\"left\"&gt;&lt;a href=\"/fizz\"&gt;&lt;/a&gt; Fizz&lt;/td&gt;\\n&lt;td align=\"left\"&gt;&lt;a href=\"/corki\"&gt;&lt;/a&gt; Corki&lt;/td&gt;\\n&lt;/tr&gt;\\n&lt;/tbody&gt;&lt;/table&gt;\\n\\n&lt;p&gt;&amp;nbsp;  &lt;/p&gt;\\n\\n&lt;p&gt;&lt;strong&gt;FINAL SCOREBOARD&lt;/strong&gt;  &lt;/p&gt;\\n\\n&lt;p&gt;&lt;a href=\"http://i.imgur.com/d511o32.jpg\"&gt;&lt;strong&gt;Image:&lt;/strong&gt; End-game screenshot&lt;/a&gt;  &lt;/p&gt;\\n\\n&lt;table&gt;&lt;thead&gt;\\n&lt;tr&gt;\\n&lt;th align=\"left\"&gt;&lt;strong&gt;NME&lt;/strong&gt;&lt;/th&gt;\\n&lt;th align=\"left\"&gt;&lt;/th&gt;\\n&lt;th align=\"center\"&gt;&lt;/th&gt;\\n&lt;/tr&gt;\\n&lt;/thead&gt;&lt;tbody&gt;\\n&lt;tr&gt;\\n&lt;td align=\"left\"&gt;Cackgod&lt;/td&gt;\\n&lt;td align=\"left\"&gt;&lt;a href=\"/maokai\"&gt;&lt;/a&gt; Maokai &lt;sup&gt;1&lt;/sup&gt;&lt;/td&gt;\\n&lt;td align=\"center\"&gt;1-5-7&lt;/td&gt;\\n&lt;/tr&gt;\\n&lt;tr&gt;\\n&lt;td align=\"left\"&gt;Inori&lt;/td&gt;\\n&lt;td align=\"left\"&gt;&lt;a href=\"/khazix\"&gt;&lt;/a&gt; Khazix &lt;sup&gt;3&lt;/sup&gt;&lt;/td&gt;\\n&lt;td align=\"center\"&gt;5-6-6&lt;/td&gt;\\n&lt;/tr&gt;\\n&lt;tr&gt;\\n&lt;td align=\"left\"&gt;Wolfe&lt;/td&gt;\\n&lt;td align=\"left\"&gt;&lt;a href=\"/syndra\"&gt;&lt;/a&gt; Syndra &lt;sup&gt;2&lt;/sup&gt;&lt;/td&gt;\\n&lt;td align=\"center\"&gt;4-6-6&lt;/td&gt;\\n&lt;/tr&gt;\\n&lt;tr&gt;\\n&lt;td align=\"left\"&gt;Otter&lt;/td&gt;\\n&lt;td align=\"left\"&gt;&lt;a href=\"/sivir\"&gt;&lt;/a&gt; Sivir &lt;sup&gt;2&lt;/sup&gt;&lt;/td&gt;\\n&lt;td align=\"center\"&gt;5-6-6&lt;/td&gt;\\n&lt;/tr&gt;\\n&lt;tr&gt;\\n&lt;td align=\"left\"&gt;Bodydrop&lt;/td&gt;\\n&lt;td align=\"left\"&gt;&lt;a href=\"/braum\"&gt;&lt;/a&gt; Braum  &lt;sup&gt;3&lt;/sup&gt;&lt;/td&gt;\\n&lt;td align=\"center\"&gt;0-10-12&lt;/td&gt;\\n&lt;/tr&gt;\\n&lt;tr&gt;\\n&lt;td align=\"left\"&gt;&lt;strong&gt;FSN&lt;/strong&gt;&lt;/td&gt;\\n&lt;td align=\"left\"&gt;&lt;/td&gt;\\n&lt;td align=\"center\"&gt;&lt;/td&gt;\\n&lt;/tr&gt;\\n&lt;tr&gt;\\n&lt;td align=\"left\"&gt;MakNooN&lt;/td&gt;\\n&lt;td align=\"left\"&gt;&lt;a href=\"/poppy\"&gt;&lt;/a&gt; Poppy  &lt;sup&gt;3&lt;/sup&gt;&lt;/td&gt;\\n&lt;td align=\"center\"&gt;14-7-5&lt;/td&gt;\\n&lt;/tr&gt;\\n&lt;tr&gt;\\n&lt;td align=\"left\"&gt;NintendudeX&lt;/td&gt;\\n&lt;td align=\"left\"&gt;&lt;a href=\"/jarvaniv\"&gt;&lt;/a&gt; Jarvan IV  &lt;sup&gt;1&lt;/sup&gt;&lt;/td&gt;\\n&lt;td align=\"center\"&gt;4-3-24&lt;/td&gt;\\n&lt;/tr&gt;\\n&lt;tr&gt;\\n&lt;td align=\"left\"&gt;Huhi&lt;/td&gt;\\n&lt;td align=\"left\"&gt;&lt;a href=\"/zed\"&gt;&lt;/a&gt; Zed  &lt;sup&gt;2&lt;/sup&gt;&lt;/td&gt;\\n&lt;td align=\"center\"&gt;8-2-13&lt;/td&gt;\\n&lt;/tr&gt;\\n&lt;tr&gt;\\n&lt;td align=\"left\"&gt;Nien&lt;/td&gt;\\n&lt;td align=\"left\"&gt;&lt;a href=\"/lucian\"&gt;&lt;/a&gt; Lucian &lt;sup&gt;2&lt;/sup&gt;&lt;/td&gt;\\n&lt;td align=\"center\"&gt;5-0-17&lt;/td&gt;\\n&lt;/tr&gt;\\n&lt;tr&gt;\\n&lt;td align=\"left\"&gt;Chunky&lt;/td&gt;\\n&lt;td align=\"left\"&gt;&lt;a href=\"/janna\"&gt;&lt;/a&gt; Janna &lt;sup&gt;1&lt;/sup&gt;&lt;/td&gt;\\n&lt;td align=\"center\"&gt;2-3-26&lt;/td&gt;\\n&lt;/tr&gt;\\n&lt;/tbody&gt;&lt;/table&gt;\\n\\n&lt;p&gt;&lt;sup&gt;1,2,3&lt;/sup&gt; Number indicates where in the pick phase the champion was taken.  &lt;/p&gt;\\n\\n&lt;p&gt;&amp;nbsp;  &lt;/p&gt;\\n\\n&lt;hr/&gt;\\n\\n&lt;p&gt;&amp;nbsp;&lt;/p&gt;\\n\\n&lt;h3&gt;MATCH 2/3: FSN (Blue) vs NME (Red)&lt;/h3&gt;\\n\\n&lt;p&gt;&lt;strong&gt;Winner:&lt;/strong&gt; FSN&lt;/p&gt;\\n\\n&lt;p&gt;&lt;strong&gt;Game Time:&lt;/strong&gt; 33:32&lt;/p&gt;\\n\\n&lt;p&gt;&amp;nbsp;  &lt;/p&gt;\\n\\n&lt;p&gt;&lt;strong&gt;BANS&lt;/strong&gt;  &lt;/p&gt;\\n\\n&lt;table&gt;&lt;thead&gt;\\n&lt;tr&gt;\\n&lt;th align=\"left\"&gt;FSN&lt;/th&gt;\\n&lt;th align=\"left\"&gt;NME&lt;/th&gt;\\n&lt;/tr&gt;\\n&lt;/thead&gt;&lt;tbody&gt;\\n&lt;tr&gt;\\n&lt;td align=\"left\"&gt;&lt;a href=\"/rengar\"&gt;&lt;/a&gt; Rengar&lt;/td&gt;\\n&lt;td align=\"left\"&gt;&lt;a href=\"/gnar\"&gt;&lt;/a&gt; Gnar&lt;/td&gt;\\n&lt;/tr&gt;\\n&lt;tr&gt;\\n&lt;td align=\"left\"&gt;&lt;a href=\"/soraka\"&gt;&lt;/a&gt; Soraka&lt;/td&gt;\\n&lt;td align=\"left\"&gt;&lt;a href=\"/zed\"&gt;&lt;/a&gt; Zed&lt;/td&gt;\\n&lt;/tr&gt;\\n&lt;tr&gt;\\n&lt;td align=\"left\"&gt;&lt;a href=\"/rumble\"&gt;&lt;/a&gt; Rumble&lt;/td&gt;\\n&lt;td align=\"left\"&gt;&lt;a href=\"/jarvaniv\"&gt;&lt;/a&gt; Jarvan IV&lt;/td&gt;\\n&lt;/tr&gt;\\n&lt;/tbody&gt;&lt;/table&gt;\\n\\n&lt;p&gt;&amp;nbsp;  &lt;/p&gt;\\n\\n&lt;p&gt;&lt;strong&gt;FINAL SCOREBOARD&lt;/strong&gt;  &lt;/p&gt;\\n\\n&lt;p&gt;&lt;a href=\"http://imgur.com/TpGwR4U\"&gt;&lt;strong&gt;Image:&lt;/strong&gt; End-game screenshot&lt;/a&gt;  &lt;/p&gt;\\n\\n&lt;table&gt;&lt;thead&gt;\\n&lt;tr&gt;\\n&lt;th align=\"left\"&gt;&lt;strong&gt;FSN&lt;/strong&gt;&lt;/th&gt;\\n&lt;th align=\"left\"&gt;&lt;/th&gt;\\n&lt;th align=\"center\"&gt;&lt;/th&gt;\\n&lt;/tr&gt;\\n&lt;/thead&gt;&lt;tbody&gt;\\n&lt;tr&gt;\\n&lt;td align=\"left\"&gt;MakNooN&lt;/td&gt;\\n&lt;td align=\"left\"&gt;&lt;a href=\"/poppy\"&gt;&lt;/a&gt; Poppy  &lt;sup&gt;3&lt;/sup&gt;&lt;/td&gt;\\n&lt;td align=\"center\"&gt;15-5-3&lt;/td&gt;\\n&lt;/tr&gt;\\n&lt;tr&gt;\\n&lt;td align=\"left\"&gt;NintendudeX&lt;/td&gt;\\n&lt;td align=\"left\"&gt;&lt;a href=\"/khazix\"&gt;&lt;/a&gt; Khazix  &lt;sup&gt;2&lt;/sup&gt;&lt;/td&gt;\\n&lt;td align=\"center\"&gt;2-4-15&lt;/td&gt;\\n&lt;/tr&gt;\\n&lt;tr&gt;\\n&lt;td align=\"left\"&gt;Huhi&lt;/td&gt;\\n&lt;td align=\"left\"&gt;&lt;a href=\"/fizz\"&gt;&lt;/a&gt; Fizz &lt;sup&gt;3&lt;/sup&gt;&lt;/td&gt;\\n&lt;td align=\"center\"&gt;6-3-12&lt;/td&gt;\\n&lt;/tr&gt;\\n&lt;tr&gt;\\n&lt;td align=\"left\"&gt;Nien&lt;/td&gt;\\n&lt;td align=\"left\"&gt;&lt;a href=\"/corki\"&gt;&lt;/a&gt; Corki  &lt;sup&gt;1&lt;/sup&gt;&lt;/td&gt;\\n&lt;td align=\"center\"&gt;10-1-8&lt;/td&gt;\\n&lt;/tr&gt;\\n&lt;tr&gt;\\n&lt;td align=\"left\"&gt;Chunky&lt;/td&gt;\\n&lt;td align=\"left\"&gt;&lt;a href=\"/braum\"&gt;&lt;/a&gt; Braum  &lt;sup&gt;2&lt;/sup&gt;&lt;/td&gt;\\n&lt;td align=\"center\"&gt;1-3-22&lt;/td&gt;\\n&lt;/tr&gt;\\n&lt;tr&gt;\\n&lt;td align=\"left\"&gt;&lt;strong&gt;NME&lt;/strong&gt;&lt;/td&gt;\\n&lt;td align=\"left\"&gt;&lt;/td&gt;\\n&lt;td align=\"center\"&gt;&lt;/td&gt;\\n&lt;/tr&gt;\\n&lt;tr&gt;\\n&lt;td align=\"left\"&gt;Cackgod&lt;/td&gt;\\n&lt;td align=\"left\"&gt;&lt;a href=\"/irelia\"&gt;&lt;/a&gt; Irelia &lt;sup&gt;3&lt;/sup&gt;&lt;/td&gt;\\n&lt;td align=\"center\"&gt;3-8-4&lt;/td&gt;\\n&lt;/tr&gt;\\n&lt;tr&gt;\\n&lt;td align=\"left\"&gt;Inori&lt;/td&gt;\\n&lt;td align=\"left\"&gt;&lt;a href=\"/pantheon\"&gt;&lt;/a&gt; Pantheon &lt;sup&gt;2&lt;/sup&gt;&lt;/td&gt;\\n&lt;td align=\"center\"&gt;5-7-5&lt;/td&gt;\\n&lt;/tr&gt;\\n&lt;tr&gt;\\n&lt;td align=\"left\"&gt;Wolfe&lt;/td&gt;\\n&lt;td align=\"left\"&gt;&lt;a href=\"/syndra\"&gt;&lt;/a&gt; Syndra &lt;sup&gt;1&lt;/sup&gt;&lt;/td&gt;\\n&lt;td align=\"center\"&gt;6-9-6&lt;/td&gt;\\n&lt;/tr&gt;\\n&lt;tr&gt;\\n&lt;td align=\"left\"&gt;Otter&lt;/td&gt;\\n&lt;td align=\"left\"&gt;&lt;a href=\"/lucian\"&gt;&lt;/a&gt; Lucian &lt;sup&gt;2&lt;/sup&gt;&lt;/td&gt;\\n&lt;td align=\"center\"&gt;1-5-5&lt;/td&gt;\\n&lt;/tr&gt;\\n&lt;tr&gt;\\n&lt;td align=\"left\"&gt;Bodydrop&lt;/td&gt;\\n&lt;td align=\"left\"&gt;&lt;a href=\"/janna\"&gt;&lt;/a&gt; Janna &lt;sup&gt;1&lt;/sup&gt;&lt;/td&gt;\\n&lt;td align=\"center\"&gt;1-5-6&lt;/td&gt;\\n&lt;/tr&gt;\\n&lt;/tbody&gt;&lt;/table&gt;\\n\\n&lt;p&gt;&lt;sup&gt;1,2,3&lt;/sup&gt; Number indicates where in the pick phase the champion was taken.  &lt;/p&gt;\\n\\n&lt;p&gt;&amp;nbsp;  &lt;/p&gt;\\n&lt;/div&gt;&lt;!-- SC_ON --&gt;', u'selftext': u'&amp;nbsp;\\n\\n###Fusion 2-0 NME    \\n\\n\\n&amp;nbsp;\\n\\n**NME** | [eSportspedia](http://lol.esportspedia.com/wiki/Enemy_eSports) | [Official Site](http://www.enemyesports.com/) | [Twitter](http://twitter.com/#!/Enemy_eSports) | [Facebook](https://www.facebook.com/EnemyEsports)  \\n**FSN** | [eSportspedia](http://lol.esportspedia.com/wiki/Team_Fusion) | [Official Site](http://teamfusion.gg/) | [Twitter](https://twitter.com/TeamFusiongg) | [Facebook](https://www.facebook.com/TeamFusiongg) | [Youtube](https://www.youtube.com/channel/UCGN85zSODBgFihh2CmdEXBQ)  \\n\\n  \\n&amp;nbsp;  \\n  \\n**[Link: Daily Live Update &amp; Discussion Thread](http://www.reddit.com/r/leagueoflegends/comments/2n70af/spoilers_league_of_legends_season_2015_spring/)**  \\n**[Link: Event VODs Subreddit](http://www.reddit.com/r/LoLeventVoDs/)**  \\n\\n&amp;nbsp;\\n  \\n-----  \\n\\n&amp;nbsp;\\n\\n###MATCH 1/3: NME (Blue) vs FSN (Red)  \\n**Winner:** FSN \\n\\n**Game Time:** 31:35\\n\\n&amp;nbsp;  \\n\\n**BANS**  \\n\\n|NME|FSN\\n|:--|:--|\\n|[](/kassadin) Kassadin|[](/rengar) Rengar|\\n|[](/rumble) Rumble|[](/gnar) Gnar|\\n|[](/fizz) Fizz|[](/corki) Corki|\\n  \\n&amp;nbsp;  \\n\\n**FINAL SCOREBOARD**  \\n\\n[**Image:** End-game screenshot](http://i.imgur.com/d511o32.jpg)  \\n\\n|**NME**| | |\\n|:--|:--|:--:|\\n|Cackgod|[](/maokai) Maokai ^1|1-5-7|\\n|Inori|[](/khazix) Khazix ^3|5-6-6|\\n|Wolfe|[](/syndra) Syndra ^2|4-6-6|\\n|Otter|[](/sivir) Sivir ^2|5-6-6|\\n|Bodydrop|[](/braum) Braum  ^3|0-10-12|\\n|**FSN**| | |\\n|MakNooN|[](/poppy) Poppy  ^3|14-7-5|\\n|NintendudeX|[](/jarvaniv) Jarvan IV  ^1|4-3-24|\\n|Huhi|[](/zed) Zed  ^2|8-2-13|\\n|Nien|[](/lucian) Lucian ^2|5-0-17|\\n|Chunky|[](/janna) Janna ^1|2-3-26|\\n^1,2,3 Number indicates where in the pick phase the champion was taken.  \\n\\n&amp;nbsp;  \\n  \\n-----  \\n\\n&amp;nbsp;\\n\\n###MATCH 2/3: FSN (Blue) vs NME (Red)  \\n\\n**Winner:** FSN\\n\\n**Game Time:** 33:32\\n\\n&amp;nbsp;  \\n\\n**BANS**  \\n\\n|FSN|NME\\n|:--|:--|\\n|[](/rengar) Rengar|[](/gnar) Gnar|\\n|[](/soraka) Soraka|[](/zed) Zed|\\n|[](/rumble) Rumble|[](/jarvaniv) Jarvan IV|\\n  \\n&amp;nbsp;  \\n\\n**FINAL SCOREBOARD**  \\n\\n[**Image:** End-game screenshot](http://imgur.com/TpGwR4U)  \\n\\n|**FSN**| | |\\n|:--|:--|:--:|\\n|MakNooN|[](/poppy) Poppy  ^3|15-5-3|\\n|NintendudeX|[](/khazix) Khazix  ^2|2-4-15|\\n|Huhi|[](/fizz) Fizz ^3|6-3-12|\\n|Nien|[](/corki) Corki  ^1|10-1-8|\\n|Chunky|[](/braum) Braum  ^2|1-3-22|\\n|**NME**| | |\\n|Cackgod|[](/irelia) Irelia ^3|3-8-4|\\n|Inori|[](/pantheon) Pantheon ^2|5-7-5|\\n|Wolfe|[](/syndra) Syndra ^1|6-9-6|\\n|Otter|[](/lucian) Lucian ^2|1-5-5|\\n|Bodydrop|[](/janna) Janna ^1|1-5-6|\\n^1,2,3 Number indicates where in the pick phase the champion was taken.  \\n\\n&amp;nbsp;  \\n', u'likes': None, u'user_reports': [], u'secure_media': None, u'link_flair_text': u'Poppy', u'id': u'2n7qgc', u'gilded': 0, u'secure_media_embed': {}, u'clicked': False, u'report_reasons': None, u'author': u'domXtheXbomb', u'media': None, u'score': 1758, u'approved_by': None, u'over_18': False, u'hidden': False, u'num_comments': 1183, u'thumbnail': u'self', u'subreddit_id': u't5_2rfxx', u'edited': 1416790144.0, u'link_flair_css_class': u'poppy', u'author_flair_css_class': u'xenicsstorm', u'downs': 0, u'saved': False, u'stickied': False, u'is_self': True, u'permalink': u'/r/leagueoflegends/comments/2n7qgc/spoiler_enemy_esports_vs_fusion_na_lcs_2015/', u'name': u't3_2n7qgc', u'created': 1416817870.0, u'url': u'http://www.reddit.com/r/leagueoflegends/comments/2n7qgc/spoiler_enemy_esports_vs_fusion_na_lcs_2015/', u'author_flair_text': u'', u'title': u'[Spoiler] Enemy eSports vs Fusion / NA LCS 2015 Spring Expansion / Post-Match Discussion', u'created_utc': 1416789070.0, u'distinguished': None, u'mod_reports': [], u'visited': False, u'num_reports': None, u'ups': 1758}\n",
        "{u'domain': u'youtu.be', u'banned_by': None, u'media_embed': {u'content': u'&lt;iframe class=\"embedly-embed\" src=\"//cdn.embedly.com/widgets/media.html?src=http%3A%2F%2Fwww.youtube.com%2Fembed%2Fj7czscSQGmA%3Ffeature%3Doembed&amp;url=http%3A%2F%2Fwww.youtube.com%2Fwatch%3Fv%3Dj7czscSQGmA&amp;image=http%3A%2F%2Fi.ytimg.com%2Fvi%2Fj7czscSQGmA%2Fhqdefault.jpg&amp;key=2aa3c4d5f3de4f5b9120b660ad850dc9&amp;type=text%2Fhtml&amp;schema=youtube\" width=\"600\" height=\"338\" scrolling=\"no\" frameborder=\"0\" allowfullscreen&gt;&lt;/iframe&gt;', u'width': 600, u'scrolling': False, u'height': 338}, u'subreddit': u'leagueoflegends', u'selftext_html': None, u'selftext': u'', u'likes': None, u'user_reports': [], u'secure_media': {u'oembed': {u'provider_url': u'http://www.youtube.com/', u'description': u'Facebook Page! \\u25ba https://www.facebook.com/eroticdiscoheat SNAPCHAT \\u25ba THEDISCOHEAT STREAM \\u25ba http://www.twitch.tv/discoheat Interact with me on Twitter! \\u25ba https://twitter.com/thediscoheat ALL MUSIC! \\u25ba http://grooveshark.com/discoheat Videos exposing the flamers, racists, ragers &amp; bullies that have poisoned a once peaceful community that is League Of Legends. Edited, Filmed, Composed by Disco Heat.', u'title': u'League Of Children #41 - MOVEMENT SPEED HECARIM', u'url': u'http://www.youtube.com/watch?v=j7czscSQGmA', u'type': u'video', u'author_name': u'taeH ocsiD', u'height': 338, u'width': 600, u'html': u'&lt;iframe class=\"embedly-embed\" src=\"https://cdn.embedly.com/widgets/media.html?src=https%3A%2F%2Fwww.youtube.com%2Fembed%2Fj7czscSQGmA%3Ffeature%3Doembed&amp;url=http%3A%2F%2Fwww.youtube.com%2Fwatch%3Fv%3Dj7czscSQGmA&amp;image=http%3A%2F%2Fi.ytimg.com%2Fvi%2Fj7czscSQGmA%2Fhqdefault.jpg&amp;key=2aa3c4d5f3de4f5b9120b660ad850dc9&amp;type=text%2Fhtml&amp;schema=youtube\" width=\"600\" height=\"338\" scrolling=\"no\" frameborder=\"0\" allowfullscreen&gt;&lt;/iframe&gt;', u'thumbnail_width': 480, u'version': u'1.0', u'provider_name': u'YouTube', u'thumbnail_url': u'https://i.embed.ly/1/image?url=http%3A%2F%2Fi.ytimg.com%2Fvi%2Fj7czscSQGmA%2Fhqdefault.jpg&amp;key=b1e305db91cf4aa5a86b732cc9fffceb', u'thumbnail_height': 360, u'author_url': u'http://www.youtube.com/user/taeHocsiD'}, u'type': u'youtu.be'}, u'link_flair_text': None, u'id': u'2mri70', u'gilded': 0, u'secure_media_embed': {u'content': u'&lt;iframe class=\"embedly-embed\" src=\"https://cdn.embedly.com/widgets/media.html?src=https%3A%2F%2Fwww.youtube.com%2Fembed%2Fj7czscSQGmA%3Ffeature%3Doembed&amp;url=http%3A%2F%2Fwww.youtube.com%2Fwatch%3Fv%3Dj7czscSQGmA&amp;image=http%3A%2F%2Fi.ytimg.com%2Fvi%2Fj7czscSQGmA%2Fhqdefault.jpg&amp;key=2aa3c4d5f3de4f5b9120b660ad850dc9&amp;type=text%2Fhtml&amp;schema=youtube\" width=\"600\" height=\"338\" scrolling=\"no\" frameborder=\"0\" allowfullscreen&gt;&lt;/iframe&gt;', u'width': 600, u'scrolling': False, u'height': 338}, u'clicked': False, u'report_reasons': None, u'author': u'Polarstrom', u'media': {u'oembed': {u'provider_url': u'http://www.youtube.com/', u'description': u'Facebook Page! \\u25ba https://www.facebook.com/eroticdiscoheat SNAPCHAT \\u25ba THEDISCOHEAT STREAM \\u25ba http://www.twitch.tv/discoheat Interact with me on Twitter! \\u25ba https://twitter.com/thediscoheat ALL MUSIC! \\u25ba http://grooveshark.com/discoheat Videos exposing the flamers, racists, ragers &amp; bullies that have poisoned a once peaceful community that is League Of Legends. Edited, Filmed, Composed by Disco Heat.', u'title': u'League Of Children #41 - MOVEMENT SPEED HECARIM', u'url': u'http://www.youtube.com/watch?v=j7czscSQGmA', u'type': u'video', u'author_name': u'taeH ocsiD', u'height': 338, u'width': 600, u'html': u'&lt;iframe class=\"embedly-embed\" src=\"//cdn.embedly.com/widgets/media.html?src=http%3A%2F%2Fwww.youtube.com%2Fembed%2Fj7czscSQGmA%3Ffeature%3Doembed&amp;url=http%3A%2F%2Fwww.youtube.com%2Fwatch%3Fv%3Dj7czscSQGmA&amp;image=http%3A%2F%2Fi.ytimg.com%2Fvi%2Fj7czscSQGmA%2Fhqdefault.jpg&amp;key=2aa3c4d5f3de4f5b9120b660ad850dc9&amp;type=text%2Fhtml&amp;schema=youtube\" width=\"600\" height=\"338\" scrolling=\"no\" frameborder=\"0\" allowfullscreen&gt;&lt;/iframe&gt;', u'thumbnail_width': 480, u'version': u'1.0', u'provider_name': u'YouTube', u'thumbnail_url': u'http://i.ytimg.com/vi/j7czscSQGmA/hqdefault.jpg', u'thumbnail_height': 360, u'author_url': u'http://www.youtube.com/user/taeHocsiD'}, u'type': u'youtu.be'}, u'score': 356, u'approved_by': None, u'over_18': False, u'hidden': False, u'num_comments': 104, u'thumbnail': u'http://b.thumbs.redditmedia.com/m4koMja5MV83Fnq1FOhbhZZH-k9A_ndJgHiP_FS6wGo.jpg', u'subreddit_id': u't5_2rfxx', u'edited': False, u'link_flair_css_class': None, u'author_flair_css_class': u'evil', u'downs': 0, u'saved': False, u'stickied': False, u'is_self': False, u'permalink': u'/r/leagueoflegends/comments/2mri70/league_of_children_41_movement_speed_hecarim/', u'name': u't3_2mri70', u'created': 1416426957.0, u'url': u'http://youtu.be/j7czscSQGmA', u'author_flair_text': u'', u'title': u'League Of Children #41 - MOVEMENT SPEED HECARIM', u'created_utc': 1416398157.0, u'distinguished': None, u'mod_reports': [], u'visited': False, u'num_reports': None, u'ups': 356}\n",
        "{u'domain': u'self.pathofexile', u'banned_by': None, u'media_embed': {}, u'subreddit': u'pathofexile', u'selftext_html': u'&lt;!-- SC_OFF --&gt;&lt;div class=\"md\"&gt;&lt;p&gt;Well as you guys know when you reach a certain level and grind lvl 77/78 maps for exp it can be quite boring. You always have to grind same maps over and over again. So why not make it more fun, pretty logical isn&amp;#39;t it? Now I have an idea on how we can change this but ofcourse this is something I came up in like 1 second. I think GGG can do it better. There should be a recepie for example you put a Tropical island map plus 4 chisels and a 78 map, in return you get a 78 Tropical Island map. And I think this will make the grind much funnier in general. Not just for endgame. Let me now your feedback on this and if you guys also have an idea just post them here. Cheers!&lt;/p&gt;\\n&lt;/div&gt;&lt;!-- SC_ON --&gt;', u'selftext': u\"Well as you guys know when you reach a certain level and grind lvl 77/78 maps for exp it can be quite boring. You always have to grind same maps over and over again. So why not make it more fun, pretty logical isn't it? Now I have an idea on how we can change this but ofcourse this is something I came up in like 1 second. I think GGG can do it better. There should be a recepie for example you put a Tropical island map plus 4 chisels and a 78 map, in return you get a 78 Tropical Island map. And I think this will make the grind much funnier in general. Not just for endgame. Let me now your feedback on this and if you guys also have an idea just post them here. Cheers!\", u'likes': None, u'user_reports': [], u'secure_media': None, u'link_flair_text': None, u'id': u'2ni2v8', u'gilded': 0, u'secure_media_embed': {}, u'clicked': False, u'report_reasons': None, u'author': u'AlpMaster', u'media': None, u'score': 52, u'approved_by': None, u'over_18': False, u'hidden': False, u'num_comments': 98, u'thumbnail': u'self', u'subreddit_id': u't5_2sf6m', u'edited': 1417034903.0, u'link_flair_css_class': None, u'author_flair_css_class': u'scionhc', u'downs': 0, u'saved': False, u'stickied': False, u'is_self': True, u'permalink': u'/r/pathofexile/comments/2ni2v8/ggg_its_time_to_make_end_game_maps_more_fun/', u'name': u't3_2ni2v8', u'created': 1417056736.0, u'url': u'http://www.reddit.com/r/pathofexile/comments/2ni2v8/ggg_its_time_to_make_end_game_maps_more_fun/', u'author_flair_text': u'Hardcore', u'title': u\"GGG It's time to make end game maps more fun!\", u'created_utc': 1417027936.0, u'distinguished': None, u'mod_reports': [], u'visited': False, u'num_reports': None, u'ups': 52}\n"
       ]
      }
     ],
     "prompt_number": 37
    },
    {
     "cell_type": "code",
     "collapsed": false,
     "input": [
      "#NOTE TO SELF: the user_ids in the response list may not be unique"
     ],
     "language": "python",
     "metadata": {},
     "outputs": [],
     "prompt_number": 45
    },
    {
     "cell_type": "code",
     "collapsed": false,
     "input": [
      "responsesSAVE1"
     ],
     "language": "python",
     "metadata": {},
     "outputs": [],
     "prompt_number": 31
    },
    {
     "cell_type": "code",
     "collapsed": false,
     "input": [
      "responsesSAVE2"
     ],
     "language": "python",
     "metadata": {},
     "outputs": [],
     "prompt_number": 35
    },
    {
     "cell_type": "code",
     "collapsed": false,
     "input": [
      "# 504 is error gateway timeout"
     ],
     "language": "python",
     "metadata": {},
     "outputs": [],
     "prompt_number": 50
    },
    {
     "cell_type": "code",
     "collapsed": false,
     "input": [
      "len(responses)"
     ],
     "language": "python",
     "metadata": {},
     "outputs": [
      {
       "metadata": {},
       "output_type": "pyout",
       "prompt_number": 18,
       "text": [
        "1449"
       ]
      }
     ],
     "prompt_number": 18
    },
    {
     "cell_type": "code",
     "collapsed": false,
     "input": [
      "len(responsesSAVE2)"
     ],
     "language": "python",
     "metadata": {},
     "outputs": [
      {
       "metadata": {},
       "output_type": "pyout",
       "prompt_number": 36,
       "text": [
        "1379"
       ]
      }
     ],
     "prompt_number": 36
    },
    {
     "cell_type": "code",
     "collapsed": false,
     "input": [
      "good_users2 = list(set([res[0] for res in responses]))"
     ],
     "language": "python",
     "metadata": {},
     "outputs": [],
     "prompt_number": 37
    },
    {
     "cell_type": "code",
     "collapsed": false,
     "input": [
      "f = open('good_users.txt', 'w')\n",
      "\n",
      "for item in good_users12:\n",
      "  print>>f, item\n",
      "f.close()"
     ],
     "language": "python",
     "metadata": {},
     "outputs": [],
     "prompt_number": 41
    },
    {
     "cell_type": "code",
     "collapsed": false,
     "input": [
      "len(good_users)"
     ],
     "language": "python",
     "metadata": {},
     "outputs": [
      {
       "metadata": {},
       "output_type": "pyout",
       "prompt_number": 29,
       "text": [
        "1172"
       ]
      }
     ],
     "prompt_number": 29
    },
    {
     "cell_type": "code",
     "collapsed": false,
     "input": [
      "len(good_users2)"
     ],
     "language": "python",
     "metadata": {},
     "outputs": [
      {
       "metadata": {},
       "output_type": "pyout",
       "prompt_number": 38,
       "text": [
        "1139"
       ]
      }
     ],
     "prompt_number": 38
    },
    {
     "cell_type": "code",
     "collapsed": false,
     "input": [
      "good_users12 = list(set(good_users + good_users2))"
     ],
     "language": "python",
     "metadata": {},
     "outputs": [],
     "prompt_number": 39
    },
    {
     "cell_type": "code",
     "collapsed": false,
     "input": [
      "len(good_users12)"
     ],
     "language": "python",
     "metadata": {},
     "outputs": [
      {
       "metadata": {},
       "output_type": "pyout",
       "prompt_number": 40,
       "text": [
        "1299"
       ]
      }
     ],
     "prompt_number": 40
    },
    {
     "cell_type": "code",
     "collapsed": false,
     "input": [
      "import csv\n",
      "csvfile = open('good_users.txt', 'r')\n",
      "read_rows = []\n",
      "reader = csv.reader(csvfile, delimiter=' ')\n",
      "for row in reader:\n",
      "    read_rows.append(row)\n",
      "csvfile.close()"
     ],
     "language": "python",
     "metadata": {},
     "outputs": [],
     "prompt_number": 44
    },
    {
     "cell_type": "code",
     "collapsed": false,
     "input": [
      "len(read_rows)"
     ],
     "language": "python",
     "metadata": {},
     "outputs": [
      {
       "metadata": {},
       "output_type": "pyout",
       "prompt_number": 45,
       "text": [
        "1299"
       ]
      }
     ],
     "prompt_number": 45
    },
    {
     "cell_type": "code",
     "collapsed": false,
     "input": [],
     "language": "python",
     "metadata": {},
     "outputs": []
    }
   ],
   "metadata": {}
  }
 ]
}