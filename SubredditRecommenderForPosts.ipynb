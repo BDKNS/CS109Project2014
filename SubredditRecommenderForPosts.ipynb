{
 "metadata": {
  "name": "",
  "signature": "sha256:bb5f8173322d1a41f0fd5be1f5a2f390291f6e6723a1148a4d9b699bbcade788"
 },
 "nbformat": 3,
 "nbformat_minor": 0,
 "worksheets": [
  {
   "cells": [
    {
     "cell_type": "markdown",
     "metadata": {},
     "source": [
      "** Step 1: Data Exploration **\n",
      "\n",
      "Determine which data frames are available and some basic stats."
     ]
    },
    {
     "cell_type": "code",
     "collapsed": false,
     "input": [
      "#imports\n",
      "import requests\n",
      "import pandas as pd \n",
      "import time\n",
      "import seaborn as sns\n",
      "import numpy as np\n",
      "import re\n",
      "from csv import writer\n",
      "from sklearn.cluster import spectral_clustering\n",
      "from matplotlib.mlab import PCA as mlabPCA\n",
      "import json\n",
      "from sklearn.cluster import MeanShift, estimate_bandwidth\n",
      "from sklearn.datasets.samples_generator import make_blobs\n",
      "from scipy.cluster.vq import kmeans, vq\n",
      "import random\n",
      "import networkx as nx\n",
      "from matplotlib import pyplot as plt\n",
      "from __future__ import division\n",
      "import csv\n",
      "import sklearn\n",
      "\n",
      "# constants\n",
      "NUM_RECOMMENDATIONS = 10"
     ],
     "language": "python",
     "metadata": {},
     "outputs": [],
     "prompt_number": 244
    },
    {
     "cell_type": "code",
     "collapsed": false,
     "input": [
      "posts_df = pd.read_csv('../post.csv')\n",
      "print len(set(list(posts_df['subreddit_id'])))\n",
      "print len(set(list(posts_df['id'])))\n",
      "\n",
      "subreddit_df = pd.read_csv('../subreddit.csv')\n",
      "\n",
      "usercomment_df = pd.read_csv('../usercomment.csv')\n",
      "print len(usercomment_df)\n",
      "\n",
      "usersubmitted_pipedelimited = pd.read_csv('../usersubmitted_pipedelimited.csv', sep ='|')\n",
      "print len(set(usersubmitted_pipedelimited['id']))\n",
      "print len(set(usersubmitted_pipedelimited['subreddit_id']))\n",
      "print len(set(usersubmitted_pipedelimited['user_id']))\n",
      "\n",
      "print len(set(usersubmitted_pipedelimited['id']) | set(list(posts_df['id'])))\n",
      "\n",
      "valid_subreddits_df = pd.read_csv('1000subreddits.csv').dropna()"
     ],
     "language": "python",
     "metadata": {},
     "outputs": [
      {
       "output_type": "stream",
       "stream": "stdout",
       "text": [
        "12672\n",
        "102727\n",
        "31977"
       ]
      },
      {
       "output_type": "stream",
       "stream": "stdout",
       "text": [
        "\n",
        "178035"
       ]
      },
      {
       "output_type": "stream",
       "stream": "stdout",
       "text": [
        "\n",
        "10929\n",
        "2591\n",
        "280383"
       ]
      },
      {
       "output_type": "stream",
       "stream": "stdout",
       "text": [
        "\n"
       ]
      }
     ],
     "prompt_number": 142
    },
    {
     "cell_type": "code",
     "collapsed": false,
     "input": [
      "post_df = usersubmitted_pipedelimited"
     ],
     "language": "python",
     "metadata": {},
     "outputs": [],
     "prompt_number": 135
    },
    {
     "cell_type": "code",
     "collapsed": false,
     "input": [
      "print type(posts_df['gilded'][0])\n",
      "bob = [isinstance( item, np.int64 ) for item in posts_df['gilded']]\n",
      "filter(lambda elm: elm == False, bob)\n",
      "\n",
      "# this analysis would suggest that there are no errors in the columns due to comma separation"
     ],
     "language": "python",
     "metadata": {},
     "outputs": [
      {
       "output_type": "stream",
       "stream": "stdout",
       "text": [
        "<type 'numpy.int64'>\n"
       ]
      },
      {
       "metadata": {},
       "output_type": "pyout",
       "prompt_number": 28,
       "text": [
        "[]"
       ]
      }
     ],
     "prompt_number": 28
    },
    {
     "cell_type": "code",
     "collapsed": false,
     "input": [
      "user_grouped = posts_df.groupby('user_id').first()\n",
      "len(user_grouped)"
     ],
     "language": "python",
     "metadata": {},
     "outputs": [
      {
       "metadata": {},
       "output_type": "pyout",
       "prompt_number": 106,
       "text": [
        "75064"
       ]
      }
     ],
     "prompt_number": 106
    },
    {
     "cell_type": "code",
     "collapsed": false,
     "input": [
      "user_grouped = post_df.groupby('user_id').groups\n",
      "valid_users = []\n",
      "\n",
      "for key in user_grouped:\n",
      "    if len(user_grouped[key]) >= 30:\n",
      "        valid_users.append(key)\n",
      "print len(valid_users)"
     ],
     "language": "python",
     "metadata": {},
     "outputs": [
      {
       "output_type": "stream",
       "stream": "stdout",
       "text": [
        "2027\n"
       ]
      }
     ],
     "prompt_number": 125
    },
    {
     "cell_type": "code",
     "collapsed": false,
     "input": [
      "import urllib\n",
      "import json\n",
      "\n",
      "mrblueberrymuffin_json = urllib.urlopen('https://www.reddit.com//user/mrblueberrymuffin/overview.json')\n",
      "\n",
      "mrblueberrymuffin_data = json.load(mrblueberrymuffin_json)\n",
      "#mrblueberrymuffin_data['data']['children']"
     ],
     "language": "python",
     "metadata": {},
     "outputs": [],
     "prompt_number": 62
    },
    {
     "cell_type": "code",
     "collapsed": false,
     "input": [
      "valid_subreddits = list(valid_subreddits_df['subreddit_id'])\n",
      "len(valid_subreddits)"
     ],
     "language": "python",
     "metadata": {},
     "outputs": [
      {
       "metadata": {},
       "output_type": "pyout",
       "prompt_number": 110,
       "text": [
        "1000"
       ]
      }
     ],
     "prompt_number": 110
    },
    {
     "cell_type": "code",
     "collapsed": false,
     "input": [
      "print len(valid_users)\n",
      "print len(valid_subreddits)\n",
      "post_df.head()"
     ],
     "language": "python",
     "metadata": {},
     "outputs": [
      {
       "output_type": "stream",
       "stream": "stdout",
       "text": [
        "2027\n",
        "1000\n"
       ]
      },
      {
       "html": [
        "<div style=\"max-height:1000px;max-width:1500px;overflow:auto;\">\n",
        "<table border=\"1\" class=\"dataframe\">\n",
        "  <thead>\n",
        "    <tr style=\"text-align: right;\">\n",
        "      <th></th>\n",
        "      <th>edited</th>\n",
        "      <th>published_date</th>\n",
        "      <th>id</th>\n",
        "      <th>num_comments</th>\n",
        "      <th>title</th>\n",
        "      <th>permalink</th>\n",
        "      <th>mature</th>\n",
        "      <th>score</th>\n",
        "      <th>subreddit_title</th>\n",
        "      <th>user_id</th>\n",
        "      <th>subreddit_id</th>\n",
        "      <th>gilded</th>\n",
        "      <th>url</th>\n",
        "    </tr>\n",
        "  </thead>\n",
        "  <tbody>\n",
        "    <tr>\n",
        "      <th>0</th>\n",
        "      <td> 0</td>\n",
        "      <td> 1416890880</td>\n",
        "      <td> 2narth</td>\n",
        "      <td> 1</td>\n",
        "      <td>         Look what popped up in /r/pcmasterrace...</td>\n",
        "      <td> /r/linuxmasterrace/comments/2narth/look_what_p...</td>\n",
        "      <td> 0</td>\n",
        "      <td> 13</td>\n",
        "      <td> linuxmasterrace</td>\n",
        "      <td>      BlueMetro</td>\n",
        "      <td> t5_2ykcc</td>\n",
        "      <td> 0</td>\n",
        "      <td>                    http://i.imgur.com/pJUORLg.jpg</td>\n",
        "    </tr>\n",
        "    <tr>\n",
        "      <th>1</th>\n",
        "      <td> 0</td>\n",
        "      <td> 1412923260</td>\n",
        "      <td> 2itzbh</td>\n",
        "      <td> 0</td>\n",
        "      <td>                            jQuery Combobox Plugin</td>\n",
        "      <td> /r/Prepbootstrap/comments/2itzbh/jquery_combob...</td>\n",
        "      <td> 0</td>\n",
        "      <td>  3</td>\n",
        "      <td>   Prepbootstrap</td>\n",
        "      <td>      david7731</td>\n",
        "      <td> t5_33y12</td>\n",
        "      <td> 0</td>\n",
        "      <td>                     http://www.jquerycombobox.com</td>\n",
        "    </tr>\n",
        "    <tr>\n",
        "      <th>2</th>\n",
        "      <td> 0</td>\n",
        "      <td> 1416859520</td>\n",
        "      <td> 2n99ak</td>\n",
        "      <td> 0</td>\n",
        "      <td>                          The Reckless Breadsticks</td>\n",
        "      <td> /r/Bandnames/comments/2n99ak/the_reckless_brea...</td>\n",
        "      <td> 0</td>\n",
        "      <td> 17</td>\n",
        "      <td>       Bandnames</td>\n",
        "      <td> dittythehippie</td>\n",
        "      <td> t5_2rdks</td>\n",
        "      <td> 0</td>\n",
        "      <td> http://www.reddit.com/r/Bandnames/comments/2n9...</td>\n",
        "    </tr>\n",
        "    <tr>\n",
        "      <th>3</th>\n",
        "      <td> 0</td>\n",
        "      <td> 1416881920</td>\n",
        "      <td> 2na8v9</td>\n",
        "      <td> 3</td>\n",
        "      <td> [Help] Is this suitable for console gaming now...</td>\n",
        "      <td> /r/Monitors/comments/2na8v9/help_is_this_suita...</td>\n",
        "      <td> 0</td>\n",
        "      <td>  6</td>\n",
        "      <td>        Monitors</td>\n",
        "      <td>   Bean_Grinder</td>\n",
        "      <td> t5_2ts2a</td>\n",
        "      <td> 0</td>\n",
        "      <td> http://www.reddit.com/r/Monitors/comments/2na8...</td>\n",
        "    </tr>\n",
        "    <tr>\n",
        "      <th>4</th>\n",
        "      <td> 0</td>\n",
        "      <td> 1416830590</td>\n",
        "      <td> 2n8bzn</td>\n",
        "      <td> 2</td>\n",
        "      <td> She's avoiding the question to hang out. Move ...</td>\n",
        "      <td> /r/askseddit/comments/2n8bzn/shes_avoiding_the...</td>\n",
        "      <td> 0</td>\n",
        "      <td>  3</td>\n",
        "      <td>       askseddit</td>\n",
        "      <td>      figure8th</td>\n",
        "      <td> t5_2s7xh</td>\n",
        "      <td> 0</td>\n",
        "      <td> http://www.reddit.com/r/askseddit/comments/2n8...</td>\n",
        "    </tr>\n",
        "  </tbody>\n",
        "</table>\n",
        "</div>"
       ],
       "metadata": {},
       "output_type": "pyout",
       "prompt_number": 128,
       "text": [
        "   edited  published_date      id  num_comments  \\\n",
        "0       0      1416890880  2narth             1   \n",
        "1       0      1412923260  2itzbh             0   \n",
        "2       0      1416859520  2n99ak             0   \n",
        "3       0      1416881920  2na8v9             3   \n",
        "4       0      1416830590  2n8bzn             2   \n",
        "\n",
        "                                               title  \\\n",
        "0          Look what popped up in /r/pcmasterrace...   \n",
        "1                             jQuery Combobox Plugin   \n",
        "2                           The Reckless Breadsticks   \n",
        "3  [Help] Is this suitable for console gaming now...   \n",
        "4  She's avoiding the question to hang out. Move ...   \n",
        "\n",
        "                                           permalink  mature  score  \\\n",
        "0  /r/linuxmasterrace/comments/2narth/look_what_p...       0     13   \n",
        "1  /r/Prepbootstrap/comments/2itzbh/jquery_combob...       0      3   \n",
        "2  /r/Bandnames/comments/2n99ak/the_reckless_brea...       0     17   \n",
        "3  /r/Monitors/comments/2na8v9/help_is_this_suita...       0      6   \n",
        "4  /r/askseddit/comments/2n8bzn/shes_avoiding_the...       0      3   \n",
        "\n",
        "   subreddit_title         user_id subreddit_id  gilded  \\\n",
        "0  linuxmasterrace       BlueMetro     t5_2ykcc       0   \n",
        "1    Prepbootstrap       david7731     t5_33y12       0   \n",
        "2        Bandnames  dittythehippie     t5_2rdks       0   \n",
        "3         Monitors    Bean_Grinder     t5_2ts2a       0   \n",
        "4        askseddit       figure8th     t5_2s7xh       0   \n",
        "\n",
        "                                                 url  \n",
        "0                     http://i.imgur.com/pJUORLg.jpg  \n",
        "1                      http://www.jquerycombobox.com  \n",
        "2  http://www.reddit.com/r/Bandnames/comments/2n9...  \n",
        "3  http://www.reddit.com/r/Monitors/comments/2na8...  \n",
        "4  http://www.reddit.com/r/askseddit/comments/2n8...  "
       ]
      }
     ],
     "prompt_number": 128
    },
    {
     "cell_type": "code",
     "collapsed": false,
     "input": [
      "# here we eliminate posts that are not from the top 1000 subreddits\n",
      "# it is crucial that these posts be eliminated AFTER the 30+ post/user selection is done for valid users\n",
      "# this makes sure we are not biasing our sample and artificially inflating our results\n",
      "# actually on second thought any elimination may inflate results... I may not filter here\n",
      "\n",
      "print len(valid_users)\n",
      "print len(post_df)\n",
      "print len(post_df[post_df['subreddit_id'].isin(valid_subreddits)])\n",
      "print len(post_df[post_df['user_id'].isin(valid_users)])"
     ],
     "language": "python",
     "metadata": {},
     "outputs": [
      {
       "output_type": "stream",
       "stream": "stdout",
       "text": [
        "2027\n",
        "178035\n",
        "121317"
       ]
      },
      {
       "output_type": "stream",
       "stream": "stdout",
       "text": [
        "\n",
        "169398"
       ]
      },
      {
       "output_type": "stream",
       "stream": "stdout",
       "text": [
        "\n"
       ]
      }
     ],
     "prompt_number": 136
    },
    {
     "cell_type": "markdown",
     "metadata": {},
     "source": [
      "** Step 2: Polished code for data uploading **\n",
      "\n",
      "upload only necessary data sets and split appropriately"
     ]
    },
    {
     "cell_type": "code",
     "collapsed": false,
     "input": [
      "#imports\n",
      "import requests\n",
      "import pandas as pd \n",
      "import time\n",
      "import seaborn as sns\n",
      "import numpy as np\n",
      "import re\n",
      "from csv import writer\n",
      "from sklearn.cluster import spectral_clustering\n",
      "from matplotlib.mlab import PCA as mlabPCA\n",
      "import json\n",
      "from sklearn.cluster import MeanShift, estimate_bandwidth\n",
      "from sklearn.datasets.samples_generator import make_blobs\n",
      "from scipy.cluster.vq import kmeans, vq\n",
      "import random\n",
      "import networkx as nx\n",
      "from matplotlib import pyplot as plt\n",
      "from __future__ import division\n",
      "import csv\n",
      "import sklearn\n",
      "\n",
      "# constants\n",
      "NUM_RECOMMENDATIONS = 1"
     ],
     "language": "python",
     "metadata": {},
     "outputs": []
    },
    {
     "cell_type": "code",
     "collapsed": false,
     "input": [
      "valid_subreddits_df = pd.read_csv('1000subreddits.csv').dropna()\n",
      "post_df_raw = pd.read_csv('../usersubmitted_pipedelimited.csv', sep ='|')\n",
      "liked_df = pd.read_csv('../userliked_pipedelimited.csv', sep ='|')\n",
      "post_df = post_df_raw.set_index(post_df['id'])"
     ],
     "language": "python",
     "metadata": {},
     "outputs": [],
     "prompt_number": 183
    },
    {
     "cell_type": "code",
     "collapsed": false,
     "input": [
      "valid_subreddits = list(valid_subreddits_df['subreddit_id'])"
     ],
     "language": "python",
     "metadata": {},
     "outputs": []
    },
    {
     "cell_type": "code",
     "collapsed": false,
     "input": [
      "user_grouped = post_df.groupby('user_id').groups\n",
      "valid_users = []\n",
      "\n",
      "for key in user_grouped:\n",
      "    if len(user_grouped[key]) >= 30:\n",
      "        valid_users.append(key)\n",
      "print len(valid_users)"
     ],
     "language": "python",
     "metadata": {},
     "outputs": [
      {
       "output_type": "stream",
       "stream": "stdout",
       "text": [
        "2027\n"
       ]
      }
     ],
     "prompt_number": 184
    },
    {
     "cell_type": "code",
     "collapsed": false,
     "input": [
      "train_users, test_users = sklearn.cross_validation.train_test_split(valid_users)\n",
      "print len(train_users), len(test_users)\n",
      "\n",
      "# create dictionary matching users with a dict of relevant information\n",
      "def fill_user_dict(user_list):\n",
      "    user_dict = {}\n",
      "    for user in user_list:\n",
      "        user_post_df = post_df[post_df['user_id'] == user]\n",
      "        dates = np.sort(user_post_df['published_date'])\n",
      "        test_post_cutoff_date = dates[int(len(dates) * 0.6)]\n",
      "        test_post_df = user_post_df[user_post_df['published_date'] >= test_post_cutoff_date]\n",
      "        test_posts = list(test_post_df['id'])\n",
      "        user_liked_df = liked_df[liked_df['liked_by'] == user]\n",
      "        user_data = {'user_post_df' : user_post_df,\n",
      "                     'user_liked_df' : user_liked_df,\n",
      "                     'test_post_cutoff_date' : test_post_cutoff_date,\n",
      "                     'test_posts' : test_posts}\n",
      "        user_dict[user] = user_data\n",
      "    return user_dict\n",
      "\n",
      "train_users_dict = fill_user_dict(train_users)\n",
      "test_users_dict = fill_user_dict(test_users)"
     ],
     "language": "python",
     "metadata": {},
     "outputs": [
      {
       "output_type": "stream",
       "stream": "stdout",
       "text": [
        "1520 507\n"
       ]
      }
     ],
     "prompt_number": 186
    },
    {
     "cell_type": "code",
     "collapsed": false,
     "input": [
      "all_users_dict = dict(train_users_dict.items() + test_users_dict.items())"
     ],
     "language": "python",
     "metadata": {},
     "outputs": [],
     "prompt_number": 209
    },
    {
     "cell_type": "code",
     "collapsed": false,
     "input": [
      "train_users_dict['bodmon'].keys()"
     ],
     "language": "python",
     "metadata": {},
     "outputs": [
      {
       "metadata": {},
       "output_type": "pyout",
       "prompt_number": 194,
       "text": [
        "['user_liked_df', 'test_posts', 'test_post_cutoff_date', 'user_post_df']"
       ]
      }
     ],
     "prompt_number": 194
    },
    {
     "cell_type": "markdown",
     "metadata": {},
     "source": [
      "** Step 3: Code infrastructure **\n",
      "\n",
      "Put in code to determine the different factors"
     ]
    },
    {
     "cell_type": "code",
     "collapsed": false,
     "input": [
      "# list of all subreddits - only use subreddits in top X\n",
      "valid_subreddits\n",
      "\n",
      "'''\n",
      "def calculate_user_post_history_factor(user,post_date):\n",
      "    subreddit_dict = {}\n",
      "    for subreddit in valid_subreddits:\n",
      "        subreddit_dict[subreddit] = 0\n",
      "    return subreddit_dict\n",
      "'''\n",
      "\n",
      "# returns a dictionary of valid_subreddits and associated scores\n",
      "def calculate_user_liked_history_factor(user,post_date):\n",
      "    subreddit_dict = {}\n",
      "    for subreddit in valid_subreddits:\n",
      "        subreddit_dict[subreddit] = 0\n",
      "    return subreddit_dict\n",
      "\n",
      "# returns a dictionary of valid_subreddits and associated scores\n",
      "def calculate_textual_analysis_factor(post):\n",
      "    subreddit_dict = {}\n",
      "    for subreddit in valid_subreddits:\n",
      "        subreddit_dict[subreddit] = 0\n",
      "    return subreddit_dict\n",
      "\n",
      "# returns a dictionary of valid_subreddits and associated scores\n",
      "def calculate_category_factor(post):\n",
      "    subreddit_dict = {}\n",
      "    for subreddit in valid_subreddits:\n",
      "        subreddit_dict[subreddit] = 0\n",
      "    return subreddit_dict\n",
      "\n",
      "# generate recommendation. Returns a subreddit\n",
      "def generate_recommendation(user,post,post_date):\n",
      "    user_post_history_factor = calculate_user_post_history_factor(user,post_date)\n",
      "    user_liked_history_factor = calculate_user_liked_history_factor(user,post_date)\n",
      "    textual_analysis_factor = calculate_textual_analysis_factor(post)\n",
      "    category_factor = calculate_category_factor(post)\n",
      "    \n",
      "    total_factor = {}\n",
      "    for subreddit in valid_subreddits:\n",
      "        total_factor[subreddit] = user_post_history_factor[subreddit] + user_liked_history_factor[subreddit] + textual_analysis_factor[subreddit] + category_factor[subreddit]\n",
      "    \n",
      "    # perhaps experiment with returning several?\n",
      "    ordered_subreddit_tuples = sorted(total_factor.items(),key=lambda x: x[1])\n",
      "    winning_subreddit_tuples = ordered_subreddit_tuples[-NUM_RECOMMENDATIONS:]\n",
      "    winning_subreddits = [subreddit_tuple[0] for subreddit_tuple in winning_subreddit_tuples]\n",
      "    return winning_subreddits"
     ],
     "language": "python",
     "metadata": {},
     "outputs": [],
     "prompt_number": 235
    },
    {
     "cell_type": "code",
     "collapsed": false,
     "input": [
      "successes = 0\n",
      "failures = 0\n",
      "for user in train_users:\n",
      "    user_data = all_users_dict[user]\n",
      "    for post in user_data['test_posts']:\n",
      "        post_date = user_data['user_post_df'].ix[post]['published_date']\n",
      "        recommended_subreddits = generate_recommendation(user,post,post_date)\n",
      "        correct_subreddit = user_data['user_post_df'].ix[post]['subreddit_id']\n",
      "        if correct_subreddit in recommended_subreddits:\n",
      "            successes +=1\n",
      "        else:\n",
      "            failures +=1\n",
      "    if failures+successes > 1000:\n",
      "        break\n",
      "print successes, failures"
     ],
     "language": "python",
     "metadata": {},
     "outputs": [
      {
       "output_type": "stream",
       "stream": "stdout",
       "text": [
        "482 542\n"
       ]
      }
     ],
     "prompt_number": 245
    },
    {
     "cell_type": "markdown",
     "metadata": {},
     "source": [
      "** Step 4: Category factor **\n",
      "\n",
      "Build category factor"
     ]
    },
    {
     "cell_type": "code",
     "collapsed": false,
     "input": [
      "domain_categories_csv = pd.read_csv('domain_categories.csv')"
     ],
     "language": "python",
     "metadata": {},
     "outputs": []
    },
    {
     "cell_type": "code",
     "collapsed": false,
     "input": [
      "#given a url http://cnn.com/worldnews/storyoftheday\n",
      "#this method will strip out the http:// and /storyoftheday\n",
      "#resulting in cnn.com\n",
      "def get_domain(url):\n",
      "    #strip http:// out\n",
      "    url = re.sub('http\\:\\/\\/', '', url)\n",
      "    #in the initial run, I forgot to include https\n",
      "    url = re.sub('https\\:\\/\\/', '', url)\n",
      "\n",
      "    #strip out trailing URI details so only domain is left\n",
      "    return re.sub('/.*', '', url)\n",
      "\n",
      "#url we want a category for\n",
      "def get_category(domain,delimeter):\n",
      "    domain_cat=pd.read_csv(domain_categories_csv,sep=delimiter)\n",
      "    if domain in domain_cat['domain'].values:\n",
      "        category = domain_cat[domain_cat['domain'] == domain]\n",
      "        category = category['category'].values\n",
      "        return category[0]\n",
      "    else:\n",
      "        return \"Not Categorized\"\n",
      "    \n"
     ],
     "language": "python",
     "metadata": {},
     "outputs": [],
     "prompt_number": 192
    },
    {
     "cell_type": "markdown",
     "metadata": {},
     "source": [
      "** Step 5: Textual Analysis factor **\n",
      "\n",
      "Build textual analysis factor"
     ]
    },
    {
     "cell_type": "code",
     "collapsed": false,
     "input": [],
     "language": "python",
     "metadata": {},
     "outputs": []
    },
    {
     "cell_type": "markdown",
     "metadata": {},
     "source": [
      "** Step 6: Post history factor **\n",
      "\n",
      "Build post history factor"
     ]
    },
    {
     "cell_type": "code",
     "collapsed": false,
     "input": [
      "def calculate_user_post_history_factor(user,post_date):\n",
      "    user_data = all_users_dict[user]\n",
      "    user_post_df = user_data['user_post_df']\n",
      "    past_subreddits = list(user_post_df[user_post_df['published_date'] < post_date]['subreddit_id'])\n",
      "    subreddit_dict = {}\n",
      "    for subreddit in valid_subreddits:\n",
      "        subreddit_dict[subreddit] = past_subreddits.count(subreddit)\n",
      "    return subreddit_dict"
     ],
     "language": "python",
     "metadata": {},
     "outputs": [],
     "prompt_number": 220
    },
    {
     "cell_type": "code",
     "collapsed": false,
     "input": [
      "user = 'bodmon'\n",
      "user_data = all_users_dict[user]\n",
      "user_post_df = user_data['user_post_df']\n",
      "past_subreddits = list(user_post_df[user_post_df['published_date'] < post_date]['subreddit_id'])\n",
      "subreddit_dict = {}\n",
      "for subreddit in valid_subreddits:\n",
      "    subreddit_dict[subreddit] = past_subreddits.count(subreddit)"
     ],
     "language": "python",
     "metadata": {},
     "outputs": [],
     "prompt_number": 218
    },
    {
     "cell_type": "markdown",
     "metadata": {},
     "source": [
      "** Step 7: Liked history factor **\n",
      "\n",
      "Build liked history factor"
     ]
    },
    {
     "cell_type": "code",
     "collapsed": false,
     "input": [],
     "language": "python",
     "metadata": {},
     "outputs": []
    }
   ],
   "metadata": {}
  }
 ]
}