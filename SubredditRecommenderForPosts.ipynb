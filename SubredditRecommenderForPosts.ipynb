{
 "metadata": {
  "name": "",
  "signature": "sha256:7125b24902ef49c7d8b345058dc776bccc5af09ec680e7170bb9ca56135e7a9f"
 },
 "nbformat": 3,
 "nbformat_minor": 0,
 "worksheets": [
  {
   "cells": [
    {
     "cell_type": "markdown",
     "metadata": {},
     "source": [
      "Step 1: Data Exploration\n",
      "\n",
      "Determine which data frames are available and some basic stats. Split data into test and train sets"
     ]
    },
    {
     "cell_type": "code",
     "collapsed": false,
     "input": [],
     "language": "python",
     "metadata": {},
     "outputs": [],
     "prompt_number": 0
    },
    {
     "cell_type": "markdown",
     "metadata": {},
     "source": [
      "Step 2: Code infrastructure\n",
      "\n",
      "Put in code to determine the synthesize the different factors"
     ]
    },
    {
     "cell_type": "code",
     "collapsed": false,
     "input": [
      "# list of all subreddits:\n",
      "all_subreddits = []\n",
      "\n",
      "def user_history_factor(user,post_date):\n",
      "    return None\n",
      "\n",
      "def textual_analysis_factor(post):\n",
      "    return None\n",
      "\n",
      "def category_factor(post):\n",
      "    return None\n",
      "\n",
      "# generate recommendation. Returns a subreddit\n",
      "def generate_recommendation(user,post,post_date):\n",
      "    "
     ],
     "language": "python",
     "metadata": {},
     "outputs": []
    },
    {
     "cell_type": "markdown",
     "metadata": {},
     "source": [
      "Step 3: Build factors\n",
      "\n",
      "Create code to calculate each factor"
     ]
    },
    {
     "cell_type": "code",
     "collapsed": false,
     "input": [],
     "language": "python",
     "metadata": {},
     "outputs": []
    }
   ],
   "metadata": {}
  }
 ]
}