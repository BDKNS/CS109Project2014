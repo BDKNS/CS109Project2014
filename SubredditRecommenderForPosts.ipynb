{
 "metadata": {
  "name": "",
  "signature": "sha256:0c26e636c6285877751f262920f28410b63915dad17dd76dc3f964662a5e3532"
 },
 "nbformat": 3,
 "nbformat_minor": 0,
 "worksheets": [
  {
   "cells": [
    {
     "cell_type": "markdown",
     "metadata": {},
     "source": [
      "** Step 1: Collect data **\n",
      "\n",
      "Upload necessary data sets and split appropriately"
     ]
    },
    {
     "cell_type": "code",
     "collapsed": false,
     "input": [
      "#imports\n",
      "import requests\n",
      "import pandas as pd \n",
      "import time\n",
      "import seaborn as sns\n",
      "import numpy as np\n",
      "import re\n",
      "from csv import writer\n",
      "from sklearn.cluster import spectral_clustering\n",
      "from matplotlib.mlab import PCA as mlabPCA\n",
      "import json\n",
      "from sklearn.cluster import MeanShift, estimate_bandwidth\n",
      "from sklearn.datasets.samples_generator import make_blobs\n",
      "from scipy.cluster.vq import kmeans, vq\n",
      "import random\n",
      "import networkx as nx\n",
      "from matplotlib import pyplot as plt\n",
      "from __future__ import division\n",
      "import csv\n",
      "import sklearn\n",
      "\n",
      "# constants\n",
      "NUM_RECOMMENDATIONS = 48 #current number of recommendations given in subreddit"
     ],
     "language": "python",
     "metadata": {},
     "outputs": [],
     "prompt_number": 1
    },
    {
     "cell_type": "code",
     "collapsed": false,
     "input": [
      "valid_subreddits_df = pd.read_csv('1000subreddits.csv').dropna()\n",
      "post_df_raw = pd.read_csv('../usersubmitted_pipedelimited.csv', sep ='|')\n",
      "liked_df = pd.read_csv('../userliked_pipedelimited.csv', sep ='|')\n",
      "post_df = post_df_raw.set_index(post_df_raw['id'])"
     ],
     "language": "python",
     "metadata": {},
     "outputs": [],
     "prompt_number": 2
    },
    {
     "cell_type": "code",
     "collapsed": false,
     "input": [
      "valid_subreddits = list(valid_subreddits_df['subreddit_id'])"
     ],
     "language": "python",
     "metadata": {},
     "outputs": [],
     "prompt_number": 3
    },
    {
     "cell_type": "code",
     "collapsed": false,
     "input": [
      "user_grouped = post_df.groupby('user_id').groups\n",
      "valid_users = []\n",
      "\n",
      "for key in user_grouped:\n",
      "    if len(user_grouped[key]) >= 30:\n",
      "        valid_users.append(key)\n",
      "print len(valid_users)"
     ],
     "language": "python",
     "metadata": {},
     "outputs": [
      {
       "output_type": "stream",
       "stream": "stdout",
       "text": [
        "2027\n"
       ]
      }
     ],
     "prompt_number": 4
    },
    {
     "cell_type": "code",
     "collapsed": false,
     "input": [
      "train_users, test_users = sklearn.cross_validation.train_test_split(valid_users)\n",
      "print len(train_users), len(test_users)\n",
      "\n",
      "# create dictionary matching users with a dict of relevant information\n",
      "def fill_user_dict(user_list):\n",
      "    user_dict = {}\n",
      "    for user in user_list:\n",
      "        user_post_df = post_df[post_df['user_id'] == user]\n",
      "        dates = np.sort(user_post_df['published_date'])\n",
      "        test_post_cutoff_date = dates[int(len(dates) * 0.6)]\n",
      "        test_post_df = user_post_df[user_post_df['published_date'] >= test_post_cutoff_date]\n",
      "        test_posts = list(test_post_df['id'])\n",
      "        user_liked_df = liked_df[liked_df['liked_by'] == user]\n",
      "        user_data = {'user_post_df' : user_post_df,\n",
      "                     'user_liked_df' : user_liked_df,\n",
      "                     'test_post_cutoff_date' : test_post_cutoff_date,\n",
      "                     'test_posts' : test_posts}\n",
      "        user_dict[user] = user_data\n",
      "    return user_dict\n",
      "\n",
      "train_users_dict = fill_user_dict(train_users)\n",
      "test_users_dict = fill_user_dict(test_users)"
     ],
     "language": "python",
     "metadata": {},
     "outputs": [
      {
       "output_type": "stream",
       "stream": "stdout",
       "text": [
        "1520 507\n"
       ]
      }
     ],
     "prompt_number": 5
    },
    {
     "cell_type": "code",
     "collapsed": false,
     "input": [
      "all_users_dict = dict(train_users_dict.items() + test_users_dict.items())"
     ],
     "language": "python",
     "metadata": {},
     "outputs": [],
     "prompt_number": 6
    },
    {
     "cell_type": "markdown",
     "metadata": {},
     "source": [
      "** Step 2: Category factor **\n",
      "\n",
      "Build category factor"
     ]
    },
    {
     "cell_type": "code",
     "collapsed": false,
     "input": [
      "categories_df = pd.read_csv('starburstdata.csv',header=-1)\n",
      "categories_df.columns = ['subreddit_name','category','instances']"
     ],
     "language": "python",
     "metadata": {},
     "outputs": [],
     "prompt_number": 7
    },
    {
     "cell_type": "code",
     "collapsed": false,
     "input": [
      "#given a url http://cnn.com/worldnews/storyoftheday\n",
      "#this method will strip out the http:// and /storyoftheday\n",
      "#resulting in cnn.com\n",
      "def get_domain(url):\n",
      "    #strip http:// out\n",
      "    url = re.sub('http\\:\\/\\/', '', url)\n",
      "    #in the initial run, I forgot to include https\n",
      "    url = re.sub('https\\:\\/\\/', '', url)\n",
      "\n",
      "    #strip out trailing URI details so only domain is left\n",
      "    return re.sub('/.*', '', url)\n",
      "\n",
      "domain_categories_csv = 'domain_categories.csv'\n",
      "#url we want a category for\n",
      "def get_category(domain):\n",
      "    domain_cat=pd.read_csv(domain_categories_csv,sep='|')\n",
      "    if domain in domain_cat['domain'].values:\n",
      "        category = domain_cat[domain_cat['domain'] == domain]\n",
      "        category = category['category'].values\n",
      "        return category[0]\n",
      "    else:\n",
      "        return \"Not Categorized\"\n",
      "    "
     ],
     "language": "python",
     "metadata": {},
     "outputs": [],
     "prompt_number": 8
    },
    {
     "cell_type": "code",
     "collapsed": false,
     "input": [
      "categories = list(set(categories_df['category']))\n",
      "total_instances = sum(categories_df['instances'])\n",
      "cat_summary_df = categories_df.groupby('category').sum()\n",
      "cat_summary_df['ratio'] = cat_summary_df['instances']/total_instances\n",
      "cat_summary_df.head()\n",
      "cat_ratio_nparray = cat_summary_df['ratio']"
     ],
     "language": "python",
     "metadata": {},
     "outputs": [],
     "prompt_number": 9
    },
    {
     "cell_type": "code",
     "collapsed": false,
     "input": [
      "subreddit_totals = categories_df.groupby('subreddit_name').sum()\n",
      "cat_subreddits = list(set(categories_df['subreddit_name']))\n",
      "categories_df['ratio'] = None\n",
      "new_categories_df = pd.DataFrame(columns = categories_df.columns)\n",
      "for subreddit in cat_subreddits:\n",
      "    cats_for_subreddit = categories_df[categories_df['subreddit_name'] == subreddit]\n",
      "    cats_for_subreddit['ratio'] = cats_for_subreddit['instances'] / list(subreddit_totals.ix[subreddit])[0]\n",
      "    new_categories_df = pd.concat([new_categories_df, cats_for_subreddit])\n",
      "new_categories_df.head()"
     ],
     "language": "python",
     "metadata": {},
     "outputs": [
      {
       "output_type": "stream",
       "stream": "stderr",
       "text": [
        "-c:7: SettingWithCopyWarning: A value is trying to be set on a copy of a slice from a DataFrame.\n",
        "Try using .loc[row_index,col_indexer] = value instead\n"
       ]
      },
      {
       "html": [
        "<div style=\"max-height:1000px;max-width:1500px;overflow:auto;\">\n",
        "<table border=\"1\" class=\"dataframe\">\n",
        "  <thead>\n",
        "    <tr style=\"text-align: right;\">\n",
        "      <th></th>\n",
        "      <th>subreddit_name</th>\n",
        "      <th>category</th>\n",
        "      <th>instances</th>\n",
        "      <th>ratio</th>\n",
        "    </tr>\n",
        "  </thead>\n",
        "  <tbody>\n",
        "    <tr>\n",
        "      <th>247 </th>\n",
        "      <td> MapPorn</td>\n",
        "      <td>     Classifieds/Photo Sharing  Photo Sharing</td>\n",
        "      <td> 27</td>\n",
        "      <td> 0.642857</td>\n",
        "    </tr>\n",
        "    <tr>\n",
        "      <th>643 </th>\n",
        "      <td> MapPorn</td>\n",
        "      <td>                                Photo Sharing</td>\n",
        "      <td>  9</td>\n",
        "      <td> 0.214286</td>\n",
        "    </tr>\n",
        "    <tr>\n",
        "      <th>1503</th>\n",
        "      <td> MapPorn</td>\n",
        "      <td>                                   News/Media</td>\n",
        "      <td>  3</td>\n",
        "      <td> 0.071429</td>\n",
        "    </tr>\n",
        "    <tr>\n",
        "      <th>1645</th>\n",
        "      <td> MapPorn</td>\n",
        "      <td> Visual Search Engines  Forums/Message boards</td>\n",
        "      <td>  2</td>\n",
        "      <td> 0.047619</td>\n",
        "    </tr>\n",
        "    <tr>\n",
        "      <th>2783</th>\n",
        "      <td> MapPorn</td>\n",
        "      <td>                                        Blogs</td>\n",
        "      <td>  1</td>\n",
        "      <td> 0.023810</td>\n",
        "    </tr>\n",
        "  </tbody>\n",
        "</table>\n",
        "</div>"
       ],
       "metadata": {},
       "output_type": "pyout",
       "prompt_number": 10,
       "text": [
        "     subreddit_name                                      category  instances  \\\n",
        "247         MapPorn      Classifieds/Photo Sharing  Photo Sharing         27   \n",
        "643         MapPorn                                 Photo Sharing          9   \n",
        "1503        MapPorn                                    News/Media          3   \n",
        "1645        MapPorn  Visual Search Engines  Forums/Message boards          2   \n",
        "2783        MapPorn                                         Blogs          1   \n",
        "\n",
        "         ratio  \n",
        "247   0.642857  \n",
        "643   0.214286  \n",
        "1503  0.071429  \n",
        "1645  0.047619  \n",
        "2783  0.023810  "
       ]
      }
     ],
     "prompt_number": 10
    },
    {
     "cell_type": "code",
     "collapsed": false,
     "input": [
      "new_categories_df['subreddit_title'] = '/r/' + new_categories_df['subreddit_name'] + '/'\n",
      "final_categories_df = new_categories_df.merge(valid_subreddits_df, on='subreddit_title', how='left')\n",
      "final_categories_df = final_categories_df.set_index(['subreddit_name','category'])\n",
      "final_categories_df.head()"
     ],
     "language": "python",
     "metadata": {},
     "outputs": [
      {
       "html": [
        "<div style=\"max-height:1000px;max-width:1500px;overflow:auto;\">\n",
        "<table border=\"1\" class=\"dataframe\">\n",
        "  <thead>\n",
        "    <tr style=\"text-align: right;\">\n",
        "      <th></th>\n",
        "      <th></th>\n",
        "      <th>instances</th>\n",
        "      <th>ratio</th>\n",
        "      <th>subreddit_title</th>\n",
        "      <th>subreddit_id</th>\n",
        "      <th>num_subscribers</th>\n",
        "      <th>public</th>\n",
        "      <th>mature</th>\n",
        "    </tr>\n",
        "    <tr>\n",
        "      <th>subreddit_name</th>\n",
        "      <th>category</th>\n",
        "      <th></th>\n",
        "      <th></th>\n",
        "      <th></th>\n",
        "      <th></th>\n",
        "      <th></th>\n",
        "      <th></th>\n",
        "      <th></th>\n",
        "    </tr>\n",
        "  </thead>\n",
        "  <tbody>\n",
        "    <tr>\n",
        "      <th rowspan=\"5\" valign=\"top\">MapPorn</th>\n",
        "      <th>Classifieds/Photo Sharing  Photo Sharing</th>\n",
        "      <td> 27</td>\n",
        "      <td> 0.642857</td>\n",
        "      <td> /r/MapPorn/</td>\n",
        "      <td> t5_2si92</td>\n",
        "      <td> 198856</td>\n",
        "      <td> True</td>\n",
        "      <td> False</td>\n",
        "    </tr>\n",
        "    <tr>\n",
        "      <th>Photo Sharing</th>\n",
        "      <td>  9</td>\n",
        "      <td> 0.214286</td>\n",
        "      <td> /r/MapPorn/</td>\n",
        "      <td> t5_2si92</td>\n",
        "      <td> 198856</td>\n",
        "      <td> True</td>\n",
        "      <td> False</td>\n",
        "    </tr>\n",
        "    <tr>\n",
        "      <th>News/Media</th>\n",
        "      <td>  3</td>\n",
        "      <td> 0.071429</td>\n",
        "      <td> /r/MapPorn/</td>\n",
        "      <td> t5_2si92</td>\n",
        "      <td> 198856</td>\n",
        "      <td> True</td>\n",
        "      <td> False</td>\n",
        "    </tr>\n",
        "    <tr>\n",
        "      <th>Visual Search Engines  Forums/Message boards</th>\n",
        "      <td>  2</td>\n",
        "      <td> 0.047619</td>\n",
        "      <td> /r/MapPorn/</td>\n",
        "      <td> t5_2si92</td>\n",
        "      <td> 198856</td>\n",
        "      <td> True</td>\n",
        "      <td> False</td>\n",
        "    </tr>\n",
        "    <tr>\n",
        "      <th>Blogs</th>\n",
        "      <td>  1</td>\n",
        "      <td> 0.023810</td>\n",
        "      <td> /r/MapPorn/</td>\n",
        "      <td> t5_2si92</td>\n",
        "      <td> 198856</td>\n",
        "      <td> True</td>\n",
        "      <td> False</td>\n",
        "    </tr>\n",
        "  </tbody>\n",
        "</table>\n",
        "</div>"
       ],
       "metadata": {},
       "output_type": "pyout",
       "prompt_number": 11,
       "text": [
        "                                                             instances  \\\n",
        "subreddit_name category                                                  \n",
        "MapPorn        Classifieds/Photo Sharing  Photo Sharing             27   \n",
        "               Photo Sharing                                         9   \n",
        "               News/Media                                            3   \n",
        "               Visual Search Engines  Forums/Message boards          2   \n",
        "               Blogs                                                 1   \n",
        "\n",
        "                                                                ratio  \\\n",
        "subreddit_name category                                                 \n",
        "MapPorn        Classifieds/Photo Sharing  Photo Sharing      0.642857   \n",
        "               Photo Sharing                                 0.214286   \n",
        "               News/Media                                    0.071429   \n",
        "               Visual Search Engines  Forums/Message boards  0.047619   \n",
        "               Blogs                                         0.023810   \n",
        "\n",
        "                                                            subreddit_title  \\\n",
        "subreddit_name category                                                       \n",
        "MapPorn        Classifieds/Photo Sharing  Photo Sharing         /r/MapPorn/   \n",
        "               Photo Sharing                                    /r/MapPorn/   \n",
        "               News/Media                                       /r/MapPorn/   \n",
        "               Visual Search Engines  Forums/Message boards     /r/MapPorn/   \n",
        "               Blogs                                            /r/MapPorn/   \n",
        "\n",
        "                                                            subreddit_id  \\\n",
        "subreddit_name category                                                    \n",
        "MapPorn        Classifieds/Photo Sharing  Photo Sharing         t5_2si92   \n",
        "               Photo Sharing                                    t5_2si92   \n",
        "               News/Media                                       t5_2si92   \n",
        "               Visual Search Engines  Forums/Message boards     t5_2si92   \n",
        "               Blogs                                            t5_2si92   \n",
        "\n",
        "                                                             num_subscribers  \\\n",
        "subreddit_name category                                                        \n",
        "MapPorn        Classifieds/Photo Sharing  Photo Sharing               198856   \n",
        "               Photo Sharing                                          198856   \n",
        "               News/Media                                             198856   \n",
        "               Visual Search Engines  Forums/Message boards           198856   \n",
        "               Blogs                                                  198856   \n",
        "\n",
        "                                                            public mature  \n",
        "subreddit_name category                                                    \n",
        "MapPorn        Classifieds/Photo Sharing  Photo Sharing       True  False  \n",
        "               Photo Sharing                                  True  False  \n",
        "               News/Media                                     True  False  \n",
        "               Visual Search Engines  Forums/Message boards   True  False  \n",
        "               Blogs                                          True  False  "
       ]
      }
     ],
     "prompt_number": 11
    },
    {
     "cell_type": "code",
     "collapsed": false,
     "input": [
      "def calculate_category_factor(post):\n",
      "    # get category of post\n",
      "    url = post_df['url'].ix[post]\n",
      "    domain = get_domain(url)\n",
      "    category = get_category(domain)\n",
      "    \n",
      "    subreddit_dict = {}\n",
      "    global_average_ratio = 0\n",
      "    try:\n",
      "        global_average_ratio = cat_ratio_nparray[category]\n",
      "    except KeyError:\n",
      "        pass\n",
      "    for subreddit in valid_subreddits:\n",
      "        final_cat_df_section = pd.DataFrame(columns = final_categories_df.columns)\n",
      "        final_cat_df_row = pd.DataFrame(columns = final_categories_df.columns)\n",
      "        try:\n",
      "            final_cat_df_section = final_categories_df.ix[subreddit]\n",
      "        except KeyError:\n",
      "            pass\n",
      "        try:\n",
      "            final_cat_df_row = final_categories_df.ix[subreddit].ix[category]\n",
      "        except KeyError:\n",
      "            pass\n",
      "        category_val = 0\n",
      "        if not final_cat_df_row.empty:\n",
      "            category_val = final_cat_df_section['ratio'].iloc[0] - global_average_ratio\n",
      "        elif not final_cat_df_section.empty:\n",
      "            category_val = 0 - global_average_ratio\n",
      "        subreddit_dict[subreddit] = category_val\n",
      "    return subreddit_dict"
     ],
     "language": "python",
     "metadata": {},
     "outputs": [],
     "prompt_number": 12
    },
    {
     "cell_type": "markdown",
     "metadata": {},
     "source": [
      "** Step 3: Post history factor **\n",
      "\n",
      "Build post history factor"
     ]
    },
    {
     "cell_type": "code",
     "collapsed": false,
     "input": [
      "def calculate_user_post_history_factor(user,post_date):\n",
      "    user_data = all_users_dict[user]\n",
      "    user_post_df = user_data['user_post_df']\n",
      "    past_subreddits = list(user_post_df[user_post_df['published_date'] < post_date]['subreddit_id'])\n",
      "    subreddit_dict = {}\n",
      "    for subreddit in valid_subreddits:\n",
      "        subreddit_dict[subreddit] = past_subreddits.count(subreddit)\n",
      "    return subreddit_dict"
     ],
     "language": "python",
     "metadata": {},
     "outputs": [],
     "prompt_number": 13
    },
    {
     "cell_type": "markdown",
     "metadata": {},
     "source": [
      "** Step 4: Liked history factor **\n",
      "\n",
      "Build liked history factor"
     ]
    },
    {
     "cell_type": "code",
     "collapsed": false,
     "input": [
      "def calculate_user_liked_history_factor(user,post_date):\n",
      "    user_data = all_users_dict[user]\n",
      "    user_liked_df = user_data['user_liked_df']\n",
      "    past_subreddits = list(user_liked_df[user_liked_df['published_date'] < post_date]['subreddit_id'])\n",
      "    subreddit_dict = {}\n",
      "    for subreddit in valid_subreddits:\n",
      "        subreddit_dict[subreddit] = past_subreddits.count(subreddit)\n",
      "    return subreddit_dict"
     ],
     "language": "python",
     "metadata": {},
     "outputs": [],
     "prompt_number": 14
    },
    {
     "cell_type": "markdown",
     "metadata": {},
     "source": [
      "** Step 5: default recommendation factor **\n",
      "\n",
      "Build default recommendation factor"
     ]
    },
    {
     "cell_type": "code",
     "collapsed": false,
     "input": [
      "f = open('default_subreddits.txt', 'r')\n",
      "default_recommended_subreddits_abridged = []\n",
      "for item in f.readlines():\n",
      "    default_recommended_subreddits_abridged.append(item[1:-4])\n",
      "print default_recommended_subreddits_abridged"
     ],
     "language": "python",
     "metadata": {},
     "outputs": [
      {
       "output_type": "stream",
       "stream": "stdout",
       "text": [
        "['2qzb6', '2qh7a', '2qh1i', '2qm4e', '2qh1o', '2qh4i', '2raed', '2tk95', '2qh7d', '2qhlh', '2sbq3', '2sokd', '2qhx4', '2qh55', '2qh33', '2t7no', '2qgzt', '2qh03', '2rmfx', '2qt55', '2qh53', '2ul7u', '2qh72', '2s5oq', '2qxzy', '2ti4h', '2qh3s', '2qh1u', '2qh3l', '2rm4d', '2qnts', '2tycb', '2qstm', '2qh5b', '2tecy', '2qh0u', 'mouw', '2szyo', '2qh87', '2qgzy', '2qh6e', '2to41', '2qqjc', '2r2jt', '2u3ta', '2qh1e', '2qh13', '2s3nb']\n"
       ]
      }
     ],
     "prompt_number": 15
    },
    {
     "cell_type": "code",
     "collapsed": false,
     "input": [
      "default_recommended_subreddits = [str('t5_' + sr) for sr in default_recommended_subreddits_abridged]\n",
      "\n",
      "# returns a dictionary of valid_subreddits and associated scores\n",
      "def calculate_default_recommendation_factor():\n",
      "    subreddit_dict = {}\n",
      "    for subreddit in valid_subreddits:\n",
      "        if subreddit in default_recommended_subreddits:\n",
      "            subreddit_dict[subreddit] = 1\n",
      "        else:\n",
      "            subreddit_dict[subreddit] = 0\n",
      "    return subreddit_dict\n"
     ],
     "language": "python",
     "metadata": {},
     "outputs": [],
     "prompt_number": 16
    },
    {
     "cell_type": "markdown",
     "metadata": {},
     "source": [
      "** Step 6: Combine factors **\n",
      "\n",
      "Combine the different factors and test on the data"
     ]
    },
    {
     "cell_type": "code",
     "collapsed": false,
     "input": [
      "# category factor computationally expensive; sometimes exclude\n",
      "INCLUDE_CATEGORY_FACTOR = False\n",
      "\n",
      "#parameters (weighting for each factor)\n",
      "w_post_hist = 1\n",
      "w_liked_hist = 0.5\n",
      "w_category = 1\n",
      "w_default = 0.1\n",
      "\n",
      "# generate a diction with valid subreddits as keys that map to 0s\n",
      "def generate_zeroed_subreddit_dict():  \n",
      "    subreddit_dict = {}\n",
      "    for subreddit in valid_subreddits:\n",
      "        subreddit_dict[subreddit] = 0\n",
      "    return subreddit_dict\n",
      "\n",
      "# generate recommendation. Returns a list of subreddits\n",
      "def generate_recommendation(user,post,post_date):\n",
      "    user_post_history_factor = calculate_user_post_history_factor(user,post_date)\n",
      "    user_liked_history_factor = calculate_user_liked_history_factor(user,post_date)\n",
      "    category_factor = generate_zeroed_subreddit_dict()\n",
      "    if INCLUDE_CATEGORY_FACTOR:\n",
      "        category_factor = calculate_category_factor(post)\n",
      "    default_recommendation_factor = calculate_default_recommendation_factor()\n",
      "    \n",
      "    total_factor = {}\n",
      "    for subreddit in valid_subreddits:\n",
      "        total_factor[subreddit] = w_post_hist * user_post_history_factor[subreddit] \\\n",
      "                                + w_liked_hist * user_liked_history_factor[subreddit] \\\n",
      "                                + w_category * category_factor[subreddit] \\\n",
      "                                + w_default * default_recommendation_factor[subreddit]\n",
      "    ordered_subreddit_tuples = sorted(total_factor.items(),key=lambda x: x[1])\n",
      "    winning_subreddit_tuples = ordered_subreddit_tuples[-NUM_RECOMMENDATIONS:]\n",
      "    winning_subreddits = [subreddit_tuple[0] for subreddit_tuple in winning_subreddit_tuples]\n",
      "    return winning_subreddits"
     ],
     "language": "python",
     "metadata": {},
     "outputs": [],
     "prompt_number": 20
    },
    {
     "cell_type": "code",
     "collapsed": false,
     "input": [
      "successes = 0\n",
      "failures = 0\n",
      "\n",
      "# for testing, replace with test_users\n",
      "for user in train_users:\n",
      "    user_data = all_users_dict[user]\n",
      "    for post in user_data['test_posts']:\n",
      "        post_date = user_data['user_post_df'].ix[post]['published_date']\n",
      "        recommended_subreddits = generate_recommendation(user,post,post_date)\n",
      "        correct_subreddit = user_data['user_post_df'].ix[post]['subreddit_id']\n",
      "        if correct_subreddit in recommended_subreddits:\n",
      "            successes +=1\n",
      "        else: \n",
      "            failures +=1\n",
      "    # print status about once per 100 users\n",
      "    if (failures+successes) % 100 == 0:\n",
      "        print successes,failures\n",
      "print successes, failures"
     ],
     "language": "python",
     "metadata": {},
     "outputs": [
      {
       "output_type": "stream",
       "stream": "stdout",
       "text": [
        "402 398\n",
        "617"
       ]
      },
      {
       "output_type": "stream",
       "stream": "stdout",
       "text": [
        " 583\n",
        "5527"
       ]
      },
      {
       "output_type": "stream",
       "stream": "stdout",
       "text": [
        " 4773\n",
        "5713"
       ]
      },
      {
       "output_type": "stream",
       "stream": "stdout",
       "text": [
        " 4987\n",
        "8140"
       ]
      },
      {
       "output_type": "stream",
       "stream": "stdout",
       "text": [
        " 6860\n",
        "9098"
       ]
      },
      {
       "output_type": "stream",
       "stream": "stdout",
       "text": [
        " 7802\n",
        "9743"
       ]
      },
      {
       "output_type": "stream",
       "stream": "stdout",
       "text": [
        " 8457\n",
        "12704"
       ]
      },
      {
       "output_type": "stream",
       "stream": "stdout",
       "text": [
        " 11396\n",
        "15533"
       ]
      },
      {
       "output_type": "stream",
       "stream": "stdout",
       "text": [
        " 13667\n",
        "17167"
       ]
      },
      {
       "output_type": "stream",
       "stream": "stdout",
       "text": [
        " 15033\n",
        "18488"
       ]
      },
      {
       "output_type": "stream",
       "stream": "stdout",
       "text": [
        " 16112\n",
        "18690"
       ]
      },
      {
       "output_type": "stream",
       "stream": "stdout",
       "text": [
        " 16210\n",
        "23262"
       ]
      },
      {
       "output_type": "stream",
       "stream": "stdout",
       "text": [
        " 20438\n",
        "27349"
       ]
      },
      {
       "output_type": "stream",
       "stream": "stdout",
       "text": [
        " 23964\n"
       ]
      }
     ],
     "prompt_number": 21
    },
    {
     "cell_type": "code",
     "collapsed": false,
     "input": [],
     "language": "python",
     "metadata": {},
     "outputs": []
    }
   ],
   "metadata": {}
  }
 ]
}